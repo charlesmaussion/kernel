{
 "cells": [
  {
   "cell_type": "code",
   "execution_count": 58,
   "metadata": {
    "collapsed": false
   },
   "outputs": [],
   "source": [
    "import numpy as np"
   ]
  },
  {
   "cell_type": "code",
   "execution_count": 192,
   "metadata": {
    "collapsed": true
   },
   "outputs": [],
   "source": [
    "def train_test_split(X, y, K, test_size=0.1, verbose=True):\n",
    "    '''\n",
    "    Splits a dataset (X,y) into a training and a testing set while preserving the same ratio of positive labels in the\n",
    "    training and testing sets as in the initial dataset. The function also returns two kernel matrices for training and\n",
    "    testing which entries are computed according to the shuffling operated on the initial dataset before splitting into\n",
    "    training and testing, i.e. K_train[i,j] = K[X_train[i], X_train[j]] and K_test[i,j] = K[X_test[i], X_train[j]]\n",
    "    \n",
    "    Arguments :\n",
    "    - X : a 2d array of features containing as many rows as there are samples in the dataset\n",
    "    - y : a 1d array containing the labels of the dataset\n",
    "    - test_size : a float representing the ratio of the initial data that the testing set should contain (default 0.1)\n",
    "    - verbose : a Boolean stating whether or not the function should print information about the the initial dataset \n",
    "                such as number of samples, ratio of positive samples, etc. (default True)\n",
    "                \n",
    "    Outputs : \n",
    "    A tuple of length 6 containing:\n",
    "    - X_train : a 2d array containing the training data\n",
    "    - X_test : a 2d array containing the testing data\n",
    "    - y_train : a 1d array containing the training labels\n",
    "    - y_test : a 1d array containing the testing labels\n",
    "    - K_train : a 2d array containing the training kernel matrix\n",
    "    - K_test : a 2d array containing the kernel matrix for predicting\n",
    "    '''\n",
    "    ## Getting number of examples and range of indices\n",
    "    n = len(y)\n",
    "    assert n == X.shape[0] == K.shape[0]\n",
    "    indices = np.arange(n)\n",
    "    \n",
    "    ## Splitting indices according to labels\n",
    "    target_values = np.sort(np.unique(y))\n",
    "    assert(len(target_values == 2))\n",
    "    positives = y==target_values[1]\n",
    "    negatives = y==target_values[0]\n",
    "    positive_indices = indices[positives]\n",
    "    negative_indices = indices[negatives]\n",
    "    \n",
    "    ## Getting number of examples of each class\n",
    "    n_pos = len(positive_indices)\n",
    "    n_neg = len(negative_indices)\n",
    "    assert n_pos + n_neg == n\n",
    "    \n",
    "    if verbose:\n",
    "        print('Total number of examples : {}'.format(n))\n",
    "        print('Ratio of positive samples : {:.2f}'.format(n_pos/n))\n",
    "        print('Ratio of negative to positive labels in the data : {:.2f}'.format(n_pos/n_neg))\n",
    "    \n",
    "    ## Shuffing Positives\n",
    "    shuffled_positive_indices = positive_indices.copy()\n",
    "    np.random.shuffle(shuffled_positive_indices)\n",
    "    max_index_train_positives = n_pos - int(np.ceil(test_size*n_pos))\n",
    "    train_pos_indices = shuffled_positive_indices[:max_index_train_positives]\n",
    "    test_pos_indices = shuffled_positive_indices[max_index_train_positives:]\n",
    "    \n",
    "    ## Shuffling negatives\n",
    "    shuffled_negative_indices = negative_indices.copy()\n",
    "    np.random.shuffle(shuffled_negative_indices)\n",
    "    max_index_train_negatives = n_neg - int(np.ceil(test_size*n_neg))\n",
    "    train_neg_indices = shuffled_negative_indices[:max_index_train_negatives]\n",
    "    test_neg_indices = shuffled_negative_indices[max_index_train_negatives:]\n",
    "    \n",
    "    ## Combining train indices from positives and negatives an re-shuffling\n",
    "    train_indices = np.concatenate((train_pos_indices, train_neg_indices), axis=0)\n",
    "    test_indices = np.concatenate((test_pos_indices, test_neg_indices), axis=0)\n",
    "    np.random.shuffle(train_indices)\n",
    "    np.random.shuffle(test_indices)\n",
    "    \n",
    "    ## Producing trrain and test arrays from previously computed indices\n",
    "    X_train = X[train_indices,:]\n",
    "    y_train = y[train_indices]\n",
    "    X_test = X[test_indices,:]\n",
    "    y_test = y[test_indices]\n",
    "    \n",
    "    K_train = K[train_indices,:][:,train_indices]\n",
    "    K_test = K[test_indices,:][:,train_indices]\n",
    "    \n",
    "    return X_train, X_test, y_train, y_test, K_train, K_test"
   ]
  },
  {
   "cell_type": "code",
   "execution_count": null,
   "metadata": {
    "collapsed": true
   },
   "outputs": [],
   "source": []
  }
 ],
 "metadata": {
  "anaconda-cloud": {},
  "kernelspec": {
   "display_name": "Python [Root]",
   "language": "python",
   "name": "Python [Root]"
  },
  "language_info": {
   "codemirror_mode": {
    "name": "ipython",
    "version": 3
   },
   "file_extension": ".py",
   "mimetype": "text/x-python",
   "name": "python",
   "nbconvert_exporter": "python",
   "pygments_lexer": "ipython3",
   "version": "3.5.2"
  }
 },
 "nbformat": 4,
 "nbformat_minor": 0
}
