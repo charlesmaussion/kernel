{
 "cells": [
  {
   "cell_type": "code",
   "execution_count": 1,
   "metadata": {
    "collapsed": true
   },
   "outputs": [],
   "source": [
    "from kernels import * \n",
    "from learning_models import *\n",
    "from tools import *\n",
    "import pandas as pd\n",
    "import numpy as np\n",
    "from time import time \n",
    "from sklearn.svm import SVC\n",
    "from autoreload import superreload"
   ]
  },
  {
   "cell_type": "code",
   "execution_count": 2,
   "metadata": {
    "collapsed": false
   },
   "outputs": [],
   "source": [
    "%load_ext autoreload\n",
    "%autoreload 2"
   ]
  },
  {
   "cell_type": "code",
   "execution_count": 3,
   "metadata": {
    "collapsed": false
   },
   "outputs": [],
   "source": [
    "dataX = pd.read_csv(\"Data/Train/Xtr0.csv\", header=None)"
   ]
  },
  {
   "cell_type": "code",
   "execution_count": 4,
   "metadata": {
    "collapsed": false
   },
   "outputs": [
    {
     "data": {
      "text/html": [
       "<div>\n",
       "<table border=\"1\" class=\"dataframe\">\n",
       "  <thead>\n",
       "    <tr style=\"text-align: right;\">\n",
       "      <th></th>\n",
       "      <th>0</th>\n",
       "    </tr>\n",
       "  </thead>\n",
       "  <tbody>\n",
       "    <tr>\n",
       "      <th>0</th>\n",
       "      <td>TCCTCAACTTTTATTGGGCCGCTGTGGCACCAGAATCTACGAATGG...</td>\n",
       "    </tr>\n",
       "    <tr>\n",
       "      <th>1</th>\n",
       "      <td>CGGAGTGATTCAGCAAGAAGGCTCAGACCATTTACACTTCTCCTCA...</td>\n",
       "    </tr>\n",
       "    <tr>\n",
       "      <th>2</th>\n",
       "      <td>GCCTCAGGCACTCTCCAGATGGTTAAGATATGGTGTAAGTGTATGT...</td>\n",
       "    </tr>\n",
       "    <tr>\n",
       "      <th>3</th>\n",
       "      <td>TCAGTCGCCTGGCCTTCCAGCCTCACAGGCAAGATAAGCCACCCTC...</td>\n",
       "    </tr>\n",
       "    <tr>\n",
       "      <th>4</th>\n",
       "      <td>CTTAATGGAAAAATTAGATTATGGGTTGGCTTACCTGGATTTACCT...</td>\n",
       "    </tr>\n",
       "  </tbody>\n",
       "</table>\n",
       "</div>"
      ],
      "text/plain": [
       "                                                   0\n",
       "0  TCCTCAACTTTTATTGGGCCGCTGTGGCACCAGAATCTACGAATGG...\n",
       "1  CGGAGTGATTCAGCAAGAAGGCTCAGACCATTTACACTTCTCCTCA...\n",
       "2  GCCTCAGGCACTCTCCAGATGGTTAAGATATGGTGTAAGTGTATGT...\n",
       "3  TCAGTCGCCTGGCCTTCCAGCCTCACAGGCAAGATAAGCCACCCTC...\n",
       "4  CTTAATGGAAAAATTAGATTATGGGTTGGCTTACCTGGATTTACCT..."
      ]
     },
     "execution_count": 4,
     "metadata": {},
     "output_type": "execute_result"
    }
   ],
   "source": [
    "dataX.head()"
   ]
  },
  {
   "cell_type": "code",
   "execution_count": 5,
   "metadata": {
    "collapsed": true
   },
   "outputs": [],
   "source": [
    "data = dataX[0].values.tolist()"
   ]
  },
  {
   "cell_type": "code",
   "execution_count": 6,
   "metadata": {
    "collapsed": false
   },
   "outputs": [
    {
     "data": {
      "text/plain": [
       "['TCCTCAACTTTTATTGGGCCGCTGTGGCACCAGAATCTACGAATGGCGCCCTCTAGAGTTGTGTAAAGAAGTGGCGTCACCTCATTATAAATAAAAGGTTG',\n",
       " 'CGGAGTGATTCAGCAAGAAGGCTCAGACCATTTACACTTCTCCTCACAGGGCAAAGACTTCTCAGAGACAACTAATATGGCCTAGTGCCTAGTCATTGGAC',\n",
       " 'GCCTCAGGCACTCTCCAGATGGTTAAGATATGGTGTAAGTGTATGTGCGTGTCTGGCTGCAGTTGATAGTTGGGCAAAGAGGAAACTATCACAAAGAGGAA',\n",
       " 'TCAGTCGCCTGGCCTTCCAGCCTCACAGGCAAGATAAGCCACCCTCACAGACTTCTCTGTGCTCCCATCTAAACATCTAAATCAGCCATCTGGTTTCCTTA',\n",
       " 'CTTAATGGAAAAATTAGATTATGGGTTGGCTTACCTGGATTTACCTAGAGTGTCTGCCATGTCTATCAATTGGATTACGGGGCTTTTATTGATTAGGGGGA',\n",
       " 'GAAACAAGCTAATATAAGGTGGGGGCCTGAAAATTTTATCCAATGGTCATTTAAGAATCGCAATCAATGTCCTCTAGATATATAATTCACCTAAATACGGA',\n",
       " 'CTTTCTTATCTGTGTGGCTGTGGGCGTGTCTTTGGCAAGCCCCACTGTGAGAGTTCCCTTATCTATGCCTGCAGGCTGTTCTTTTATTTGAAAGAATTCAG',\n",
       " 'TGATTACTGCATGGAAAAGGGGCCAGGGCAATTACTAGAGGGCTCAATCCCAGTAAGGGGATGTGTACCAGGGAGGGTTGCTTTGACAGGAGATCAGTCTA',\n",
       " 'GAGATTCTTAACATGCAACCACAAATCGATGCAGTTATGGATCATGTTGAATGGCAACTCACCTGGCAGTGGAGAGCAGAGTTGTTGGCAATCACATATGA',\n",
       " 'GGGGACTTCTTGAACTGAGCTCCTAGAGCAGCTGGGGTTGTGATCGTGGTTCAGACACTCTCTAGGAGGCCCGAGCGGCAACTCAGGGGACAATGACATTT']"
      ]
     },
     "execution_count": 6,
     "metadata": {},
     "output_type": "execute_result"
    }
   ],
   "source": [
    "data[:10]"
   ]
  },
  {
   "cell_type": "code",
   "execution_count": 7,
   "metadata": {
    "collapsed": true
   },
   "outputs": [],
   "source": [
    "d = []\n",
    "for i in range(len(data)):\n",
    "    s = data[i].replace(\"A\", \"0\")\n",
    "    s = s.replace(\"T\", \"1\")\n",
    "    s = s.replace(\"C\", \"2\")\n",
    "    s = s.replace(\"G\", \"3\")\n",
    "    d.append(list(map(int, s)))\n",
    "data = d"
   ]
  },
  {
   "cell_type": "code",
   "execution_count": 8,
   "metadata": {
    "collapsed": true
   },
   "outputs": [],
   "source": [
    "del dataX"
   ]
  },
  {
   "cell_type": "code",
   "execution_count": 11,
   "metadata": {
    "collapsed": false
   },
   "outputs": [
    {
     "name": "stdout",
     "output_type": "stream",
     "text": [
      "-------- Computing mismatch kernel --------\n",
      "-------- Done in 90.561 minutes --------\n"
     ]
    }
   ],
   "source": [
    "trie = MismatchTrie(verbose=0)\n",
    "print(\"-------- Computing mismatch kernel --------\")\n",
    "start = time()\n",
    "kern = trie.traverse(data, 4, 5, 1)[0]\n",
    "#kern = normalize_kernel(kern)\n",
    "end = time()\n",
    "print(\"-------- Done in {:.3f} minutes --------\".format((end-start)/60))"
   ]
  },
  {
   "cell_type": "code",
   "execution_count": 13,
   "metadata": {
    "collapsed": false
   },
   "outputs": [
    {
     "data": {
      "text/plain": [
       "(2000, 2000)"
      ]
     },
     "execution_count": 13,
     "metadata": {},
     "output_type": "execute_result"
    }
   ],
   "source": [
    "kern.shape"
   ]
  },
  {
   "cell_type": "code",
   "execution_count": 14,
   "metadata": {
    "collapsed": true
   },
   "outputs": [],
   "source": [
    "kern_data = pd.DataFrame(kern)"
   ]
  },
  {
   "cell_type": "code",
   "execution_count": 15,
   "metadata": {
    "collapsed": true
   },
   "outputs": [],
   "source": [
    "kern_data.to_csv('Kernel_MisMatch_4_1.csv')"
   ]
  },
  {
   "cell_type": "code",
   "execution_count": null,
   "metadata": {
    "collapsed": true
   },
   "outputs": [],
   "source": []
  },
  {
   "cell_type": "code",
   "execution_count": null,
   "metadata": {
    "collapsed": true
   },
   "outputs": [],
   "source": [
    "dataY.to_csv()"
   ]
  },
  {
   "cell_type": "code",
   "execution_count": 33,
   "metadata": {
    "collapsed": false
   },
   "outputs": [
    {
     "data": {
      "text/plain": [
       "(2000, 101)"
      ]
     },
     "execution_count": 33,
     "metadata": {},
     "output_type": "execute_result"
    }
   ],
   "source": [
    "np.array(data).shape"
   ]
  },
  {
   "cell_type": "code",
   "execution_count": 16,
   "metadata": {
    "collapsed": false
   },
   "outputs": [],
   "source": [
    "dataY = pd.read_csv(\"Data/Train/Ytr0.csv\", index_col=0)\n",
    "y = dataY['Bound'].values\n",
    "X = np.array(data)\n",
    "K = kern"
   ]
  },
  {
   "cell_type": "code",
   "execution_count": 17,
   "metadata": {
    "collapsed": false
   },
   "outputs": [],
   "source": [
    "kern = normalize_kernel(kern)"
   ]
  },
  {
   "cell_type": "code",
   "execution_count": 54,
   "metadata": {
    "collapsed": false
   },
   "outputs": [
    {
     "name": "stdout",
     "output_type": "stream",
     "text": [
      "Total number of examples : 2000\n",
      "Ratio of positive samples : 0.50\n",
      "Ratio of negative to positive labels in the data : 1.00\n"
     ]
    }
   ],
   "source": [
    "X_train, X_test, y_train, y_test, K_train, K_test = train_test_split(X,y,kern,test_size=0.1)"
   ]
  },
  {
   "cell_type": "code",
   "execution_count": 45,
   "metadata": {
    "collapsed": true
   },
   "outputs": [],
   "source": [
    "X_train, X_test, y_train, y_test, K_train, K_test = K_train_test_split(X,y,kern,test_size=0.2)"
   ]
  },
  {
   "cell_type": "code",
   "execution_count": 55,
   "metadata": {
    "collapsed": false,
    "scrolled": false
   },
   "outputs": [
    {
     "name": "stdout",
     "output_type": "stream",
     "text": [
      "\n",
      "\t\t\t######## y has been reformated to {-1,1} ########\n",
      "\n"
     ]
    },
    {
     "name": "stderr",
     "output_type": "stream",
     "text": [
      "/Users/karlhajjar/anaconda/lib/python3.5/site-packages/cvxopt/coneprog.py:2111: FutureWarning: elementwise comparison failed; returning scalar instead, but in the future will perform elementwise comparison\n",
      "  if 'x' in initvals:\n",
      "/Users/karlhajjar/anaconda/lib/python3.5/site-packages/cvxopt/coneprog.py:2116: FutureWarning: elementwise comparison failed; returning scalar instead, but in the future will perform elementwise comparison\n",
      "  if 's' in initvals:\n",
      "/Users/karlhajjar/anaconda/lib/python3.5/site-packages/cvxopt/coneprog.py:2131: FutureWarning: elementwise comparison failed; returning scalar instead, but in the future will perform elementwise comparison\n",
      "  if 'y' in initvals:\n",
      "/Users/karlhajjar/anaconda/lib/python3.5/site-packages/cvxopt/coneprog.py:2136: FutureWarning: elementwise comparison failed; returning scalar instead, but in the future will perform elementwise comparison\n",
      "  if 'z' in initvals:\n"
     ]
    },
    {
     "name": "stdout",
     "output_type": "stream",
     "text": [
      "     pcost       dcost       gap    pres   dres\n",
      " 0:  0.0000e+00 -1.0000e+00  4e+03  6e+01  1e+00\n",
      " 1: -3.5885e+00 -4.2893e+00  1e+02  2e+00  3e-02\n",
      " 2: -2.0624e+00 -2.2143e+00  2e+01  3e-01  4e-03\n",
      " 3: -8.7137e-01 -1.7635e+00  2e+00  2e-02  3e-04\n",
      " 4: -7.9391e-01 -1.0971e+00  3e-01  5e-18  5e-15\n",
      " 5: -8.9266e-01 -9.2526e-01  3e-02  5e-18  5e-15\n",
      " 6: -9.0552e-01 -9.0783e-01  2e-03  5e-18  6e-15\n",
      " 7: -9.0641e-01 -9.0683e-01  4e-04  5e-18  5e-15\n",
      " 8: -9.0656e-01 -9.0667e-01  1e-04  5e-18  5e-15\n",
      " 9: -9.0661e-01 -9.0661e-01  3e-06  5e-18  6e-15\n",
      "10: -9.0661e-01 -9.0661e-01  3e-08  5e-18  6e-15\n",
      "Optimal solution found.\n",
      "\n",
      "\n",
      "------ Lambda = 0.001 ------\n",
      "Train accuracy score = 0.743\n",
      "Test accuracy score = 0.610\n",
      "\n",
      "\n",
      "\n",
      "\t\t\t######## y has been reformated to {-1,1} ########\n",
      "\n",
      "     pcost       dcost       gap    pres   dres\n",
      " 0:  0.0000e+00 -1.0000e+00  4e+03  6e+01  1e+00\n",
      " 1: -2.5480e+01 -1.6692e+01  5e+02  7e+00  1e-01\n",
      " 2: -9.1937e+00 -3.7764e+00  9e+01  1e+00  2e-02\n",
      " 3: -1.8851e+00 -1.9509e+00  1e+01  1e-01  2e-03\n",
      " 4: -8.0406e-01 -1.6715e+00  9e-01  2e-17  2e-15\n",
      " 5: -9.2046e-01 -1.1212e+00  2e-01  6e-18  2e-15\n",
      " 6: -9.8636e-01 -9.9643e-01  1e-02  5e-18  2e-15\n",
      " 7: -9.9062e-01 -9.9072e-01  1e-04  5e-18  2e-15\n",
      " 8: -9.9066e-01 -9.9066e-01  1e-06  5e-18  2e-15\n",
      " 9: -9.9066e-01 -9.9066e-01  1e-08  6e-18  2e-15\n",
      "Optimal solution found.\n",
      "\n",
      "\n",
      "------ Lambda = 0.01 ------\n",
      "Train accuracy score = 0.746\n",
      "Test accuracy score = 0.615\n",
      "\n",
      "\n",
      "\n",
      "\t\t\t######## y has been reformated to {-1,1} ########\n",
      "\n",
      "     pcost       dcost       gap    pres   dres\n",
      " 0:  0.0000e+00 -1.0000e+00  4e+03  6e+01  1e+00\n",
      " 1: -5.9027e+01 -2.8152e+01  7e+02  1e+01  2e-01\n",
      " 2: -1.4965e+01 -3.6492e+00  1e+02  2e+00  3e-02\n",
      " 3: -1.1635e+00 -1.8411e+00  5e+00  6e-02  1e-03\n",
      " 4: -8.1760e-01 -1.4311e+00  6e-01  8e-18  2e-15\n",
      " 5: -9.6090e-01 -1.0469e+00  9e-02  5e-18  2e-15\n",
      " 6: -9.9765e-01 -9.9871e-01  1e-03  5e-18  2e-15\n",
      " 7: -9.9813e-01 -9.9814e-01  1e-05  5e-18  2e-15\n",
      " 8: -9.9813e-01 -9.9813e-01  1e-07  5e-18  2e-15\n",
      "Optimal solution found.\n",
      "\n",
      "\n",
      "------ Lambda = 0.05 ------\n",
      "Train accuracy score = 0.746\n",
      "Test accuracy score = 0.615\n",
      "\n",
      "\n",
      "\n",
      "\t\t\t######## y has been reformated to {-1,1} ########\n",
      "\n",
      "     pcost       dcost       gap    pres   dres\n",
      " 0:  0.0000e+00 -1.0000e+00  4e+03  6e+01  1e+00\n",
      " 1: -7.1179e+01 -3.0120e+01  8e+02  1e+01  2e-01\n",
      " 2: -1.2265e+01 -2.7211e+00  1e+02  1e+00  2e-02\n",
      " 3: -8.7871e-01 -1.8052e+00  2e+00  2e-02  3e-04\n",
      " 4: -8.7566e-01 -1.1776e+00  4e-01  2e-03  3e-05\n",
      " 5: -9.7501e-01 -1.0329e+00  6e-02  1e-04  2e-06\n",
      " 6: -9.9879e-01 -9.9941e-01  7e-04  1e-06  2e-08\n",
      " 7: -9.9906e-01 -9.9907e-01  7e-06  1e-08  2e-10\n",
      " 8: -9.9907e-01 -9.9907e-01  7e-08  1e-10  2e-12\n",
      "Optimal solution found.\n",
      "\n",
      "\n",
      "------ Lambda = 0.1 ------\n",
      "Train accuracy score = 0.746\n",
      "Test accuracy score = 0.615\n",
      "\n",
      "\n",
      "\n",
      "\t\t\t######## y has been reformated to {-1,1} ########\n",
      "\n",
      "     pcost       dcost       gap    pres   dres\n",
      " 0:  0.0000e+00 -1.0000e+00  4e+03  6e+01  1e+00\n",
      " 1: -5.9863e+01 -1.4117e+01  7e+02  1e+01  2e-01\n",
      " 2: -7.2381e-01 -1.7558e+00  1e+01  1e-01  2e-03\n",
      " 3: -7.2993e-01 -1.5569e+00  8e-01  2e-17  2e-15\n",
      " 4: -9.1840e-01 -1.0941e+00  2e-01  5e-18  2e-15\n",
      " 5: -9.9778e-01 -1.0024e+00  5e-03  5e-18  2e-15\n",
      " 6: -9.9989e-01 -9.9993e-01  5e-05  6e-18  2e-15\n",
      " 7: -9.9991e-01 -9.9991e-01  5e-07  5e-18  2e-15\n",
      "Optimal solution found.\n",
      "\n",
      "\n",
      "------ Lambda = 1 ------\n",
      "Train accuracy score = 0.746\n",
      "Test accuracy score = 0.615\n",
      "\n",
      "\n",
      "\n",
      "\t\t\t######## y has been reformated to {-1,1} ########\n",
      "\n",
      "     pcost       dcost       gap    pres   dres\n",
      " 0:  0.0000e+00 -1.0000e+00  4e+03  6e+01  1e+00\n",
      " 1: -1.3924e+01 -2.4398e+00  2e+02  3e+00  5e-02\n",
      " 2: -8.3196e-01 -1.7450e+00  2e+00  2e-02  3e-04\n",
      " 3: -8.5428e-01 -1.1441e+00  3e-01  5e-04  9e-06\n",
      " 4: -9.9308e-01 -1.0086e+00  2e-02  9e-06  1e-07\n",
      " 5: -9.9992e-01 -1.0001e+00  2e-04  9e-08  1e-09\n",
      " 6: -9.9999e-01 -9.9999e-01  2e-06  9e-10  1e-11\n",
      " 7: -9.9999e-01 -9.9999e-01  2e-08  9e-12  1e-13\n",
      "Optimal solution found.\n",
      "\n",
      "\n",
      "------ Lambda = 10 ------\n",
      "Train accuracy score = 0.746\n",
      "Test accuracy score = 0.615\n",
      "\n",
      "\n",
      "\n",
      "\t\t\t######## y has been reformated to {-1,1} ########\n",
      "\n",
      "     pcost       dcost       gap    pres   dres\n",
      " 0:  0.0000e+00 -1.0000e+00  4e+03  6e+01  1e+00\n",
      " 1: -2.4586e+00 -1.7850e+00  7e+01  9e-01  1e-02\n",
      " 2: -7.3251e-01 -1.7217e+00  1e+00  3e-04  5e-06\n",
      " 3: -9.2013e-01 -1.0322e+00  1e-01  3e-05  5e-07\n",
      " 4: -9.9917e-01 -1.0006e+00  1e-03  4e-07  6e-09\n",
      " 5: -9.9999e-01 -1.0000e+00  1e-05  4e-09  6e-11\n",
      " 6: -1.0000e+00 -1.0000e+00  1e-07  4e-11  6e-13\n",
      "Optimal solution found.\n",
      "\n",
      "\n",
      "------ Lambda = 100 ------\n",
      "Train accuracy score = 0.746\n",
      "Test accuracy score = 0.615\n",
      "\n",
      "\n",
      "\n",
      "\t\t\t######## y has been reformated to {-1,1} ########\n",
      "\n",
      "     pcost       dcost       gap    pres   dres\n",
      " 0:  0.0000e+00 -1.0000e+00  4e+03  6e+01  1e+00\n",
      " 1: -1.1389e+00 -1.7643e+00  5e+01  6e-01  1e-02\n",
      " 2: -7.1794e-01 -1.7065e+00  1e+00  7e-17  2e-15\n",
      " 3: -9.2554e-01 -1.0102e+00  8e-02  7e-18  2e-15\n",
      " 4: -9.9925e-01 -1.0002e+00  9e-04  5e-18  2e-15\n",
      " 5: -9.9999e-01 -1.0000e+00  9e-06  6e-18  2e-15\n",
      " 6: -1.0000e+00 -1.0000e+00  9e-08  5e-18  2e-15\n",
      "Optimal solution found.\n",
      "\n",
      "\n",
      "------ Lambda = 1000 ------\n",
      "Train accuracy score = 0.746\n",
      "Test accuracy score = 0.615\n",
      "\n",
      "\n"
     ]
    }
   ],
   "source": [
    "res = []\n",
    "for lmdb in [0.001,0.01,0.05,0.1,1,10,100,1000]:\n",
    "    model = SVM(lmbd=lmdb)\n",
    "    model.train(K_train, y_train)\n",
    "    y_train_pred = model.predict(K_train)\n",
    "    y_test_pred = model.predict(K_test)\n",
    "    train_score = accuracy_score(y_train, y_train_pred)\n",
    "    test_score = accuracy_score(y_test, y_test_pred)\n",
    "    print(\"\\n\\n------ Lambda = {} ------\".format(lmdb))\n",
    "    print('Train accuracy score = {:.3f}'.format(train_score))\n",
    "    print('Test accuracy score = {:.3f}\\n\\n'.format(test_score))\n",
    "    res.append([lmdb,test_score])"
   ]
  },
  {
   "cell_type": "code",
   "execution_count": 56,
   "metadata": {
    "collapsed": false
   },
   "outputs": [
    {
     "name": "stdout",
     "output_type": "stream",
     "text": [
      "[1000, 0.615]\n"
     ]
    }
   ],
   "source": [
    "best_pred = sorted(res, key = lambda x:x[1])[-1]\n",
    "print(best_pred)"
   ]
  },
  {
   "cell_type": "code",
   "execution_count": 27,
   "metadata": {
    "collapsed": false
   },
   "outputs": [
    {
     "name": "stdout",
     "output_type": "stream",
     "text": [
      "100000\n"
     ]
    }
   ],
   "source": [
    "print(lmbd)"
   ]
  },
  {
   "cell_type": "code",
   "execution_count": 50,
   "metadata": {
    "collapsed": false
   },
   "outputs": [
    {
     "name": "stdout",
     "output_type": "stream",
     "text": [
      "\n",
      "\t\t\t######## y has been reformated to {-1,1} ########\n",
      "\n"
     ]
    },
    {
     "name": "stderr",
     "output_type": "stream",
     "text": [
      "/Users/karlhajjar/anaconda/lib/python3.5/site-packages/cvxopt/coneprog.py:2111: FutureWarning: elementwise comparison failed; returning scalar instead, but in the future will perform elementwise comparison\n",
      "  if 'x' in initvals:\n",
      "/Users/karlhajjar/anaconda/lib/python3.5/site-packages/cvxopt/coneprog.py:2116: FutureWarning: elementwise comparison failed; returning scalar instead, but in the future will perform elementwise comparison\n",
      "  if 's' in initvals:\n",
      "/Users/karlhajjar/anaconda/lib/python3.5/site-packages/cvxopt/coneprog.py:2131: FutureWarning: elementwise comparison failed; returning scalar instead, but in the future will perform elementwise comparison\n",
      "  if 'y' in initvals:\n",
      "/Users/karlhajjar/anaconda/lib/python3.5/site-packages/cvxopt/coneprog.py:2136: FutureWarning: elementwise comparison failed; returning scalar instead, but in the future will perform elementwise comparison\n",
      "  if 'z' in initvals:\n"
     ]
    },
    {
     "name": "stdout",
     "output_type": "stream",
     "text": [
      "     pcost       dcost       gap    pres   dres\n",
      " 0:  0.0000e+00 -1.0000e+00  3e+03  6e+01  1e+00\n",
      " 1: -9.9134e-01 -1.7627e+00  4e+01  6e-01  1e-02\n",
      " 2: -7.1732e-01 -1.6974e+00  1e+00  6e-17  2e-15\n",
      " 3: -9.2718e-01 -1.0070e+00  8e-02  7e-18  2e-15\n",
      " 4: -9.9927e-01 -1.0001e+00  9e-04  5e-18  2e-15\n",
      " 5: -9.9999e-01 -1.0000e+00  9e-06  6e-18  2e-15\n",
      " 6: -1.0000e+00 -1.0000e+00  9e-08  5e-18  2e-15\n",
      "Optimal solution found.\n",
      "\n",
      "\n",
      "------ Lambda = 100000 ------\n",
      "Train accuracy score = 0.772\n",
      "Test accuracy score = 0.565\n",
      "\n",
      "\n"
     ]
    }
   ],
   "source": [
    "lmbd = 100000\n",
    "model = SVM(lmbd=lmbd)\n",
    "model.train(K_train, y_train)\n",
    "y_train_pred = model.predict(K_train)\n",
    "y_test_pred = model.predict(K_test)\n",
    "train_score = accuracy_score(y_train, y_train_pred)\n",
    "test_score = accuracy_score(y_test, y_test_pred)\n",
    "print(\"\\n\\n------ Lambda = {} ------\".format(lmbd))\n",
    "print('Train accuracy score = {:.3f}'.format(train_score))\n",
    "print('Test accuracy score = {:.3f}\\n\\n'.format(test_score))"
   ]
  },
  {
   "cell_type": "code",
   "execution_count": 53,
   "metadata": {
    "collapsed": false
   },
   "outputs": [
    {
     "name": "stdout",
     "output_type": "stream",
     "text": [
      "\n",
      "\t\t\t######## y has been reformated to {-1,1} ########\n",
      "\n"
     ]
    },
    {
     "name": "stderr",
     "output_type": "stream",
     "text": [
      "/Users/karlhajjar/anaconda/lib/python3.5/site-packages/cvxopt/coneprog.py:2111: FutureWarning: elementwise comparison failed; returning scalar instead, but in the future will perform elementwise comparison\n",
      "  if 'x' in initvals:\n",
      "/Users/karlhajjar/anaconda/lib/python3.5/site-packages/cvxopt/coneprog.py:2116: FutureWarning: elementwise comparison failed; returning scalar instead, but in the future will perform elementwise comparison\n",
      "  if 's' in initvals:\n",
      "/Users/karlhajjar/anaconda/lib/python3.5/site-packages/cvxopt/coneprog.py:2131: FutureWarning: elementwise comparison failed; returning scalar instead, but in the future will perform elementwise comparison\n",
      "  if 'y' in initvals:\n",
      "/Users/karlhajjar/anaconda/lib/python3.5/site-packages/cvxopt/coneprog.py:2136: FutureWarning: elementwise comparison failed; returning scalar instead, but in the future will perform elementwise comparison\n",
      "  if 'z' in initvals:\n"
     ]
    },
    {
     "name": "stdout",
     "output_type": "stream",
     "text": [
      "     pcost       dcost       gap    pres   dres\n",
      " 0:  0.0000e+00 -1.0000e+00  3e+03  6e+01  1e+00\n",
      " 1: -2.4207e+00 -3.2786e+00  1e+02  2e+00  3e-02\n",
      " 2: -1.5022e+00 -2.0293e+00  1e+01  2e-01  4e-03\n",
      " 3: -7.3850e-01 -1.6413e+00  2e+00  1e-02  2e-04\n",
      " 4: -7.2831e-01 -9.8523e-01  3e-01  2e-03  3e-05\n",
      " 5: -7.7176e-01 -8.6485e-01  1e-01  5e-04  8e-06\n",
      " 6: -7.9458e-01 -8.1709e-01  2e-02  6e-05  1e-06\n",
      " 7: -8.0247e-01 -8.0420e-01  2e-03  1e-07  2e-09\n",
      " 8: -8.0322e-01 -8.0332e-01  1e-04  7e-09  1e-10\n",
      " 9: -8.0326e-01 -8.0326e-01  3e-06  2e-10  3e-12\n",
      "10: -8.0326e-01 -8.0326e-01  7e-08  2e-12  4e-14\n",
      "Optimal solution found.\n",
      "\n",
      "\n",
      "------ Lambda = 0.0005 ------\n",
      "Train accuracy score = 0.787\n",
      "Test accuracy score = 0.570\n",
      "\n",
      "\n"
     ]
    }
   ],
   "source": [
    "lmbd = 5e-4\n",
    "model = SVM(lmbd=lmbd)\n",
    "model.train(K_train, y_train)\n",
    "y_train_pred = model.predict(K_train)\n",
    "y_test_pred = model.predict(K_test)\n",
    "train_score = accuracy_score(y_train, y_train_pred)\n",
    "test_score = accuracy_score(y_test, y_test_pred)\n",
    "print(\"\\n\\n------ Lambda = {} ------\".format(lmbd))\n",
    "print('Train accuracy score = {:.3f}'.format(train_score))\n",
    "print('Test accuracy score = {:.3f}\\n\\n'.format(test_score))"
   ]
  },
  {
   "cell_type": "code",
   "execution_count": 39,
   "metadata": {
    "collapsed": false
   },
   "outputs": [
    {
     "data": {
      "text/plain": [
       "array([[3, 0, 1, ..., 2, 0, 3],\n",
       "       [0, 0, 1, ..., 2, 0, 1],\n",
       "       [3, 0, 3, ..., 0, 3, 1],\n",
       "       ...,\n",
       "       [3, 1, 1, ..., 3, 2, 1],\n",
       "       [0, 3, 2, ..., 3, 0, 0],\n",
       "       [1, 1, 3, ..., 3, 1, 0]])"
      ]
     },
     "execution_count": 39,
     "metadata": {},
     "output_type": "execute_result"
    }
   ],
   "source": [
    "X_train"
   ]
  },
  {
   "cell_type": "code",
   "execution_count": 40,
   "metadata": {
    "collapsed": false
   },
   "outputs": [
    {
     "data": {
      "text/plain": [
       "array([[3, 3, 2, ..., 1, 3, 2],\n",
       "       [1, 0, 0, ..., 0, 0, 2],\n",
       "       [0, 2, 0, ..., 3, 3, 1],\n",
       "       ...,\n",
       "       [3, 0, 2, ..., 1, 0, 1],\n",
       "       [3, 1, 2, ..., 3, 3, 3],\n",
       "       [2, 1, 3, ..., 1, 0, 2]])"
      ]
     },
     "execution_count": 40,
     "metadata": {},
     "output_type": "execute_result"
    }
   ],
   "source": [
    "X_test"
   ]
  },
  {
   "cell_type": "code",
   "execution_count": 16,
   "metadata": {
    "collapsed": false
   },
   "outputs": [],
   "source": [
    "def transform(y, threshold=0.5):\n",
    "    res = np.zeros(len(y))\n",
    "    ones = y >= threshold\n",
    "    res[ones] = 1\n",
    "    res[~ones] = 0\n",
    "    return res"
   ]
  },
  {
   "cell_type": "code",
   "execution_count": 26,
   "metadata": {
    "collapsed": false
   },
   "outputs": [
    {
     "name": "stdout",
     "output_type": "stream",
     "text": [
      "------ Lambda = 1e-05 ------\n",
      "\t\tthreshold = 0.1\n",
      "Train accuracy score = 0.514\n",
      "Test accuracy score = 0.497\n",
      "\n",
      "\t\tthreshold = 0.2\n",
      "Train accuracy score = 0.526\n",
      "Test accuracy score = 0.515\n",
      "\n",
      "\t\tthreshold = 0.3\n",
      "Train accuracy score = 0.544\n",
      "Test accuracy score = 0.530\n",
      "\n",
      "\t\tthreshold = 0.4\n",
      "Train accuracy score = 0.568\n",
      "Test accuracy score = 0.535\n",
      "\n",
      "\t\tthreshold = 0.5\n",
      "Train accuracy score = 0.589\n",
      "Test accuracy score = 0.540\n",
      "\n",
      "\t\tthreshold = 0.6\n",
      "Train accuracy score = 0.569\n",
      "Test accuracy score = 0.510\n",
      "\n",
      "\t\tthreshold = 0.7\n",
      "Train accuracy score = 0.538\n",
      "Test accuracy score = 0.490\n",
      "\n",
      "\t\tthreshold = 0.8\n",
      "Train accuracy score = 0.524\n",
      "Test accuracy score = 0.490\n",
      "\n",
      "------ Lambda = 0.0001 ------\n",
      "\t\tthreshold = 0.1\n",
      "Train accuracy score = 0.514\n",
      "Test accuracy score = 0.495\n",
      "\n",
      "\t\tthreshold = 0.2\n",
      "Train accuracy score = 0.525\n",
      "Test accuracy score = 0.515\n",
      "\n",
      "\t\tthreshold = 0.3\n",
      "Train accuracy score = 0.543\n",
      "Test accuracy score = 0.530\n",
      "\n",
      "\t\tthreshold = 0.4\n",
      "Train accuracy score = 0.568\n",
      "Test accuracy score = 0.535\n",
      "\n",
      "\t\tthreshold = 0.5\n",
      "Train accuracy score = 0.589\n",
      "Test accuracy score = 0.540\n",
      "\n",
      "\t\tthreshold = 0.6\n",
      "Train accuracy score = 0.569\n",
      "Test accuracy score = 0.507\n",
      "\n",
      "\t\tthreshold = 0.7\n",
      "Train accuracy score = 0.537\n",
      "Test accuracy score = 0.490\n",
      "\n",
      "\t\tthreshold = 0.8\n",
      "Train accuracy score = 0.522\n",
      "Test accuracy score = 0.490\n",
      "\n",
      "------ Lambda = 0.001 ------\n",
      "\t\tthreshold = 0.1\n",
      "Train accuracy score = 0.511\n",
      "Test accuracy score = 0.492\n",
      "\n",
      "\t\tthreshold = 0.2\n",
      "Train accuracy score = 0.521\n",
      "Test accuracy score = 0.520\n",
      "\n",
      "\t\tthreshold = 0.3\n",
      "Train accuracy score = 0.539\n",
      "Test accuracy score = 0.537\n",
      "\n",
      "\t\tthreshold = 0.4\n",
      "Train accuracy score = 0.561\n",
      "Test accuracy score = 0.537\n",
      "\n",
      "\t\tthreshold = 0.5\n",
      "Train accuracy score = 0.591\n",
      "Test accuracy score = 0.530\n",
      "\n",
      "\t\tthreshold = 0.6\n",
      "Train accuracy score = 0.557\n",
      "Test accuracy score = 0.512\n",
      "\n",
      "\t\tthreshold = 0.7\n",
      "Train accuracy score = 0.531\n",
      "Test accuracy score = 0.495\n",
      "\n",
      "\t\tthreshold = 0.8\n",
      "Train accuracy score = 0.517\n",
      "Test accuracy score = 0.492\n",
      "\n",
      "------ Lambda = 0.01 ------\n",
      "\t\tthreshold = 0.1\n",
      "Train accuracy score = 0.507\n",
      "Test accuracy score = 0.500\n",
      "\n",
      "\t\tthreshold = 0.2\n",
      "Train accuracy score = 0.512\n",
      "Test accuracy score = 0.507\n",
      "\n",
      "\t\tthreshold = 0.3\n",
      "Train accuracy score = 0.541\n",
      "Test accuracy score = 0.517\n",
      "\n",
      "\t\tthreshold = 0.4\n",
      "Train accuracy score = 0.548\n",
      "Test accuracy score = 0.530\n",
      "\n",
      "\t\tthreshold = 0.5\n",
      "Train accuracy score = 0.552\n",
      "Test accuracy score = 0.540\n",
      "\n",
      "\t\tthreshold = 0.6\n",
      "Train accuracy score = 0.529\n",
      "Test accuracy score = 0.515\n",
      "\n",
      "\t\tthreshold = 0.7\n",
      "Train accuracy score = 0.511\n",
      "Test accuracy score = 0.492\n",
      "\n",
      "\t\tthreshold = 0.8\n",
      "Train accuracy score = 0.504\n",
      "Test accuracy score = 0.500\n",
      "\n",
      "------ Lambda = 0.05 ------\n",
      "\t\tthreshold = 0.1\n",
      "Train accuracy score = 0.504\n",
      "Test accuracy score = 0.500\n",
      "\n",
      "\t\tthreshold = 0.2\n",
      "Train accuracy score = 0.519\n",
      "Test accuracy score = 0.507\n",
      "\n",
      "\t\tthreshold = 0.3\n",
      "Train accuracy score = 0.537\n",
      "Test accuracy score = 0.522\n",
      "\n",
      "\t\tthreshold = 0.4\n",
      "Train accuracy score = 0.523\n",
      "Test accuracy score = 0.552\n",
      "\n",
      "\t\tthreshold = 0.5\n",
      "Train accuracy score = 0.508\n",
      "Test accuracy score = 0.507\n",
      "\n",
      "\t\tthreshold = 0.6\n",
      "Train accuracy score = 0.501\n",
      "Test accuracy score = 0.500\n",
      "\n",
      "\t\tthreshold = 0.7\n",
      "Train accuracy score = 0.500\n",
      "Test accuracy score = 0.500\n",
      "\n",
      "\t\tthreshold = 0.8\n",
      "Train accuracy score = 0.500\n",
      "Test accuracy score = 0.500\n",
      "\n"
     ]
    }
   ],
   "source": [
    "res = []\n",
    "for lmdb in [1e-5, 1e-4, 0.001,0.01,0.05]:\n",
    "    print(\"------ Lambda = {} ------\".format(lmdb))\n",
    "    model = KRR(lmbd=lmdb)\n",
    "    model.train(K_train, y_train)\n",
    "    y_train_pred = model.predict(K_train)\n",
    "    y_test_pred = model.predict(K_test)\n",
    "    for threshold in [0.1, 0.2, 0.3, 0.4, 0.5, 0.6, 0.7, 0.8]:\n",
    "        print('\\t\\tthreshold = {}'.format(threshold))\n",
    "        res_train = transform(y_train_pred, threshold=threshold)\n",
    "        res_test = transform(y_test_pred, threshold=threshold)\n",
    "        train_score = accuracy_score(y_train, res_train)\n",
    "        test_score = accuracy_score(y_test, res_test)\n",
    "        print('Train accuracy score = {:.3f}'.format(train_score))\n",
    "        print('Test accuracy score = {:.3f}\\n'.format(test_score))\n",
    "        res.append([lmdb, threshold, test_score])"
   ]
  },
  {
   "cell_type": "code",
   "execution_count": 30,
   "metadata": {
    "collapsed": false
   },
   "outputs": [
    {
     "name": "stdout",
     "output_type": "stream",
     "text": [
      "[0.05, 0.4, 0.5525]\n"
     ]
    }
   ],
   "source": [
    "best_pred = sorted(res, key = lambda x:x[2])[-1]\n",
    "print(best_pred)"
   ]
  },
  {
   "cell_type": "code",
   "execution_count": null,
   "metadata": {
    "collapsed": true
   },
   "outputs": [],
   "source": []
  },
  {
   "cell_type": "code",
   "execution_count": null,
   "metadata": {
    "collapsed": true
   },
   "outputs": [],
   "source": []
  }
 ],
 "metadata": {
  "kernelspec": {
   "display_name": "Python [Root]",
   "language": "python",
   "name": "Python [Root]"
  },
  "language_info": {
   "codemirror_mode": {
    "name": "ipython",
    "version": 3
   },
   "file_extension": ".py",
   "mimetype": "text/x-python",
   "name": "python",
   "nbconvert_exporter": "python",
   "pygments_lexer": "ipython3",
   "version": "3.5.2"
  }
 },
 "nbformat": 4,
 "nbformat_minor": 0
}
