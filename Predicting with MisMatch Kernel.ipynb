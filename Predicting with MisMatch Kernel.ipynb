{
 "cells": [
  {
   "cell_type": "code",
   "execution_count": 1,
   "metadata": {
    "collapsed": true
   },
   "outputs": [],
   "source": [
    "from kernels import * \n",
    "from learning_models import *\n",
    "from tools import *\n",
    "import pandas as pd\n",
    "import numpy as np\n",
    "from time import time \n",
    "from sklearn.svm import SVC\n",
    "from autoreload import superreload"
   ]
  },
  {
   "cell_type": "code",
   "execution_count": 2,
   "metadata": {
    "collapsed": false
   },
   "outputs": [],
   "source": [
    "%load_ext autoreload\n",
    "%autoreload 2"
   ]
  },
  {
   "cell_type": "code",
   "execution_count": 3,
   "metadata": {
    "collapsed": false
   },
   "outputs": [],
   "source": [
    "dataX = pd.read_csv(\"Data/Train/Xtr0.csv\", header=None)"
   ]
  },
  {
   "cell_type": "code",
   "execution_count": 4,
   "metadata": {
    "collapsed": false
   },
   "outputs": [
    {
     "data": {
      "text/html": [
       "<div>\n",
       "<table border=\"1\" class=\"dataframe\">\n",
       "  <thead>\n",
       "    <tr style=\"text-align: right;\">\n",
       "      <th></th>\n",
       "      <th>0</th>\n",
       "    </tr>\n",
       "  </thead>\n",
       "  <tbody>\n",
       "    <tr>\n",
       "      <th>0</th>\n",
       "      <td>TCCTCAACTTTTATTGGGCCGCTGTGGCACCAGAATCTACGAATGG...</td>\n",
       "    </tr>\n",
       "    <tr>\n",
       "      <th>1</th>\n",
       "      <td>CGGAGTGATTCAGCAAGAAGGCTCAGACCATTTACACTTCTCCTCA...</td>\n",
       "    </tr>\n",
       "    <tr>\n",
       "      <th>2</th>\n",
       "      <td>GCCTCAGGCACTCTCCAGATGGTTAAGATATGGTGTAAGTGTATGT...</td>\n",
       "    </tr>\n",
       "    <tr>\n",
       "      <th>3</th>\n",
       "      <td>TCAGTCGCCTGGCCTTCCAGCCTCACAGGCAAGATAAGCCACCCTC...</td>\n",
       "    </tr>\n",
       "    <tr>\n",
       "      <th>4</th>\n",
       "      <td>CTTAATGGAAAAATTAGATTATGGGTTGGCTTACCTGGATTTACCT...</td>\n",
       "    </tr>\n",
       "  </tbody>\n",
       "</table>\n",
       "</div>"
      ],
      "text/plain": [
       "                                                   0\n",
       "0  TCCTCAACTTTTATTGGGCCGCTGTGGCACCAGAATCTACGAATGG...\n",
       "1  CGGAGTGATTCAGCAAGAAGGCTCAGACCATTTACACTTCTCCTCA...\n",
       "2  GCCTCAGGCACTCTCCAGATGGTTAAGATATGGTGTAAGTGTATGT...\n",
       "3  TCAGTCGCCTGGCCTTCCAGCCTCACAGGCAAGATAAGCCACCCTC...\n",
       "4  CTTAATGGAAAAATTAGATTATGGGTTGGCTTACCTGGATTTACCT..."
      ]
     },
     "execution_count": 4,
     "metadata": {},
     "output_type": "execute_result"
    }
   ],
   "source": [
    "dataX.head()"
   ]
  },
  {
   "cell_type": "code",
   "execution_count": 5,
   "metadata": {
    "collapsed": true
   },
   "outputs": [],
   "source": [
    "data = dataX[0].values.tolist()"
   ]
  },
  {
   "cell_type": "code",
   "execution_count": 6,
   "metadata": {
    "collapsed": false
   },
   "outputs": [
    {
     "data": {
      "text/plain": [
       "['TCCTCAACTTTTATTGGGCCGCTGTGGCACCAGAATCTACGAATGGCGCCCTCTAGAGTTGTGTAAAGAAGTGGCGTCACCTCATTATAAATAAAAGGTTG',\n",
       " 'CGGAGTGATTCAGCAAGAAGGCTCAGACCATTTACACTTCTCCTCACAGGGCAAAGACTTCTCAGAGACAACTAATATGGCCTAGTGCCTAGTCATTGGAC',\n",
       " 'GCCTCAGGCACTCTCCAGATGGTTAAGATATGGTGTAAGTGTATGTGCGTGTCTGGCTGCAGTTGATAGTTGGGCAAAGAGGAAACTATCACAAAGAGGAA',\n",
       " 'TCAGTCGCCTGGCCTTCCAGCCTCACAGGCAAGATAAGCCACCCTCACAGACTTCTCTGTGCTCCCATCTAAACATCTAAATCAGCCATCTGGTTTCCTTA',\n",
       " 'CTTAATGGAAAAATTAGATTATGGGTTGGCTTACCTGGATTTACCTAGAGTGTCTGCCATGTCTATCAATTGGATTACGGGGCTTTTATTGATTAGGGGGA',\n",
       " 'GAAACAAGCTAATATAAGGTGGGGGCCTGAAAATTTTATCCAATGGTCATTTAAGAATCGCAATCAATGTCCTCTAGATATATAATTCACCTAAATACGGA',\n",
       " 'CTTTCTTATCTGTGTGGCTGTGGGCGTGTCTTTGGCAAGCCCCACTGTGAGAGTTCCCTTATCTATGCCTGCAGGCTGTTCTTTTATTTGAAAGAATTCAG',\n",
       " 'TGATTACTGCATGGAAAAGGGGCCAGGGCAATTACTAGAGGGCTCAATCCCAGTAAGGGGATGTGTACCAGGGAGGGTTGCTTTGACAGGAGATCAGTCTA',\n",
       " 'GAGATTCTTAACATGCAACCACAAATCGATGCAGTTATGGATCATGTTGAATGGCAACTCACCTGGCAGTGGAGAGCAGAGTTGTTGGCAATCACATATGA',\n",
       " 'GGGGACTTCTTGAACTGAGCTCCTAGAGCAGCTGGGGTTGTGATCGTGGTTCAGACACTCTCTAGGAGGCCCGAGCGGCAACTCAGGGGACAATGACATTT']"
      ]
     },
     "execution_count": 6,
     "metadata": {},
     "output_type": "execute_result"
    }
   ],
   "source": [
    "data[:10]"
   ]
  },
  {
   "cell_type": "code",
   "execution_count": 7,
   "metadata": {
    "collapsed": true
   },
   "outputs": [],
   "source": [
    "d = []\n",
    "for i in range(len(data)):\n",
    "    s = data[i].replace(\"A\", \"0\")\n",
    "    s = s.replace(\"T\", \"1\")\n",
    "    s = s.replace(\"C\", \"2\")\n",
    "    s = s.replace(\"G\", \"3\")\n",
    "    d.append(list(map(int, s)))\n",
    "data = d"
   ]
  },
  {
   "cell_type": "code",
   "execution_count": 8,
   "metadata": {
    "collapsed": true
   },
   "outputs": [],
   "source": [
    "del dataX"
   ]
  },
  {
   "cell_type": "code",
   "execution_count": null,
   "metadata": {
    "collapsed": false
   },
   "outputs": [
    {
     "name": "stdout",
     "output_type": "stream",
     "text": [
      "-------- Computing mismatch kernel --------\n"
     ]
    }
   ],
   "source": [
    "trie = MismatchTrie(verbose=0)\n",
    "print(\"-------- Computing mismatch kernel --------\")\n",
    "start = time()\n",
    "kern = trie.traverse(data, 4, 5, 1)[0]\n",
    "#kern = normalize_kernel(kern)\n",
    "end = time()\n",
    "print(\"-------- Done in {:.3f} minutes --------\".format((end-start)/60))"
   ]
  },
  {
   "cell_type": "code",
   "execution_count": null,
   "metadata": {
    "collapsed": false
   },
   "outputs": [],
   "source": [
    "kern.shape"
   ]
  },
  {
   "cell_type": "code",
   "execution_count": 33,
   "metadata": {
    "collapsed": false
   },
   "outputs": [
    {
     "data": {
      "text/plain": [
       "(2000, 101)"
      ]
     },
     "execution_count": 33,
     "metadata": {},
     "output_type": "execute_result"
    }
   ],
   "source": [
    "np.array(data).shape"
   ]
  },
  {
   "cell_type": "code",
   "execution_count": 34,
   "metadata": {
    "collapsed": false
   },
   "outputs": [],
   "source": [
    "dataY = pd.read_csv(\"Data/Train/Ytr0.csv\", index_col=0)\n",
    "y = dataY['Bound'].values\n",
    "X = np.array(data)\n",
    "K = kern"
   ]
  },
  {
   "cell_type": "code",
   "execution_count": 35,
   "metadata": {
    "collapsed": false
   },
   "outputs": [],
   "source": [
    "kern = normalize_kernel(kern)"
   ]
  },
  {
   "cell_type": "code",
   "execution_count": 39,
   "metadata": {
    "collapsed": false
   },
   "outputs": [
    {
     "name": "stdout",
     "output_type": "stream",
     "text": [
      "Total number of examples : 2000\n",
      "Ratio of positive samples : 0.50\n",
      "Ratio of negative to positive labels in the data : 1.00\n"
     ]
    }
   ],
   "source": [
    "X_train, X_test, y_train, y_test, K_train, K_test = train_test_split(X,y,kern,test_size=0.2)"
   ]
  },
  {
   "cell_type": "code",
   "execution_count": 40,
   "metadata": {
    "collapsed": false,
    "scrolled": false
   },
   "outputs": [
    {
     "name": "stdout",
     "output_type": "stream",
     "text": [
      "\n",
      "\t\t\t######## y has been reformated to {-1,1} ########\n",
      "\n"
     ]
    },
    {
     "name": "stderr",
     "output_type": "stream",
     "text": [
      "/Users/karlhajjar/anaconda/lib/python3.5/site-packages/cvxopt/coneprog.py:2111: FutureWarning: elementwise comparison failed; returning scalar instead, but in the future will perform elementwise comparison\n",
      "  if 'x' in initvals:\n",
      "/Users/karlhajjar/anaconda/lib/python3.5/site-packages/cvxopt/coneprog.py:2116: FutureWarning: elementwise comparison failed; returning scalar instead, but in the future will perform elementwise comparison\n",
      "  if 's' in initvals:\n",
      "/Users/karlhajjar/anaconda/lib/python3.5/site-packages/cvxopt/coneprog.py:2131: FutureWarning: elementwise comparison failed; returning scalar instead, but in the future will perform elementwise comparison\n",
      "  if 'y' in initvals:\n",
      "/Users/karlhajjar/anaconda/lib/python3.5/site-packages/cvxopt/coneprog.py:2136: FutureWarning: elementwise comparison failed; returning scalar instead, but in the future will perform elementwise comparison\n",
      "  if 'z' in initvals:\n"
     ]
    },
    {
     "name": "stdout",
     "output_type": "stream",
     "text": [
      "     pcost       dcost       gap    pres   dres\n",
      " 0:  0.0000e+00 -1.0000e+00  3e+03  6e+01  1e+00\n",
      " 1: -9.1577e-01 -1.7671e+00  4e+01  6e-01  1e-02\n",
      " 2: -6.4773e-01 -1.6984e+00  1e+00  2e-03  4e-05\n",
      " 3: -7.9352e-01 -9.3109e-01  1e-01  3e-04  5e-06\n",
      " 4: -8.4296e-01 -9.1046e-01  7e-02  1e-04  2e-06\n",
      " 5: -8.6824e-01 -8.9833e-01  3e-02  5e-05  1e-06\n",
      " 6: -8.7763e-01 -8.9399e-01  2e-02  3e-05  5e-07\n",
      " 7: -8.8438e-01 -8.9085e-01  7e-03  6e-06  1e-07\n",
      " 8: -8.8767e-01 -8.8849e-01  8e-04  4e-07  7e-09\n",
      " 9: -8.8807e-01 -8.8814e-01  8e-05  1e-08  2e-10\n",
      "10: -8.8810e-01 -8.8811e-01  4e-06  5e-10  9e-12\n",
      "11: -8.8811e-01 -8.8811e-01  2e-07  2e-11  4e-13\n",
      "Optimal solution found.\n",
      "\n",
      "\n",
      "------ Lambda = 0.001 ------\n",
      "Train accuracy score = 0.618\n",
      "Test accuracy score = 0.545\n",
      "\n",
      "\n",
      "\n",
      "\t\t\t######## y has been reformated to {-1,1} ########\n",
      "\n",
      "     pcost       dcost       gap    pres   dres\n",
      " 0:  0.0000e+00 -1.0000e+00  3e+03  6e+01  1e+00\n",
      " 1: -1.0184e+00 -1.8694e+00  5e+01  6e-01  1e-02\n",
      " 2: -7.7677e-01 -1.7660e+00  4e+00  4e-02  7e-04\n",
      " 3: -7.9178e-01 -1.2526e+00  5e-01  7e-18  2e-15\n",
      " 4: -9.6603e-01 -1.0020e+00  4e-02  4e-18  2e-15\n",
      " 5: -9.8249e-01 -9.8290e-01  4e-04  5e-18  2e-15\n",
      " 6: -9.8268e-01 -9.8269e-01  4e-06  6e-18  2e-15\n",
      " 7: -9.8268e-01 -9.8268e-01  4e-08  5e-18  2e-15\n",
      "Optimal solution found.\n",
      "\n",
      "\n",
      "------ Lambda = 0.01 ------\n",
      "Train accuracy score = 0.619\n",
      "Test accuracy score = 0.547\n",
      "\n",
      "\n",
      "\n",
      "\t\t\t######## y has been reformated to {-1,1} ########\n",
      "\n",
      "     pcost       dcost       gap    pres   dres\n",
      " 0:  0.0000e+00 -1.0000e+00  3e+03  6e+01  1e+00\n",
      " 1: -1.4701e+00 -2.2945e+00  8e+01  1e+00  2e-02\n",
      " 2: -9.4479e-01 -1.8376e+00  7e+00  9e-02  2e-03\n",
      " 3: -7.5939e-01 -1.4880e+00  7e-01  1e-17  2e-15\n",
      " 4: -9.1332e-01 -1.1255e+00  2e-01  6e-18  2e-15\n",
      " 5: -9.9134e-01 -1.0035e+00  1e-02  5e-18  2e-15\n",
      " 6: -9.9648e-01 -9.9661e-01  1e-04  5e-18  2e-15\n",
      " 7: -9.9654e-01 -9.9654e-01  1e-06  5e-18  2e-15\n",
      " 8: -9.9654e-01 -9.9654e-01  1e-08  6e-18  2e-15\n",
      "Optimal solution found.\n",
      "\n",
      "\n",
      "------ Lambda = 0.05 ------\n",
      "Train accuracy score = 0.619\n",
      "Test accuracy score = 0.547\n",
      "\n",
      "\n",
      "\n",
      "\t\t\t######## y has been reformated to {-1,1} ########\n",
      "\n",
      "     pcost       dcost       gap    pres   dres\n",
      " 0:  0.0000e+00 -1.0000e+00  3e+03  6e+01  1e+00\n",
      " 1: -2.0289e+00 -2.7639e+00  1e+02  2e+00  3e-02\n",
      " 2: -1.0023e+00 -1.8635e+00  9e+00  1e-01  2e-03\n",
      " 3: -7.4534e-01 -1.5576e+00  8e-01  1e-17  2e-15\n",
      " 4: -8.8295e-01 -1.1895e+00  3e-01  6e-18  2e-15\n",
      " 5: -9.7428e-01 -1.0379e+00  6e-02  5e-18  2e-15\n",
      " 6: -9.9800e-01 -9.9868e-01  7e-04  6e-18  2e-15\n",
      " 7: -9.9827e-01 -9.9827e-01  7e-06  5e-18  2e-15\n",
      " 8: -9.9827e-01 -9.9827e-01  7e-08  5e-18  2e-15\n",
      "Optimal solution found.\n",
      "\n",
      "\n",
      "------ Lambda = 0.1 ------\n",
      "Train accuracy score = 0.619\n",
      "Test accuracy score = 0.547\n",
      "\n",
      "\n",
      "\n",
      "\t\t\t######## y has been reformated to {-1,1} ########\n",
      "\n",
      "     pcost       dcost       gap    pres   dres\n",
      " 0:  0.0000e+00 -1.0000e+00  3e+03  6e+01  1e+00\n",
      " 1: -9.3541e+00 -5.7929e+00  4e+02  6e+00  1e-01\n",
      " 2: -7.4080e-01 -1.8238e+00  1e+01  2e-01  3e-03\n",
      " 3: -7.1084e-01 -1.6149e+00  9e-01  2e-17  2e-15\n",
      " 4: -8.6502e-01 -1.2088e+00  3e-01  7e-18  2e-15\n",
      " 5: -9.7360e-01 -1.0434e+00  7e-02  5e-18  2e-15\n",
      " 6: -9.9952e-01 -1.0003e+00  8e-04  6e-18  2e-15\n",
      " 7: -9.9982e-01 -9.9983e-01  8e-06  5e-18  2e-15\n",
      " 8: -9.9983e-01 -9.9983e-01  8e-08  5e-18  2e-15\n",
      "Optimal solution found.\n",
      "\n",
      "\n",
      "------ Lambda = 1 ------\n",
      "Train accuracy score = 0.619\n",
      "Test accuracy score = 0.547\n",
      "\n",
      "\n",
      "\n",
      "\t\t\t######## y has been reformated to {-1,1} ########\n",
      "\n",
      "     pcost       dcost       gap    pres   dres\n",
      " 0:  0.0000e+00 -1.0000e+00  3e+03  6e+01  1e+00\n",
      " 1: -1.1752e+01 -3.2122e+00  4e+02  6e+00  1e-01\n",
      " 2: -7.0064e-01 -1.7542e+00  4e+00  5e-02  8e-04\n",
      " 3: -7.7840e-01 -1.2877e+00  5e-01  7e-18  2e-15\n",
      " 4: -9.6424e-01 -1.0509e+00  9e-02  4e-18  2e-15\n",
      " 5: -9.9955e-01 -1.0005e+00  1e-03  6e-18  2e-15\n",
      " 6: -9.9998e-01 -9.9999e-01  1e-05  5e-18  2e-15\n",
      " 7: -9.9998e-01 -9.9998e-01  1e-07  5e-18  2e-15\n",
      "Optimal solution found.\n",
      "\n",
      "\n",
      "------ Lambda = 10 ------\n",
      "Train accuracy score = 0.619\n",
      "Test accuracy score = 0.547\n",
      "\n",
      "\n",
      "\n",
      "\t\t\t######## y has been reformated to {-1,1} ########\n",
      "\n",
      "     pcost       dcost       gap    pres   dres\n",
      " 0:  0.0000e+00 -1.0000e+00  3e+03  6e+01  1e+00\n",
      " 1: -2.9865e+00 -1.8206e+00  1e+02  2e+00  3e-02\n",
      " 2: -7.3243e-01 -1.7352e+00  1e+00  7e-03  1e-04\n",
      " 3: -8.6782e-01 -1.0969e+00  3e-01  1e-03  2e-05\n",
      " 4: -9.9658e-01 -1.0030e+00  7e-03  1e-05  3e-07\n",
      " 5: -9.9996e-01 -1.0000e+00  7e-05  1e-07  3e-09\n",
      " 6: -1.0000e+00 -1.0000e+00  7e-07  1e-09  3e-11\n",
      "Optimal solution found.\n",
      "\n",
      "\n",
      "------ Lambda = 100 ------\n",
      "Train accuracy score = 0.619\n",
      "Test accuracy score = 0.547\n",
      "\n",
      "\n",
      "\n",
      "\t\t\t######## y has been reformated to {-1,1} ########\n",
      "\n",
      "     pcost       dcost       gap    pres   dres\n",
      " 0:  0.0000e+00 -1.0000e+00  3e+03  6e+01  1e+00\n",
      " 1: -1.2055e+00 -1.7656e+00  5e+01  7e-01  1e-02\n",
      " 2: -7.1929e-01 -1.7065e+00  1e+00  7e-17  2e-15\n",
      " 3: -9.2406e-01 -1.0171e+00  9e-02  7e-18  2e-15\n",
      " 4: -9.9924e-01 -1.0003e+00  1e-03  5e-18  2e-15\n",
      " 5: -9.9999e-01 -1.0000e+00  1e-05  5e-18  2e-15\n",
      " 6: -1.0000e+00 -1.0000e+00  1e-07  5e-18  2e-15\n",
      "Optimal solution found.\n",
      "\n",
      "\n",
      "------ Lambda = 1000 ------\n",
      "Train accuracy score = 0.619\n",
      "Test accuracy score = 0.547\n",
      "\n",
      "\n"
     ]
    }
   ],
   "source": [
    "res = []\n",
    "for lmdb in [0.001,0.01,0.05,0.1,1,10,100,1000]:\n",
    "    model = SVM(lmbd=lmdb)\n",
    "    model.train(K_train, y_train)\n",
    "    y_train_pred = model.predict(K_train)\n",
    "    y_test_pred = model.predict(K_test)\n",
    "    train_score = accuracy_score(y_train, y_train_pred)\n",
    "    test_score = accuracy_score(y_test, y_test_pred)\n",
    "    print(\"\\n\\n------ Lambda = {} ------\".format(lmdb))\n",
    "    print('Train accuracy score = {:.3f}'.format(train_score))\n",
    "    print('Test accuracy score = {:.3f}\\n\\n'.format(test_score))\n",
    "    res.append([lmdb,test_score])"
   ]
  },
  {
   "cell_type": "code",
   "execution_count": 41,
   "metadata": {
    "collapsed": false
   },
   "outputs": [
    {
     "name": "stdout",
     "output_type": "stream",
     "text": [
      "[1000, 0.5475]\n"
     ]
    }
   ],
   "source": [
    "best_pred = sorted(res, key = lambda x:x[1])[-1]\n",
    "print(best_pred)"
   ]
  },
  {
   "cell_type": "code",
   "execution_count": 16,
   "metadata": {
    "collapsed": false
   },
   "outputs": [],
   "source": [
    "def transform(y, threshold=0.5):\n",
    "    res = np.zeros(len(y))\n",
    "    ones = y >= threshold\n",
    "    res[ones] = 1\n",
    "    res[~ones] = 0\n",
    "    return res"
   ]
  },
  {
   "cell_type": "code",
   "execution_count": 26,
   "metadata": {
    "collapsed": false
   },
   "outputs": [
    {
     "name": "stdout",
     "output_type": "stream",
     "text": [
      "------ Lambda = 1e-05 ------\n",
      "\t\tthreshold = 0.1\n",
      "Train accuracy score = 0.514\n",
      "Test accuracy score = 0.497\n",
      "\n",
      "\t\tthreshold = 0.2\n",
      "Train accuracy score = 0.526\n",
      "Test accuracy score = 0.515\n",
      "\n",
      "\t\tthreshold = 0.3\n",
      "Train accuracy score = 0.544\n",
      "Test accuracy score = 0.530\n",
      "\n",
      "\t\tthreshold = 0.4\n",
      "Train accuracy score = 0.568\n",
      "Test accuracy score = 0.535\n",
      "\n",
      "\t\tthreshold = 0.5\n",
      "Train accuracy score = 0.589\n",
      "Test accuracy score = 0.540\n",
      "\n",
      "\t\tthreshold = 0.6\n",
      "Train accuracy score = 0.569\n",
      "Test accuracy score = 0.510\n",
      "\n",
      "\t\tthreshold = 0.7\n",
      "Train accuracy score = 0.538\n",
      "Test accuracy score = 0.490\n",
      "\n",
      "\t\tthreshold = 0.8\n",
      "Train accuracy score = 0.524\n",
      "Test accuracy score = 0.490\n",
      "\n",
      "------ Lambda = 0.0001 ------\n",
      "\t\tthreshold = 0.1\n",
      "Train accuracy score = 0.514\n",
      "Test accuracy score = 0.495\n",
      "\n",
      "\t\tthreshold = 0.2\n",
      "Train accuracy score = 0.525\n",
      "Test accuracy score = 0.515\n",
      "\n",
      "\t\tthreshold = 0.3\n",
      "Train accuracy score = 0.543\n",
      "Test accuracy score = 0.530\n",
      "\n",
      "\t\tthreshold = 0.4\n",
      "Train accuracy score = 0.568\n",
      "Test accuracy score = 0.535\n",
      "\n",
      "\t\tthreshold = 0.5\n",
      "Train accuracy score = 0.589\n",
      "Test accuracy score = 0.540\n",
      "\n",
      "\t\tthreshold = 0.6\n",
      "Train accuracy score = 0.569\n",
      "Test accuracy score = 0.507\n",
      "\n",
      "\t\tthreshold = 0.7\n",
      "Train accuracy score = 0.537\n",
      "Test accuracy score = 0.490\n",
      "\n",
      "\t\tthreshold = 0.8\n",
      "Train accuracy score = 0.522\n",
      "Test accuracy score = 0.490\n",
      "\n",
      "------ Lambda = 0.001 ------\n",
      "\t\tthreshold = 0.1\n",
      "Train accuracy score = 0.511\n",
      "Test accuracy score = 0.492\n",
      "\n",
      "\t\tthreshold = 0.2\n",
      "Train accuracy score = 0.521\n",
      "Test accuracy score = 0.520\n",
      "\n",
      "\t\tthreshold = 0.3\n",
      "Train accuracy score = 0.539\n",
      "Test accuracy score = 0.537\n",
      "\n",
      "\t\tthreshold = 0.4\n",
      "Train accuracy score = 0.561\n",
      "Test accuracy score = 0.537\n",
      "\n",
      "\t\tthreshold = 0.5\n",
      "Train accuracy score = 0.591\n",
      "Test accuracy score = 0.530\n",
      "\n",
      "\t\tthreshold = 0.6\n",
      "Train accuracy score = 0.557\n",
      "Test accuracy score = 0.512\n",
      "\n",
      "\t\tthreshold = 0.7\n",
      "Train accuracy score = 0.531\n",
      "Test accuracy score = 0.495\n",
      "\n",
      "\t\tthreshold = 0.8\n",
      "Train accuracy score = 0.517\n",
      "Test accuracy score = 0.492\n",
      "\n",
      "------ Lambda = 0.01 ------\n",
      "\t\tthreshold = 0.1\n",
      "Train accuracy score = 0.507\n",
      "Test accuracy score = 0.500\n",
      "\n",
      "\t\tthreshold = 0.2\n",
      "Train accuracy score = 0.512\n",
      "Test accuracy score = 0.507\n",
      "\n",
      "\t\tthreshold = 0.3\n",
      "Train accuracy score = 0.541\n",
      "Test accuracy score = 0.517\n",
      "\n",
      "\t\tthreshold = 0.4\n",
      "Train accuracy score = 0.548\n",
      "Test accuracy score = 0.530\n",
      "\n",
      "\t\tthreshold = 0.5\n",
      "Train accuracy score = 0.552\n",
      "Test accuracy score = 0.540\n",
      "\n",
      "\t\tthreshold = 0.6\n",
      "Train accuracy score = 0.529\n",
      "Test accuracy score = 0.515\n",
      "\n",
      "\t\tthreshold = 0.7\n",
      "Train accuracy score = 0.511\n",
      "Test accuracy score = 0.492\n",
      "\n",
      "\t\tthreshold = 0.8\n",
      "Train accuracy score = 0.504\n",
      "Test accuracy score = 0.500\n",
      "\n",
      "------ Lambda = 0.05 ------\n",
      "\t\tthreshold = 0.1\n",
      "Train accuracy score = 0.504\n",
      "Test accuracy score = 0.500\n",
      "\n",
      "\t\tthreshold = 0.2\n",
      "Train accuracy score = 0.519\n",
      "Test accuracy score = 0.507\n",
      "\n",
      "\t\tthreshold = 0.3\n",
      "Train accuracy score = 0.537\n",
      "Test accuracy score = 0.522\n",
      "\n",
      "\t\tthreshold = 0.4\n",
      "Train accuracy score = 0.523\n",
      "Test accuracy score = 0.552\n",
      "\n",
      "\t\tthreshold = 0.5\n",
      "Train accuracy score = 0.508\n",
      "Test accuracy score = 0.507\n",
      "\n",
      "\t\tthreshold = 0.6\n",
      "Train accuracy score = 0.501\n",
      "Test accuracy score = 0.500\n",
      "\n",
      "\t\tthreshold = 0.7\n",
      "Train accuracy score = 0.500\n",
      "Test accuracy score = 0.500\n",
      "\n",
      "\t\tthreshold = 0.8\n",
      "Train accuracy score = 0.500\n",
      "Test accuracy score = 0.500\n",
      "\n"
     ]
    }
   ],
   "source": [
    "res = []\n",
    "for lmdb in [1e-5, 1e-4, 0.001,0.01,0.05]:\n",
    "    print(\"------ Lambda = {} ------\".format(lmdb))\n",
    "    model = KRR(lmbd=lmdb)\n",
    "    model.train(K_train, y_train)\n",
    "    y_train_pred = model.predict(K_train)\n",
    "    y_test_pred = model.predict(K_test)\n",
    "    for threshold in [0.1, 0.2, 0.3, 0.4, 0.5, 0.6, 0.7, 0.8]:\n",
    "        print('\\t\\tthreshold = {}'.format(threshold))\n",
    "        res_train = transform(y_train_pred, threshold=threshold)\n",
    "        res_test = transform(y_test_pred, threshold=threshold)\n",
    "        train_score = accuracy_score(y_train, res_train)\n",
    "        test_score = accuracy_score(y_test, res_test)\n",
    "        print('Train accuracy score = {:.3f}'.format(train_score))\n",
    "        print('Test accuracy score = {:.3f}\\n'.format(test_score))\n",
    "        res.append([lmdb, threshold, test_score])"
   ]
  },
  {
   "cell_type": "code",
   "execution_count": 30,
   "metadata": {
    "collapsed": false
   },
   "outputs": [
    {
     "name": "stdout",
     "output_type": "stream",
     "text": [
      "[0.05, 0.4, 0.5525]\n"
     ]
    }
   ],
   "source": [
    "best_pred = sorted(res, key = lambda x:x[2])[-1]\n",
    "print(best_pred)"
   ]
  },
  {
   "cell_type": "code",
   "execution_count": null,
   "metadata": {
    "collapsed": true
   },
   "outputs": [],
   "source": []
  },
  {
   "cell_type": "code",
   "execution_count": null,
   "metadata": {
    "collapsed": true
   },
   "outputs": [],
   "source": []
  }
 ],
 "metadata": {
  "kernelspec": {
   "display_name": "Python [Root]",
   "language": "python",
   "name": "Python [Root]"
  },
  "language_info": {
   "codemirror_mode": {
    "name": "ipython",
    "version": 3
   },
   "file_extension": ".py",
   "mimetype": "text/x-python",
   "name": "python",
   "nbconvert_exporter": "python",
   "pygments_lexer": "ipython3",
   "version": "3.5.2"
  }
 },
 "nbformat": 4,
 "nbformat_minor": 0
}
