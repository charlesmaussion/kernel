{
 "cells": [
  {
   "cell_type": "code",
   "execution_count": 1,
   "metadata": {
    "collapsed": true
   },
   "outputs": [],
   "source": [
    "from kernels import * \n",
    "from learning_models import *\n",
    "from tools import *\n",
    "import pandas as pd\n",
    "import numpy as np\n",
    "from time import time \n",
    "from sklearn.svm import SVC\n",
    "from autoreload import superreload"
   ]
  },
  {
   "cell_type": "code",
   "execution_count": 2,
   "metadata": {
    "collapsed": false
   },
   "outputs": [],
   "source": [
    "%load_ext autoreload\n",
    "%autoreload 2"
   ]
  },
  {
   "cell_type": "code",
   "execution_count": 3,
   "metadata": {
    "collapsed": false
   },
   "outputs": [],
   "source": [
    "dataX = pd.read_csv(\"Data/Train/Xtr0.csv\", header=None)"
   ]
  },
  {
   "cell_type": "code",
   "execution_count": 4,
   "metadata": {
    "collapsed": false
   },
   "outputs": [
    {
     "data": {
      "text/html": [
       "<div>\n",
       "<table border=\"1\" class=\"dataframe\">\n",
       "  <thead>\n",
       "    <tr style=\"text-align: right;\">\n",
       "      <th></th>\n",
       "      <th>0</th>\n",
       "    </tr>\n",
       "  </thead>\n",
       "  <tbody>\n",
       "    <tr>\n",
       "      <th>0</th>\n",
       "      <td>TCCTCAACTTTTATTGGGCCGCTGTGGCACCAGAATCTACGAATGG...</td>\n",
       "    </tr>\n",
       "    <tr>\n",
       "      <th>1</th>\n",
       "      <td>CGGAGTGATTCAGCAAGAAGGCTCAGACCATTTACACTTCTCCTCA...</td>\n",
       "    </tr>\n",
       "    <tr>\n",
       "      <th>2</th>\n",
       "      <td>GCCTCAGGCACTCTCCAGATGGTTAAGATATGGTGTAAGTGTATGT...</td>\n",
       "    </tr>\n",
       "    <tr>\n",
       "      <th>3</th>\n",
       "      <td>TCAGTCGCCTGGCCTTCCAGCCTCACAGGCAAGATAAGCCACCCTC...</td>\n",
       "    </tr>\n",
       "    <tr>\n",
       "      <th>4</th>\n",
       "      <td>CTTAATGGAAAAATTAGATTATGGGTTGGCTTACCTGGATTTACCT...</td>\n",
       "    </tr>\n",
       "  </tbody>\n",
       "</table>\n",
       "</div>"
      ],
      "text/plain": [
       "                                                   0\n",
       "0  TCCTCAACTTTTATTGGGCCGCTGTGGCACCAGAATCTACGAATGG...\n",
       "1  CGGAGTGATTCAGCAAGAAGGCTCAGACCATTTACACTTCTCCTCA...\n",
       "2  GCCTCAGGCACTCTCCAGATGGTTAAGATATGGTGTAAGTGTATGT...\n",
       "3  TCAGTCGCCTGGCCTTCCAGCCTCACAGGCAAGATAAGCCACCCTC...\n",
       "4  CTTAATGGAAAAATTAGATTATGGGTTGGCTTACCTGGATTTACCT..."
      ]
     },
     "execution_count": 4,
     "metadata": {},
     "output_type": "execute_result"
    }
   ],
   "source": [
    "dataX.head()"
   ]
  },
  {
   "cell_type": "code",
   "execution_count": 5,
   "metadata": {
    "collapsed": true
   },
   "outputs": [],
   "source": [
    "data = dataX[0].values.tolist()"
   ]
  },
  {
   "cell_type": "code",
   "execution_count": 6,
   "metadata": {
    "collapsed": false
   },
   "outputs": [
    {
     "data": {
      "text/plain": [
       "['TCCTCAACTTTTATTGGGCCGCTGTGGCACCAGAATCTACGAATGGCGCCCTCTAGAGTTGTGTAAAGAAGTGGCGTCACCTCATTATAAATAAAAGGTTG',\n",
       " 'CGGAGTGATTCAGCAAGAAGGCTCAGACCATTTACACTTCTCCTCACAGGGCAAAGACTTCTCAGAGACAACTAATATGGCCTAGTGCCTAGTCATTGGAC',\n",
       " 'GCCTCAGGCACTCTCCAGATGGTTAAGATATGGTGTAAGTGTATGTGCGTGTCTGGCTGCAGTTGATAGTTGGGCAAAGAGGAAACTATCACAAAGAGGAA',\n",
       " 'TCAGTCGCCTGGCCTTCCAGCCTCACAGGCAAGATAAGCCACCCTCACAGACTTCTCTGTGCTCCCATCTAAACATCTAAATCAGCCATCTGGTTTCCTTA',\n",
       " 'CTTAATGGAAAAATTAGATTATGGGTTGGCTTACCTGGATTTACCTAGAGTGTCTGCCATGTCTATCAATTGGATTACGGGGCTTTTATTGATTAGGGGGA',\n",
       " 'GAAACAAGCTAATATAAGGTGGGGGCCTGAAAATTTTATCCAATGGTCATTTAAGAATCGCAATCAATGTCCTCTAGATATATAATTCACCTAAATACGGA',\n",
       " 'CTTTCTTATCTGTGTGGCTGTGGGCGTGTCTTTGGCAAGCCCCACTGTGAGAGTTCCCTTATCTATGCCTGCAGGCTGTTCTTTTATTTGAAAGAATTCAG',\n",
       " 'TGATTACTGCATGGAAAAGGGGCCAGGGCAATTACTAGAGGGCTCAATCCCAGTAAGGGGATGTGTACCAGGGAGGGTTGCTTTGACAGGAGATCAGTCTA',\n",
       " 'GAGATTCTTAACATGCAACCACAAATCGATGCAGTTATGGATCATGTTGAATGGCAACTCACCTGGCAGTGGAGAGCAGAGTTGTTGGCAATCACATATGA',\n",
       " 'GGGGACTTCTTGAACTGAGCTCCTAGAGCAGCTGGGGTTGTGATCGTGGTTCAGACACTCTCTAGGAGGCCCGAGCGGCAACTCAGGGGACAATGACATTT']"
      ]
     },
     "execution_count": 6,
     "metadata": {},
     "output_type": "execute_result"
    }
   ],
   "source": [
    "data[:10]"
   ]
  },
  {
   "cell_type": "code",
   "execution_count": 7,
   "metadata": {
    "collapsed": true
   },
   "outputs": [],
   "source": [
    "d = []\n",
    "for i in range(len(data)):\n",
    "    s = data[i].replace(\"A\", \"0\")\n",
    "    s = s.replace(\"T\", \"1\")\n",
    "    s = s.replace(\"C\", \"2\")\n",
    "    s = s.replace(\"G\", \"3\")\n",
    "    d.append(list(map(int, s)))\n",
    "data = d"
   ]
  },
  {
   "cell_type": "code",
   "execution_count": 8,
   "metadata": {
    "collapsed": true
   },
   "outputs": [],
   "source": [
    "del dataX"
   ]
  },
  {
   "cell_type": "code",
   "execution_count": 11,
   "metadata": {
    "collapsed": false
   },
   "outputs": [
    {
     "name": "stdout",
     "output_type": "stream",
     "text": [
      "-------- Computing mismatch kernel --------\n",
      "-------- Done in 90.561 minutes --------\n"
     ]
    }
   ],
   "source": [
    "trie = MismatchTrie(verbose=0)\n",
    "print(\"-------- Computing mismatch kernel --------\")\n",
    "start = time()\n",
    "kern = trie.traverse(data, 4, 5, 1)[0]\n",
    "#kern = normalize_kernel(kern)\n",
    "end = time()\n",
    "print(\"-------- Done in {:.3f} minutes --------\".format((end-start)/60))"
   ]
  },
  {
   "cell_type": "code",
   "execution_count": 13,
   "metadata": {
    "collapsed": false
   },
   "outputs": [
    {
     "data": {
      "text/plain": [
       "(2000, 2000)"
      ]
     },
     "execution_count": 13,
     "metadata": {},
     "output_type": "execute_result"
    }
   ],
   "source": [
    "kern.shape"
   ]
  },
  {
   "cell_type": "code",
   "execution_count": 14,
   "metadata": {
    "collapsed": true
   },
   "outputs": [],
   "source": [
    "kern_data = pd.DataFrame(kern)"
   ]
  },
  {
   "cell_type": "code",
   "execution_count": 15,
   "metadata": {
    "collapsed": true
   },
   "outputs": [],
   "source": [
    "kern_data.to_csv('Kernel_MisMatch_4_1.csv')"
   ]
  },
  {
   "cell_type": "code",
   "execution_count": 33,
   "metadata": {
    "collapsed": false
   },
   "outputs": [
    {
     "data": {
      "text/plain": [
       "(2000, 101)"
      ]
     },
     "execution_count": 33,
     "metadata": {},
     "output_type": "execute_result"
    }
   ],
   "source": [
    "np.array(data).shape"
   ]
  },
  {
   "cell_type": "code",
   "execution_count": 16,
   "metadata": {
    "collapsed": false
   },
   "outputs": [],
   "source": [
    "dataY = pd.read_csv(\"Data/Train/Ytr0.csv\", index_col=0)\n",
    "y = dataY['Bound'].values\n",
    "X = np.array(data)\n",
    "K = kern"
   ]
  },
  {
   "cell_type": "code",
   "execution_count": 17,
   "metadata": {
    "collapsed": false
   },
   "outputs": [],
   "source": [
    "kern = normalize_kernel(kern)"
   ]
  },
  {
   "cell_type": "code",
   "execution_count": 217,
   "metadata": {
    "collapsed": false
   },
   "outputs": [
    {
     "name": "stdout",
     "output_type": "stream",
     "text": [
      "Total number of examples : 2000\n",
      "Ratio of positive samples : 0.50\n",
      "Ratio of negative to positive labels in the data : 1.00\n"
     ]
    }
   ],
   "source": [
    "X_train, X_test, y_train, y_test, K_train, K_test = train_test_split(X,y,K,test_size=0.1)"
   ]
  },
  {
   "cell_type": "code",
   "execution_count": 45,
   "metadata": {
    "collapsed": true
   },
   "outputs": [],
   "source": [
    "X_train, X_test, y_train, y_test, K_train, K_test = K_train_test_split(X,y,K,test_size=0.2)"
   ]
  },
  {
   "cell_type": "code",
   "execution_count": 218,
   "metadata": {
    "collapsed": false,
    "scrolled": false
   },
   "outputs": [
    {
     "name": "stdout",
     "output_type": "stream",
     "text": [
      "\n",
      "\t\t\t######## y has been reformated to {-1,1} ########\n",
      "\n"
     ]
    },
    {
     "name": "stderr",
     "output_type": "stream",
     "text": [
      "/Users/karlhajjar/anaconda/lib/python3.5/site-packages/cvxopt/coneprog.py:2111: FutureWarning: elementwise comparison failed; returning scalar instead, but in the future will perform elementwise comparison\n",
      "  if 'x' in initvals:\n",
      "/Users/karlhajjar/anaconda/lib/python3.5/site-packages/cvxopt/coneprog.py:2116: FutureWarning: elementwise comparison failed; returning scalar instead, but in the future will perform elementwise comparison\n",
      "  if 's' in initvals:\n",
      "/Users/karlhajjar/anaconda/lib/python3.5/site-packages/cvxopt/coneprog.py:2131: FutureWarning: elementwise comparison failed; returning scalar instead, but in the future will perform elementwise comparison\n",
      "  if 'y' in initvals:\n",
      "/Users/karlhajjar/anaconda/lib/python3.5/site-packages/cvxopt/coneprog.py:2136: FutureWarning: elementwise comparison failed; returning scalar instead, but in the future will perform elementwise comparison\n",
      "  if 'z' in initvals:\n"
     ]
    },
    {
     "name": "stdout",
     "output_type": "stream",
     "text": [
      "     pcost       dcost       gap    pres   dres\n",
      " 0:  0.0000e+00 -1.0000e+00  4e+03  6e+01  1e+00\n",
      " 1: -3.7890e+00 -4.4986e+00  1e+02  2e+00  3e-02\n",
      " 2: -2.2564e+00 -2.2930e+00  2e+01  3e-01  5e-03\n",
      " 3: -9.2195e-01 -1.7995e+00  3e+00  3e-02  5e-04\n",
      " 4: -7.8162e-01 -1.1861e+00  4e-01  6e-18  5e-15\n",
      " 5: -8.8444e-01 -9.3520e-01  5e-02  4e-18  4e-15\n",
      " 6: -9.0482e-01 -9.0686e-01  2e-03  5e-18  4e-15\n",
      " 7: -9.0570e-01 -9.0590e-01  2e-04  5e-18  4e-15\n",
      " 8: -9.0579e-01 -9.0581e-01  2e-05  5e-18  4e-15\n",
      " 9: -9.0580e-01 -9.0580e-01  2e-07  6e-18  4e-15\n",
      "Optimal solution found.\n",
      "\n",
      "\n",
      "------ Lambda = 0.001 ------\n",
      "Train accuracy score = 0.753\n",
      "Test accuracy score = 0.535\n",
      "\n",
      "\n",
      "\n",
      "\t\t\t######## y has been reformated to {-1,1} ########\n",
      "\n",
      "     pcost       dcost       gap    pres   dres\n",
      " 0:  0.0000e+00 -1.0000e+00  4e+03  6e+01  1e+00\n",
      " 1: -2.7299e+01 -1.7740e+01  5e+02  7e+00  1e-01\n",
      " 2: -8.7977e+00 -3.7161e+00  8e+01  1e+00  2e-02\n",
      " 3: -1.5724e+00 -1.9576e+00  8e+00  9e-02  2e-03\n",
      " 4: -8.0822e-01 -1.6184e+00  8e-01  1e-17  2e-15\n",
      " 5: -9.2750e-01 -1.1019e+00  2e-01  5e-18  2e-15\n",
      " 6: -9.8763e-01 -9.9437e-01  7e-03  5e-18  2e-15\n",
      " 7: -9.9055e-01 -9.9062e-01  7e-05  5e-18  2e-15\n",
      " 8: -9.9058e-01 -9.9058e-01  7e-07  5e-18  2e-15\n",
      "Optimal solution found.\n",
      "\n",
      "\n",
      "------ Lambda = 0.01 ------\n",
      "Train accuracy score = 0.753\n",
      "Test accuracy score = 0.535\n",
      "\n",
      "\n",
      "\n",
      "\t\t\t######## y has been reformated to {-1,1} ########\n",
      "\n",
      "     pcost       dcost       gap    pres   dres\n",
      " 0:  0.0000e+00 -1.0000e+00  4e+03  6e+01  1e+00\n",
      " 1: -6.1649e+01 -2.9230e+01  7e+02  1e+01  2e-01\n",
      " 2: -1.6547e+01 -3.9812e+00  1e+02  2e+00  3e-02\n",
      " 3: -1.3352e+00 -1.8566e+00  7e+00  8e-02  1e-03\n",
      " 4: -8.1197e-01 -1.5120e+00  7e-01  1e-17  2e-15\n",
      " 5: -9.4491e-01 -1.0800e+00  1e-01  5e-18  2e-15\n",
      " 6: -9.9687e-01 -9.9964e-01  3e-03  5e-18  2e-15\n",
      " 7: -9.9810e-01 -9.9813e-01  3e-05  5e-18  2e-15\n",
      " 8: -9.9812e-01 -9.9812e-01  3e-07  5e-18  2e-15\n",
      "Optimal solution found.\n",
      "\n",
      "\n",
      "------ Lambda = 0.05 ------\n",
      "Train accuracy score = 0.753\n",
      "Test accuracy score = 0.535\n",
      "\n",
      "\n",
      "\n",
      "\t\t\t######## y has been reformated to {-1,1} ########\n",
      "\n",
      "     pcost       dcost       gap    pres   dres\n",
      " 0:  0.0000e+00 -1.0000e+00  4e+03  6e+01  1e+00\n",
      " 1: -7.2484e+01 -3.1398e+01  8e+02  1e+01  2e-01\n",
      " 2: -1.3571e+01 -2.9148e+00  1e+02  2e+00  3e-02\n",
      " 3: -9.2602e-01 -1.7944e+00  2e+00  2e-02  3e-04\n",
      " 4: -8.7111e-01 -1.1830e+00  4e-01  1e-03  2e-05\n",
      " 5: -9.7500e-01 -1.0346e+00  6e-02  8e-05  1e-06\n",
      " 6: -9.9878e-01 -9.9943e-01  7e-04  8e-07  1e-08\n",
      " 7: -9.9906e-01 -9.9906e-01  7e-06  8e-09  1e-10\n",
      " 8: -9.9906e-01 -9.9906e-01  7e-08  8e-11  1e-12\n",
      "Optimal solution found.\n",
      "\n",
      "\n",
      "------ Lambda = 0.1 ------\n",
      "Train accuracy score = 0.753\n",
      "Test accuracy score = 0.535\n",
      "\n",
      "\n",
      "\n",
      "\t\t\t######## y has been reformated to {-1,1} ########\n",
      "\n",
      "     pcost       dcost       gap    pres   dres\n",
      " 0:  0.0000e+00 -1.0000e+00  4e+03  6e+01  1e+00\n",
      " 1: -6.0274e+01 -1.4606e+01  7e+02  1e+01  2e-01\n",
      " 2: -7.7338e-01 -1.7531e+00  1e+01  2e-01  3e-03\n",
      " 3: -7.2948e-01 -1.5769e+00  8e-01  2e-17  2e-15\n",
      " 4: -9.1324e-01 -1.1043e+00  2e-01  6e-18  2e-15\n",
      " 5: -9.9720e-01 -1.0031e+00  6e-03  5e-18  2e-15\n",
      " 6: -9.9988e-01 -9.9994e-01  6e-05  6e-18  2e-15\n",
      " 7: -9.9991e-01 -9.9991e-01  6e-07  5e-18  2e-15\n",
      "Optimal solution found.\n",
      "\n",
      "\n",
      "------ Lambda = 1 ------\n",
      "Train accuracy score = 0.753\n",
      "Test accuracy score = 0.535\n",
      "\n",
      "\n",
      "\n",
      "\t\t\t######## y has been reformated to {-1,1} ########\n",
      "\n",
      "     pcost       dcost       gap    pres   dres\n",
      " 0:  0.0000e+00 -1.0000e+00  4e+03  6e+01  1e+00\n",
      " 1: -1.4062e+01 -2.4318e+00  2e+02  3e+00  5e-02\n",
      " 2: -8.3466e-01 -1.7448e+00  2e+00  2e-02  3e-04\n",
      " 3: -8.5661e-01 -1.1470e+00  3e-01  8e-04  1e-05\n",
      " 4: -9.9252e-01 -1.0086e+00  2e-02  1e-05  2e-07\n",
      " 5: -9.9992e-01 -1.0001e+00  2e-04  1e-07  2e-09\n",
      " 6: -9.9999e-01 -9.9999e-01  2e-06  1e-09  2e-11\n",
      " 7: -9.9999e-01 -9.9999e-01  2e-08  1e-11  2e-13\n",
      "Optimal solution found.\n",
      "\n",
      "\n",
      "------ Lambda = 10 ------\n",
      "Train accuracy score = 0.753\n",
      "Test accuracy score = 0.535\n",
      "\n",
      "\n",
      "\n",
      "\t\t\t######## y has been reformated to {-1,1} ########\n",
      "\n",
      "     pcost       dcost       gap    pres   dres\n",
      " 0:  0.0000e+00 -1.0000e+00  4e+03  6e+01  1e+00\n",
      " 1: -2.4723e+00 -1.7847e+00  6e+01  9e-01  1e-02\n",
      " 2: -7.3285e-01 -1.7210e+00  1e+00  9e-05  2e-06\n",
      " 3: -9.2230e-01 -1.0327e+00  1e-01  1e-05  2e-07\n",
      " 4: -9.9919e-01 -1.0006e+00  1e-03  1e-07  2e-09\n",
      " 5: -9.9999e-01 -1.0000e+00  1e-05  1e-09  2e-11\n",
      " 6: -1.0000e+00 -1.0000e+00  1e-07  1e-11  2e-13\n",
      "Optimal solution found.\n",
      "\n",
      "\n",
      "------ Lambda = 100 ------\n",
      "Train accuracy score = 0.753\n",
      "Test accuracy score = 0.535\n",
      "\n",
      "\n",
      "\n",
      "\t\t\t######## y has been reformated to {-1,1} ########\n",
      "\n",
      "     pcost       dcost       gap    pres   dres\n",
      " 0:  0.0000e+00 -1.0000e+00  4e+03  6e+01  1e+00\n",
      " 1: -1.1402e+00 -1.7643e+00  5e+01  6e-01  1e-02\n",
      " 2: -7.1800e-01 -1.7064e+00  1e+00  7e-17  2e-15\n",
      " 3: -9.2553e-01 -1.0103e+00  8e-02  7e-18  2e-15\n",
      " 4: -9.9925e-01 -1.0002e+00  9e-04  5e-18  2e-15\n",
      " 5: -9.9999e-01 -1.0000e+00  9e-06  6e-18  2e-15\n",
      " 6: -1.0000e+00 -1.0000e+00  9e-08  5e-18  2e-15\n",
      "Optimal solution found.\n",
      "\n",
      "\n",
      "------ Lambda = 1000 ------\n",
      "Train accuracy score = 0.753\n",
      "Test accuracy score = 0.535\n",
      "\n",
      "\n"
     ]
    }
   ],
   "source": [
    "res = []\n",
    "for lmdb in [0.001,0.01,0.05,0.1,1,10,100,1000]:\n",
    "    model = SVM(lmbd=lmdb)\n",
    "    model.train(K_train, y_train)\n",
    "    y_train_pred = model.predict(K_train)\n",
    "    y_test_pred = model.predict(K_test)\n",
    "    train_score = accuracy_score(y_train, y_train_pred)\n",
    "    test_score = accuracy_score(y_test, y_test_pred)\n",
    "    print(\"\\n\\n------ Lambda = {} ------\".format(lmdb))\n",
    "    print('Train accuracy score = {:.3f}'.format(train_score))\n",
    "    print('Test accuracy score = {:.3f}\\n\\n'.format(test_score))\n",
    "    res.append([lmdb,test_score])"
   ]
  },
  {
   "cell_type": "code",
   "execution_count": 219,
   "metadata": {
    "collapsed": false
   },
   "outputs": [
    {
     "name": "stdout",
     "output_type": "stream",
     "text": [
      "[1000, 0.535]\n"
     ]
    }
   ],
   "source": [
    "best_pred = sorted(res, key = lambda x:x[1])[-1]\n",
    "print(best_pred)"
   ]
  },
  {
   "cell_type": "code",
   "execution_count": 27,
   "metadata": {
    "collapsed": false
   },
   "outputs": [
    {
     "name": "stdout",
     "output_type": "stream",
     "text": [
      "100000\n"
     ]
    }
   ],
   "source": [
    "print(lmbd)"
   ]
  },
  {
   "cell_type": "code",
   "execution_count": 156,
   "metadata": {
    "collapsed": false
   },
   "outputs": [
    {
     "name": "stdout",
     "output_type": "stream",
     "text": [
      "\n",
      "\t\t\t######## y has been reformated to {-1,1} ########\n",
      "\n"
     ]
    },
    {
     "name": "stderr",
     "output_type": "stream",
     "text": [
      "/Users/karlhajjar/anaconda/lib/python3.5/site-packages/cvxopt/coneprog.py:2111: FutureWarning: elementwise comparison failed; returning scalar instead, but in the future will perform elementwise comparison\n",
      "  if 'x' in initvals:\n",
      "/Users/karlhajjar/anaconda/lib/python3.5/site-packages/cvxopt/coneprog.py:2116: FutureWarning: elementwise comparison failed; returning scalar instead, but in the future will perform elementwise comparison\n",
      "  if 's' in initvals:\n",
      "/Users/karlhajjar/anaconda/lib/python3.5/site-packages/cvxopt/coneprog.py:2131: FutureWarning: elementwise comparison failed; returning scalar instead, but in the future will perform elementwise comparison\n",
      "  if 'y' in initvals:\n",
      "/Users/karlhajjar/anaconda/lib/python3.5/site-packages/cvxopt/coneprog.py:2136: FutureWarning: elementwise comparison failed; returning scalar instead, but in the future will perform elementwise comparison\n",
      "  if 'z' in initvals:\n"
     ]
    },
    {
     "name": "stdout",
     "output_type": "stream",
     "text": [
      "     pcost       dcost       gap    pres   dres\n",
      " 0:  0.0000e+00 -1.0000e+00  4e+03  6e+01  1e+00\n",
      " 1: -9.9146e-01 -1.7627e+00  5e+01  6e-01  1e-02\n",
      " 2: -7.1546e-01 -1.7040e+00  1e+00  6e-17  2e-15\n",
      " 3: -9.2579e-01 -1.0071e+00  8e-02  7e-18  2e-15\n",
      " 4: -9.9926e-01 -1.0001e+00  9e-04  5e-18  2e-15\n",
      " 5: -9.9999e-01 -1.0000e+00  9e-06  6e-18  2e-15\n",
      " 6: -1.0000e+00 -1.0000e+00  9e-08  5e-18  2e-15\n",
      "Optimal solution found.\n",
      "\n",
      "\n",
      "------ Lambda = 100000 ------\n",
      "Train accuracy score = 0.761\n",
      "Test accuracy score = 0.580\n",
      "\n",
      "\n"
     ]
    }
   ],
   "source": [
    "lmbd = 100000\n",
    "model = SVM(lmbd=lmbd)\n",
    "model.train(K_train, y_train)\n",
    "y_train_pred = model.predict(K_train)\n",
    "y_test_pred = model.predict(K_test)\n",
    "train_score = accuracy_score(y_train, y_train_pred)\n",
    "test_score = accuracy_score(y_test, y_test_pred)\n",
    "print(\"\\n\\n------ Lambda = {} ------\".format(lmbd))\n",
    "print('Train accuracy score = {:.3f}'.format(train_score))\n",
    "print('Test accuracy score = {:.3f}\\n\\n'.format(test_score))"
   ]
  },
  {
   "cell_type": "code",
   "execution_count": 53,
   "metadata": {
    "collapsed": false
   },
   "outputs": [
    {
     "name": "stdout",
     "output_type": "stream",
     "text": [
      "\n",
      "\t\t\t######## y has been reformated to {-1,1} ########\n",
      "\n"
     ]
    },
    {
     "name": "stderr",
     "output_type": "stream",
     "text": [
      "/Users/karlhajjar/anaconda/lib/python3.5/site-packages/cvxopt/coneprog.py:2111: FutureWarning: elementwise comparison failed; returning scalar instead, but in the future will perform elementwise comparison\n",
      "  if 'x' in initvals:\n",
      "/Users/karlhajjar/anaconda/lib/python3.5/site-packages/cvxopt/coneprog.py:2116: FutureWarning: elementwise comparison failed; returning scalar instead, but in the future will perform elementwise comparison\n",
      "  if 's' in initvals:\n",
      "/Users/karlhajjar/anaconda/lib/python3.5/site-packages/cvxopt/coneprog.py:2131: FutureWarning: elementwise comparison failed; returning scalar instead, but in the future will perform elementwise comparison\n",
      "  if 'y' in initvals:\n",
      "/Users/karlhajjar/anaconda/lib/python3.5/site-packages/cvxopt/coneprog.py:2136: FutureWarning: elementwise comparison failed; returning scalar instead, but in the future will perform elementwise comparison\n",
      "  if 'z' in initvals:\n"
     ]
    },
    {
     "name": "stdout",
     "output_type": "stream",
     "text": [
      "     pcost       dcost       gap    pres   dres\n",
      " 0:  0.0000e+00 -1.0000e+00  3e+03  6e+01  1e+00\n",
      " 1: -2.4207e+00 -3.2786e+00  1e+02  2e+00  3e-02\n",
      " 2: -1.5022e+00 -2.0293e+00  1e+01  2e-01  4e-03\n",
      " 3: -7.3850e-01 -1.6413e+00  2e+00  1e-02  2e-04\n",
      " 4: -7.2831e-01 -9.8523e-01  3e-01  2e-03  3e-05\n",
      " 5: -7.7176e-01 -8.6485e-01  1e-01  5e-04  8e-06\n",
      " 6: -7.9458e-01 -8.1709e-01  2e-02  6e-05  1e-06\n",
      " 7: -8.0247e-01 -8.0420e-01  2e-03  1e-07  2e-09\n",
      " 8: -8.0322e-01 -8.0332e-01  1e-04  7e-09  1e-10\n",
      " 9: -8.0326e-01 -8.0326e-01  3e-06  2e-10  3e-12\n",
      "10: -8.0326e-01 -8.0326e-01  7e-08  2e-12  4e-14\n",
      "Optimal solution found.\n",
      "\n",
      "\n",
      "------ Lambda = 0.0005 ------\n",
      "Train accuracy score = 0.787\n",
      "Test accuracy score = 0.570\n",
      "\n",
      "\n"
     ]
    }
   ],
   "source": [
    "lmbd = 5e-4\n",
    "model = SVM(lmbd=lmbd)\n",
    "model.train(K_train, y_train)\n",
    "y_train_pred = model.predict(K_train)\n",
    "y_test_pred = model.predict(K_test)\n",
    "train_score = accuracy_score(y_train, y_train_pred)\n",
    "test_score = accuracy_score(y_test, y_test_pred)\n",
    "print(\"\\n\\n------ Lambda = {} ------\".format(lmbd))\n",
    "print('Train accuracy score = {:.3f}'.format(train_score))\n",
    "print('Test accuracy score = {:.3f}\\n\\n'.format(test_score))"
   ]
  },
  {
   "cell_type": "code",
   "execution_count": 39,
   "metadata": {
    "collapsed": false
   },
   "outputs": [
    {
     "data": {
      "text/plain": [
       "array([[3, 0, 1, ..., 2, 0, 3],\n",
       "       [0, 0, 1, ..., 2, 0, 1],\n",
       "       [3, 0, 3, ..., 0, 3, 1],\n",
       "       ...,\n",
       "       [3, 1, 1, ..., 3, 2, 1],\n",
       "       [0, 3, 2, ..., 3, 0, 0],\n",
       "       [1, 1, 3, ..., 3, 1, 0]])"
      ]
     },
     "execution_count": 39,
     "metadata": {},
     "output_type": "execute_result"
    }
   ],
   "source": [
    "X_train"
   ]
  },
  {
   "cell_type": "code",
   "execution_count": 40,
   "metadata": {
    "collapsed": false
   },
   "outputs": [
    {
     "data": {
      "text/plain": [
       "array([[3, 3, 2, ..., 1, 3, 2],\n",
       "       [1, 0, 0, ..., 0, 0, 2],\n",
       "       [0, 2, 0, ..., 3, 3, 1],\n",
       "       ...,\n",
       "       [3, 0, 2, ..., 1, 0, 1],\n",
       "       [3, 1, 2, ..., 3, 3, 3],\n",
       "       [2, 1, 3, ..., 1, 0, 2]])"
      ]
     },
     "execution_count": 40,
     "metadata": {},
     "output_type": "execute_result"
    }
   ],
   "source": [
    "X_test"
   ]
  },
  {
   "cell_type": "code",
   "execution_count": 58,
   "metadata": {
    "collapsed": false
   },
   "outputs": [],
   "source": [
    "def transform(y, threshold=0.5):\n",
    "    res = np.zeros(len(y))\n",
    "    ones = y >= threshold\n",
    "    res[ones] = 1\n",
    "    res[~ones] = 0\n",
    "    return res"
   ]
  },
  {
   "cell_type": "code",
   "execution_count": null,
   "metadata": {
    "collapsed": false
   },
   "outputs": [],
   "source": [
    "res = []\n",
    "for lmdb in [1e-5, 1e-4, 0.001,0.01,0.05]:\n",
    "    print(\"------ Lambda = {} ------\".format(lmdb))\n",
    "    model = KRR(lmbd=lmdb)\n",
    "    model.train(K_train, y_train)\n",
    "    y_train_pred = model.predict(K_train)\n",
    "    y_test_pred = model.predict(K_test)\n",
    "    for threshold in [0.1, 0.2, 0.3, 0.4, 0.5, 0.6, 0.7, 0.8]:\n",
    "        print('\\t\\tthreshold = {}'.format(threshold))\n",
    "        res_train = transform(y_train_pred, threshold=threshold)\n",
    "        res_test = transform(y_test_pred, threshold=threshold)\n",
    "        train_score = accuracy_score(y_train, res_train)\n",
    "        test_score = accuracy_score(y_test, res_test)\n",
    "        print('Train accuracy score = {:.3f}'.format(train_score))\n",
    "        print('Test accuracy score = {:.3f}\\n'.format(test_score))\n",
    "        res.append([lmdb, threshold, test_score])"
   ]
  },
  {
   "cell_type": "code",
   "execution_count": 221,
   "metadata": {
    "collapsed": false
   },
   "outputs": [
    {
     "name": "stdout",
     "output_type": "stream",
     "text": [
      "[0.0001, 0.2, 0.595]\n"
     ]
    }
   ],
   "source": [
    "best_pred = sorted(res, key = lambda x:x[2])[-1]\n",
    "print(best_pred)"
   ]
  },
  {
   "cell_type": "code",
   "execution_count": 200,
   "metadata": {
    "collapsed": false
   },
   "outputs": [
    {
     "name": "stdout",
     "output_type": "stream",
     "text": [
      "------ Lambda = 0.1 ------\n",
      "\t\tthreshold = 0.1\n",
      "Train accuracy score = 0.500\n",
      "Test accuracy score = 0.500\n",
      "\n",
      "\t\tthreshold = 0.2\n",
      "Train accuracy score = 0.500\n",
      "Test accuracy score = 0.500\n",
      "\n",
      "\t\tthreshold = 0.3\n",
      "Train accuracy score = 0.501\n",
      "Test accuracy score = 0.495\n",
      "\n",
      "\t\tthreshold = 0.4\n",
      "Train accuracy score = 0.526\n",
      "Test accuracy score = 0.540\n",
      "\n",
      "\t\tthreshold = 0.5\n",
      "Train accuracy score = 0.500\n",
      "Test accuracy score = 0.500\n",
      "\n",
      "\t\tthreshold = 0.6\n",
      "Train accuracy score = 0.500\n",
      "Test accuracy score = 0.500\n",
      "\n",
      "\t\tthreshold = 0.7\n",
      "Train accuracy score = 0.500\n",
      "Test accuracy score = 0.500\n",
      "\n",
      "\t\tthreshold = 0.8\n",
      "Train accuracy score = 0.500\n",
      "Test accuracy score = 0.500\n",
      "\n",
      "------ Lambda = 0.5 ------\n",
      "\t\tthreshold = 0.1\n",
      "Train accuracy score = 0.500\n",
      "Test accuracy score = 0.500\n",
      "\n",
      "\t\tthreshold = 0.2\n",
      "Train accuracy score = 0.500\n",
      "Test accuracy score = 0.490\n",
      "\n",
      "\t\tthreshold = 0.3\n",
      "Train accuracy score = 0.500\n",
      "Test accuracy score = 0.500\n",
      "\n",
      "\t\tthreshold = 0.4\n",
      "Train accuracy score = 0.500\n",
      "Test accuracy score = 0.500\n",
      "\n",
      "\t\tthreshold = 0.5\n",
      "Train accuracy score = 0.500\n",
      "Test accuracy score = 0.500\n",
      "\n",
      "\t\tthreshold = 0.6\n",
      "Train accuracy score = 0.500\n",
      "Test accuracy score = 0.500\n",
      "\n",
      "\t\tthreshold = 0.7\n",
      "Train accuracy score = 0.500\n",
      "Test accuracy score = 0.500\n",
      "\n",
      "\t\tthreshold = 0.8\n",
      "Train accuracy score = 0.500\n",
      "Test accuracy score = 0.500\n",
      "\n",
      "------ Lambda = 0.1 ------\n",
      "\t\tthreshold = 0.1\n",
      "Train accuracy score = 0.500\n",
      "Test accuracy score = 0.500\n",
      "\n",
      "\t\tthreshold = 0.2\n",
      "Train accuracy score = 0.500\n",
      "Test accuracy score = 0.500\n",
      "\n",
      "\t\tthreshold = 0.3\n",
      "Train accuracy score = 0.501\n",
      "Test accuracy score = 0.495\n",
      "\n",
      "\t\tthreshold = 0.4\n",
      "Train accuracy score = 0.526\n",
      "Test accuracy score = 0.540\n",
      "\n",
      "\t\tthreshold = 0.5\n",
      "Train accuracy score = 0.500\n",
      "Test accuracy score = 0.500\n",
      "\n",
      "\t\tthreshold = 0.6\n",
      "Train accuracy score = 0.500\n",
      "Test accuracy score = 0.500\n",
      "\n",
      "\t\tthreshold = 0.7\n",
      "Train accuracy score = 0.500\n",
      "Test accuracy score = 0.500\n",
      "\n",
      "\t\tthreshold = 0.8\n",
      "Train accuracy score = 0.500\n",
      "Test accuracy score = 0.500\n",
      "\n",
      "------ Lambda = 5 ------\n",
      "\t\tthreshold = 0.1\n",
      "Train accuracy score = 0.500\n",
      "Test accuracy score = 0.500\n",
      "\n",
      "\t\tthreshold = 0.2\n",
      "Train accuracy score = 0.500\n",
      "Test accuracy score = 0.500\n",
      "\n",
      "\t\tthreshold = 0.3\n",
      "Train accuracy score = 0.500\n",
      "Test accuracy score = 0.500\n",
      "\n",
      "\t\tthreshold = 0.4\n",
      "Train accuracy score = 0.500\n",
      "Test accuracy score = 0.500\n",
      "\n",
      "\t\tthreshold = 0.5\n",
      "Train accuracy score = 0.500\n",
      "Test accuracy score = 0.500\n",
      "\n",
      "\t\tthreshold = 0.6\n",
      "Train accuracy score = 0.500\n",
      "Test accuracy score = 0.500\n",
      "\n",
      "\t\tthreshold = 0.7\n",
      "Train accuracy score = 0.500\n",
      "Test accuracy score = 0.500\n",
      "\n",
      "\t\tthreshold = 0.8\n",
      "Train accuracy score = 0.500\n",
      "Test accuracy score = 0.500\n",
      "\n",
      "------ Lambda = 10 ------\n",
      "\t\tthreshold = 0.1\n",
      "Train accuracy score = 0.500\n",
      "Test accuracy score = 0.500\n",
      "\n",
      "\t\tthreshold = 0.2\n",
      "Train accuracy score = 0.500\n",
      "Test accuracy score = 0.500\n",
      "\n",
      "\t\tthreshold = 0.3\n",
      "Train accuracy score = 0.500\n",
      "Test accuracy score = 0.500\n",
      "\n",
      "\t\tthreshold = 0.4\n",
      "Train accuracy score = 0.500\n",
      "Test accuracy score = 0.500\n",
      "\n",
      "\t\tthreshold = 0.5\n",
      "Train accuracy score = 0.500\n",
      "Test accuracy score = 0.500\n",
      "\n",
      "\t\tthreshold = 0.6\n",
      "Train accuracy score = 0.500\n",
      "Test accuracy score = 0.500\n",
      "\n",
      "\t\tthreshold = 0.7\n",
      "Train accuracy score = 0.500\n",
      "Test accuracy score = 0.500\n",
      "\n",
      "\t\tthreshold = 0.8\n",
      "Train accuracy score = 0.500\n",
      "Test accuracy score = 0.500\n",
      "\n"
     ]
    }
   ],
   "source": [
    "res = []\n",
    "for lmdb in [0.1, 0.5, 0.1, 5, 10]:\n",
    "    print(\"------ Lambda = {} ------\".format(lmdb))\n",
    "    model = KRR(lmbd=lmdb)\n",
    "    model.train(K_train, y_train)\n",
    "    y_train_pred = model.predict(K_train)\n",
    "    y_test_pred = model.predict(K_test)\n",
    "    for threshold in [0.1, 0.2, 0.3, 0.4, 0.5, 0.6, 0.7, 0.8]:\n",
    "        print('\\t\\tthreshold = {}'.format(threshold))\n",
    "        res_train = transform(y_train_pred, threshold=threshold)\n",
    "        res_test = transform(y_test_pred, threshold=threshold)\n",
    "        train_score = accuracy_score(y_train, res_train)\n",
    "        test_score = accuracy_score(y_test, res_test)\n",
    "        print('Train accuracy score = {:.3f}'.format(train_score))\n",
    "        print('Test accuracy score = {:.3f}\\n'.format(test_score))\n",
    "        res.append([lmdb, threshold, test_score])"
   ]
  },
  {
   "cell_type": "code",
   "execution_count": 201,
   "metadata": {
    "collapsed": false
   },
   "outputs": [
    {
     "name": "stdout",
     "output_type": "stream",
     "text": [
      "[0.1, 0.4, 0.54]\n"
     ]
    }
   ],
   "source": [
    "best_pred = sorted(res, key = lambda x:x[2])[-1]\n",
    "print(best_pred)"
   ]
  },
  {
   "cell_type": "code",
   "execution_count": 63,
   "metadata": {
    "collapsed": false
   },
   "outputs": [
    {
     "data": {
      "text/plain": [
       "0"
      ]
     },
     "execution_count": 63,
     "metadata": {},
     "output_type": "execute_result"
    }
   ],
   "source": [
    "int(0.5)"
   ]
  },
  {
   "cell_type": "code",
   "execution_count": 64,
   "metadata": {
    "collapsed": false
   },
   "outputs": [
    {
     "data": {
      "text/plain": [
       "1"
      ]
     },
     "execution_count": 64,
     "metadata": {},
     "output_type": "execute_result"
    }
   ],
   "source": [
    "int(1.2)"
   ]
  },
  {
   "cell_type": "code",
   "execution_count": 233,
   "metadata": {
    "collapsed": false
   },
   "outputs": [
    {
     "name": "stdout",
     "output_type": "stream",
     "text": [
      "Train accuracy score = 0.679\n",
      "Test accuracy score = 0.595\n",
      "\n"
     ]
    }
   ],
   "source": [
    "model = KRR(lmbd=0.0001)\n",
    "model.train(K_train, y_train)\n",
    "y_train_pred = model.predict(K_train)\n",
    "y_test_pred_krr = model.predict(K_test)\n",
    "res_train = transform(y_train_pred, threshold=0.2)\n",
    "res_test = transform(y_test_pred_krr, threshold=0.2)\n",
    "train_score = accuracy_score(y_train, res_train)\n",
    "test_score = accuracy_score(y_test, res_test)\n",
    "print('Train accuracy score = {:.3f}'.format(train_score))\n",
    "print('Test accuracy score = {:.3f}\\n'.format(test_score))\n",
    "res.append([lmdb, threshold, test_score])"
   ]
  },
  {
   "cell_type": "code",
   "execution_count": 234,
   "metadata": {
    "collapsed": false
   },
   "outputs": [
    {
     "name": "stdout",
     "output_type": "stream",
     "text": [
      "\n",
      "\t\t\t######## y has been reformated to {-1,1} ########\n",
      "\n"
     ]
    },
    {
     "name": "stderr",
     "output_type": "stream",
     "text": [
      "/Users/karlhajjar/anaconda/lib/python3.5/site-packages/cvxopt/coneprog.py:2111: FutureWarning: elementwise comparison failed; returning scalar instead, but in the future will perform elementwise comparison\n",
      "  if 'x' in initvals:\n",
      "/Users/karlhajjar/anaconda/lib/python3.5/site-packages/cvxopt/coneprog.py:2116: FutureWarning: elementwise comparison failed; returning scalar instead, but in the future will perform elementwise comparison\n",
      "  if 's' in initvals:\n",
      "/Users/karlhajjar/anaconda/lib/python3.5/site-packages/cvxopt/coneprog.py:2131: FutureWarning: elementwise comparison failed; returning scalar instead, but in the future will perform elementwise comparison\n",
      "  if 'y' in initvals:\n",
      "/Users/karlhajjar/anaconda/lib/python3.5/site-packages/cvxopt/coneprog.py:2136: FutureWarning: elementwise comparison failed; returning scalar instead, but in the future will perform elementwise comparison\n",
      "  if 'z' in initvals:\n"
     ]
    },
    {
     "name": "stdout",
     "output_type": "stream",
     "text": [
      "     pcost       dcost       gap    pres   dres\n",
      " 0:  0.0000e+00 -1.0000e+00  4e+03  6e+01  1e+00\n",
      " 1: -1.1402e+00 -1.7643e+00  5e+01  6e-01  1e-02\n",
      " 2: -7.1800e-01 -1.7064e+00  1e+00  7e-17  2e-15\n",
      " 3: -9.2553e-01 -1.0103e+00  8e-02  7e-18  2e-15\n",
      " 4: -9.9925e-01 -1.0002e+00  9e-04  5e-18  2e-15\n",
      " 5: -9.9999e-01 -1.0000e+00  9e-06  6e-18  2e-15\n",
      " 6: -1.0000e+00 -1.0000e+00  9e-08  5e-18  2e-15\n",
      "Optimal solution found.\n",
      "\n",
      "\n",
      "------ Lambda = 1000 ------\n",
      "Train accuracy score = 0.753\n",
      "Test accuracy score = 0.535\n",
      "\n",
      "\n"
     ]
    }
   ],
   "source": [
    "lmbd = 1000\n",
    "model = SVM(lmbd=lmbd)\n",
    "model.train(K_train, y_train)\n",
    "y_train_pred = model.predict(K_train)\n",
    "y_test_pred_svm = model.predict(K_test)\n",
    "train_score = accuracy_score(y_train, y_train_pred)\n",
    "test_score = accuracy_score(y_test, y_test_pred_svm)\n",
    "print(\"\\n\\n------ Lambda = {} ------\".format(lmbd))\n",
    "print('Train accuracy score = {:.3f}'.format(train_score))\n",
    "print('Test accuracy score = {:.3f}\\n\\n'.format(test_score))"
   ]
  },
  {
   "cell_type": "code",
   "execution_count": 69,
   "metadata": {
    "collapsed": false
   },
   "outputs": [
    {
     "data": {
      "text/plain": [
       "array([1, 1, 0, 1, 1, 1, 0, 1, 0, 0, 0, 0, 0, 1, 0, 0, 1, 0, 0, 0, 0, 0,\n",
       "       0, 0, 1, 0, 1, 1, 1, 0, 1, 0, 0, 1, 1, 1, 0, 0, 0, 0, 1, 1, 1, 0,\n",
       "       1, 1, 1, 1, 1, 1, 1, 0, 0, 0, 1, 0, 0, 1, 1, 0, 0, 1, 0, 1, 1, 0,\n",
       "       1, 0, 1, 0, 1, 1, 1, 1, 1, 0, 1, 1, 1, 0, 1, 1, 1, 1, 0, 0, 0, 0,\n",
       "       0, 1, 0, 0, 1, 1, 1, 0, 1, 1, 1, 1, 1, 0, 1, 0, 1, 0, 0, 0, 1, 1,\n",
       "       0, 1, 0, 0, 0, 0, 1, 1, 1, 0, 0, 1, 0, 1, 0, 0, 0, 1, 1, 0, 0, 1,\n",
       "       0, 0, 0, 1, 1, 0, 0, 0, 1, 0, 1, 1, 0, 1, 1, 0, 1, 0, 0, 1, 1, 1,\n",
       "       0, 0, 0, 1, 0, 0, 1, 1, 0, 0, 0, 1, 0, 1, 1, 0, 1, 1, 0, 0, 1, 0,\n",
       "       1, 0, 1, 1, 1, 0, 0, 1, 0, 0, 1, 1, 0, 0, 0, 1, 1, 0, 0, 0, 1, 1,\n",
       "       0, 1])"
      ]
     },
     "execution_count": 69,
     "metadata": {},
     "output_type": "execute_result"
    }
   ],
   "source": [
    "y_test"
   ]
  },
  {
   "cell_type": "code",
   "execution_count": 235,
   "metadata": {
    "collapsed": false
   },
   "outputs": [
    {
     "data": {
      "text/plain": [
       "array([False, False, False, False, False, False,  True, False, False,\n",
       "       False, False, False, False, False, False, False, False, False,\n",
       "       False, False,  True, False, False, False, False, False, False,\n",
       "       False, False, False, False, False, False, False, False, False,\n",
       "       False, False, False, False, False, False, False, False, False,\n",
       "       False, False, False, False, False, False, False, False, False,\n",
       "       False, False, False, False, False,  True, False, False, False,\n",
       "        True, False, False, False, False, False, False,  True, False,\n",
       "       False, False, False, False, False, False, False, False, False,\n",
       "       False, False, False, False, False, False, False, False, False,\n",
       "       False, False, False, False, False, False, False, False, False,\n",
       "       False, False, False, False, False, False, False, False, False,\n",
       "       False, False, False, False, False, False, False, False, False,\n",
       "       False, False, False, False, False, False, False, False, False,\n",
       "       False,  True, False, False, False, False, False, False, False,\n",
       "       False, False, False, False, False, False, False, False, False,\n",
       "       False, False, False, False, False, False, False, False, False,\n",
       "       False, False, False, False, False, False, False, False, False,\n",
       "       False, False, False, False, False, False, False, False, False,\n",
       "       False, False, False, False, False, False, False, False, False,\n",
       "       False, False, False, False, False, False, False, False, False,\n",
       "       False, False,  True, False, False, False, False, False, False,\n",
       "       False, False])"
      ]
     },
     "execution_count": 235,
     "metadata": {},
     "output_type": "execute_result"
    }
   ],
   "source": [
    "(y_test_pred_svm == 1) * (res_test == 0)"
   ]
  },
  {
   "cell_type": "code",
   "execution_count": 76,
   "metadata": {
    "collapsed": false
   },
   "outputs": [
    {
     "data": {
      "text/plain": [
       "array([0., 0., 0., 0., 0., 0., 0., 0., 0., 0., 0., 0., 0., 0., 0., 0., 0.,\n",
       "       0., 0., 0., 0., 0., 0., 0., 0., 0., 0., 0., 0., 0., 0., 0., 0., 0.,\n",
       "       0., 0., 0., 0., 0., 0., 0., 0., 0., 0., 0., 0., 0., 0., 0., 0., 0.,\n",
       "       0., 0., 0., 0., 0., 0., 0., 0., 0., 0., 0., 0., 0., 0., 0., 0., 0.,\n",
       "       0., 0., 0., 0., 0., 0., 0., 0., 0., 0., 0., 0., 0., 0., 0., 0., 0.,\n",
       "       0., 0., 0., 0., 0., 0., 0., 0., 0., 0., 0., 0., 0., 0., 0., 0., 0.,\n",
       "       0., 0., 0., 0., 0., 0., 0., 0., 0., 0., 0., 0., 0., 0., 0., 0., 0.,\n",
       "       0., 0., 0., 0., 0., 0., 0., 0., 0., 0., 0., 0., 0., 0., 0., 0., 0.,\n",
       "       0., 0., 0., 0., 0., 0., 0., 0., 0., 0., 0., 0., 0., 0., 0., 0., 0.,\n",
       "       0., 0., 0., 0., 0., 0., 0., 0., 0., 0., 0., 0., 0., 0., 0., 0., 0.,\n",
       "       0., 0., 0., 0., 0., 0., 0., 0., 0., 0., 0., 0., 0., 0., 0., 0., 0.,\n",
       "       0., 0., 0., 0., 0., 0., 0., 0., 0., 0., 0., 0., 0.])"
      ]
     },
     "execution_count": 76,
     "metadata": {},
     "output_type": "execute_result"
    }
   ],
   "source": [
    "transform(y_test_pred, threshold=0.5)"
   ]
  },
  {
   "cell_type": "code",
   "execution_count": 236,
   "metadata": {
    "collapsed": false
   },
   "outputs": [],
   "source": [
    "on_target = res_test == y_test\n",
    "one_indices = y_test == 1.\n",
    "TP = np.sum(on_target * one_indices)\n",
    "FN = np.sum(~on_target * one_indices)\n",
    "TN = np.sum(on_target * ~one_indices)\n",
    "FP = np.sum(~on_target * ~one_indices)"
   ]
  },
  {
   "cell_type": "code",
   "execution_count": 228,
   "metadata": {
    "collapsed": true
   },
   "outputs": [],
   "source": [
    "on_target = y_test_pred_svm == y_test\n",
    "one_indices = y_test == 1.\n",
    "TP = np.sum(on_target * one_indices)\n",
    "FN = np.sum(~on_target * one_indices)\n",
    "TN = np.sum(on_target * ~one_indices)\n",
    "FP = np.sum(~on_target * ~one_indices)"
   ]
  },
  {
   "cell_type": "code",
   "execution_count": 237,
   "metadata": {
    "collapsed": false
   },
   "outputs": [
    {
     "data": {
      "text/plain": [
       "88"
      ]
     },
     "execution_count": 237,
     "metadata": {},
     "output_type": "execute_result"
    }
   ],
   "source": [
    "TP"
   ]
  },
  {
   "cell_type": "code",
   "execution_count": 238,
   "metadata": {
    "collapsed": false
   },
   "outputs": [
    {
     "data": {
      "text/plain": [
       "12"
      ]
     },
     "execution_count": 238,
     "metadata": {},
     "output_type": "execute_result"
    }
   ],
   "source": [
    "FN"
   ]
  },
  {
   "cell_type": "code",
   "execution_count": 239,
   "metadata": {
    "collapsed": false
   },
   "outputs": [
    {
     "data": {
      "text/plain": [
       "31"
      ]
     },
     "execution_count": 239,
     "metadata": {},
     "output_type": "execute_result"
    }
   ],
   "source": [
    "TN"
   ]
  },
  {
   "cell_type": "code",
   "execution_count": 240,
   "metadata": {
    "collapsed": false
   },
   "outputs": [
    {
     "data": {
      "text/plain": [
       "69"
      ]
     },
     "execution_count": 240,
     "metadata": {},
     "output_type": "execute_result"
    }
   ],
   "source": [
    "FP"
   ]
  },
  {
   "cell_type": "code",
   "execution_count": 93,
   "metadata": {
    "collapsed": false
   },
   "outputs": [
    {
     "data": {
      "text/plain": [
       "0.74"
      ]
     },
     "execution_count": 93,
     "metadata": {},
     "output_type": "execute_result"
    }
   ],
   "source": [
    "TP / (TP+FN)"
   ]
  },
  {
   "cell_type": "code",
   "execution_count": 94,
   "metadata": {
    "collapsed": false
   },
   "outputs": [
    {
     "data": {
      "text/plain": [
       "0.49"
      ]
     },
     "execution_count": 94,
     "metadata": {},
     "output_type": "execute_result"
    }
   ],
   "source": [
    "TN / (TN + FP)"
   ]
  },
  {
   "cell_type": "code",
   "execution_count": 97,
   "metadata": {
    "collapsed": false
   },
   "outputs": [
    {
     "data": {
      "text/plain": [
       "125"
      ]
     },
     "execution_count": 97,
     "metadata": {},
     "output_type": "execute_result"
    }
   ],
   "source": [
    "TP + FP"
   ]
  },
  {
   "cell_type": "code",
   "execution_count": 98,
   "metadata": {
    "collapsed": false
   },
   "outputs": [
    {
     "data": {
      "text/plain": [
       "200"
      ]
     },
     "execution_count": 98,
     "metadata": {},
     "output_type": "execute_result"
    }
   ],
   "source": [
    "len(y_test)"
   ]
  },
  {
   "cell_type": "code",
   "execution_count": 229,
   "metadata": {
    "collapsed": false
   },
   "outputs": [
    {
     "data": {
      "text/plain": [
       "56"
      ]
     },
     "execution_count": 229,
     "metadata": {},
     "output_type": "execute_result"
    }
   ],
   "source": [
    "TP"
   ]
  },
  {
   "cell_type": "code",
   "execution_count": 230,
   "metadata": {
    "collapsed": false
   },
   "outputs": [
    {
     "data": {
      "text/plain": [
       "44"
      ]
     },
     "execution_count": 230,
     "metadata": {},
     "output_type": "execute_result"
    }
   ],
   "source": [
    "FN"
   ]
  },
  {
   "cell_type": "code",
   "execution_count": 231,
   "metadata": {
    "collapsed": false
   },
   "outputs": [
    {
     "data": {
      "text/plain": [
       "50"
      ]
     },
     "execution_count": 231,
     "metadata": {},
     "output_type": "execute_result"
    }
   ],
   "source": [
    "TN"
   ]
  },
  {
   "cell_type": "code",
   "execution_count": 232,
   "metadata": {
    "collapsed": false
   },
   "outputs": [
    {
     "data": {
      "text/plain": [
       "50"
      ]
     },
     "execution_count": 232,
     "metadata": {},
     "output_type": "execute_result"
    }
   ],
   "source": [
    "FP"
   ]
  },
  {
   "cell_type": "code",
   "execution_count": 84,
   "metadata": {
    "collapsed": false
   },
   "outputs": [
    {
     "data": {
      "text/plain": [
       "0.62"
      ]
     },
     "execution_count": 84,
     "metadata": {},
     "output_type": "execute_result"
    }
   ],
   "source": [
    "TP / (TP+FN)"
   ]
  },
  {
   "cell_type": "code",
   "execution_count": 85,
   "metadata": {
    "collapsed": false
   },
   "outputs": [
    {
     "data": {
      "text/plain": [
       "0.71"
      ]
     },
     "execution_count": 85,
     "metadata": {},
     "output_type": "execute_result"
    }
   ],
   "source": [
    "TN / (TN + FP)"
   ]
  },
  {
   "cell_type": "code",
   "execution_count": 86,
   "metadata": {
    "collapsed": false
   },
   "outputs": [
    {
     "data": {
      "text/plain": [
       "0.665"
      ]
     },
     "execution_count": 86,
     "metadata": {},
     "output_type": "execute_result"
    }
   ],
   "source": [
    "(0.71 + 0.62)/2"
   ]
  },
  {
   "cell_type": "code",
   "execution_count": 241,
   "metadata": {
    "collapsed": true
   },
   "outputs": [],
   "source": [
    "y_test_pred_combined = res_test.copy()\n",
    "for i in range(len(y_test)):\n",
    "    if res_test[i] == 0 and y_test_pred_svm[i] == 1:\n",
    "        y_test_pred_combined[i] = 1"
   ]
  },
  {
   "cell_type": "code",
   "execution_count": 242,
   "metadata": {
    "collapsed": false
   },
   "outputs": [
    {
     "data": {
      "text/plain": [
       "0.59"
      ]
     },
     "execution_count": 242,
     "metadata": {},
     "output_type": "execute_result"
    }
   ],
   "source": [
    "accuracy_score(y_test_pred_combined, y_test)"
   ]
  },
  {
   "cell_type": "code",
   "execution_count": 187,
   "metadata": {
    "collapsed": false
   },
   "outputs": [
    {
     "data": {
      "text/plain": [
       "array([0., 1., 1., 0., 1., 1., 1., 1., 1., 1., 1., 0., 1., 1., 0., 1., 1.,\n",
       "       1., 1., 1., 1., 0., 1., 1., 1., 1., 1., 1., 1., 1., 1., 1., 0., 1.,\n",
       "       1., 1., 1., 0., 1., 1., 1., 1., 1., 1., 1., 1., 1., 0., 0., 0., 1.,\n",
       "       1., 1., 1., 0., 1., 1., 1., 0., 1., 1., 1., 1., 1., 1., 1., 1., 1.,\n",
       "       0., 1., 1., 1., 1., 1., 1., 1., 1., 1., 1., 0., 0., 1., 1., 1., 0.,\n",
       "       1., 1., 1., 1., 1., 1., 1., 1., 1., 1., 1., 1., 1., 1., 1., 1., 1.,\n",
       "       1., 1., 1., 1., 1., 0., 0., 1., 0., 1., 1., 0., 1., 0., 1., 1., 1.,\n",
       "       1., 0., 0., 1., 1., 1., 1., 0., 1., 1., 0., 1., 1., 0., 1., 0., 1.,\n",
       "       1., 1., 1., 1., 1., 1., 0., 1., 1., 1., 0., 1., 0., 1., 1., 1., 1.,\n",
       "       1., 1., 1., 1., 1., 1., 1., 1., 1., 1., 0., 1., 0., 1., 1., 0., 1.,\n",
       "       1., 1., 1., 1., 0., 1., 0., 0., 1., 1., 1., 0., 1., 1., 1., 0., 0.,\n",
       "       0., 1., 1., 1., 1., 1., 0., 1., 1., 1., 1., 1., 1.])"
      ]
     },
     "execution_count": 187,
     "metadata": {},
     "output_type": "execute_result"
    }
   ],
   "source": [
    "res_test"
   ]
  },
  {
   "cell_type": "code",
   "execution_count": 188,
   "metadata": {
    "collapsed": false
   },
   "outputs": [
    {
     "data": {
      "text/plain": [
       "array([0., 1., 1., 0., 1., 1., 1., 1., 1., 1., 1., 0., 1., 1., 0., 1., 1.,\n",
       "       1., 1., 1., 1., 0., 1., 1., 1., 1., 1., 1., 1., 1., 1., 1., 0., 1.,\n",
       "       1., 1., 1., 0., 1., 1., 1., 1., 1., 1., 1., 1., 1., 0., 0., 0., 1.,\n",
       "       1., 1., 1., 0., 1., 1., 1., 0., 1., 1., 1., 1., 1., 1., 1., 1., 1.,\n",
       "       0., 1., 1., 1., 1., 1., 1., 1., 1., 1., 1., 0., 0., 1., 1., 1., 0.,\n",
       "       1., 1., 1., 1., 1., 1., 1., 1., 1., 1., 1., 1., 1., 1., 1., 1., 1.,\n",
       "       1., 1., 1., 1., 1., 0., 0., 1., 0., 1., 1., 0., 1., 0., 1., 1., 1.,\n",
       "       1., 0., 0., 1., 1., 1., 1., 0., 1., 1., 0., 1., 1., 0., 1., 0., 1.,\n",
       "       1., 1., 1., 1., 1., 1., 0., 1., 1., 1., 0., 1., 0., 1., 1., 1., 1.,\n",
       "       1., 1., 1., 1., 1., 1., 1., 1., 1., 1., 0., 1., 0., 1., 1., 0., 1.,\n",
       "       1., 1., 1., 1., 0., 1., 0., 0., 1., 1., 1., 0., 1., 1., 1., 0., 0.,\n",
       "       0., 1., 1., 1., 1., 1., 0., 1., 1., 1., 1., 1., 1.])"
      ]
     },
     "execution_count": 188,
     "metadata": {},
     "output_type": "execute_result"
    }
   ],
   "source": [
    "y_test_pred_combined"
   ]
  },
  {
   "cell_type": "code",
   "execution_count": 189,
   "metadata": {
    "collapsed": false
   },
   "outputs": [
    {
     "data": {
      "text/plain": [
       "array([ True,  True,  True,  True,  True,  True,  True,  True,  True,\n",
       "        True,  True,  True,  True,  True,  True,  True,  True,  True,\n",
       "        True,  True,  True,  True,  True,  True,  True,  True,  True,\n",
       "        True,  True,  True,  True,  True,  True,  True,  True,  True,\n",
       "        True,  True,  True,  True,  True,  True,  True,  True,  True,\n",
       "        True,  True,  True,  True,  True,  True,  True,  True,  True,\n",
       "        True,  True,  True,  True,  True,  True,  True,  True,  True,\n",
       "        True,  True,  True,  True,  True,  True,  True,  True,  True,\n",
       "        True,  True,  True,  True,  True,  True,  True,  True,  True,\n",
       "        True,  True,  True,  True,  True,  True,  True,  True,  True,\n",
       "        True,  True,  True,  True,  True,  True,  True,  True,  True,\n",
       "        True,  True,  True,  True,  True,  True,  True,  True,  True,\n",
       "        True,  True,  True,  True,  True,  True,  True,  True,  True,\n",
       "        True,  True,  True,  True,  True,  True,  True,  True,  True,\n",
       "        True,  True,  True,  True,  True,  True,  True,  True,  True,\n",
       "        True,  True,  True,  True,  True,  True,  True,  True,  True,\n",
       "        True,  True,  True,  True,  True,  True,  True,  True,  True,\n",
       "        True,  True,  True,  True,  True,  True,  True,  True,  True,\n",
       "        True,  True,  True,  True,  True,  True,  True,  True,  True,\n",
       "        True,  True,  True,  True,  True,  True,  True,  True,  True,\n",
       "        True,  True,  True,  True,  True,  True,  True,  True,  True,\n",
       "        True,  True,  True,  True,  True,  True,  True,  True,  True,\n",
       "        True,  True])"
      ]
     },
     "execution_count": 189,
     "metadata": {},
     "output_type": "execute_result"
    }
   ],
   "source": [
    "y_test_pred_combined == res_test"
   ]
  },
  {
   "cell_type": "code",
   "execution_count": 190,
   "metadata": {
    "collapsed": false
   },
   "outputs": [
    {
     "data": {
      "text/plain": [
       "array([False, False, False, False, False, False, False, False, False,\n",
       "       False, False, False, False, False, False, False, False, False,\n",
       "       False, False, False, False, False, False, False, False, False,\n",
       "       False, False, False, False, False, False, False, False, False,\n",
       "       False, False, False, False, False, False, False, False, False,\n",
       "       False, False, False, False, False, False, False, False, False,\n",
       "       False, False, False, False, False, False, False, False, False,\n",
       "       False, False, False, False, False, False, False, False, False,\n",
       "       False, False, False, False, False, False, False, False, False,\n",
       "       False, False, False, False, False, False, False, False, False,\n",
       "       False, False, False, False, False, False, False, False, False,\n",
       "       False, False, False, False, False, False, False, False, False,\n",
       "       False, False, False, False, False, False, False, False, False,\n",
       "       False, False, False, False, False, False, False, False, False,\n",
       "       False, False, False, False, False, False, False, False, False,\n",
       "       False, False, False, False, False, False, False, False, False,\n",
       "       False, False, False, False, False, False, False, False, False,\n",
       "       False, False, False, False, False, False, False, False, False,\n",
       "       False, False, False, False, False, False, False, False, False,\n",
       "       False, False, False, False, False, False, False, False, False,\n",
       "       False, False, False, False, False, False, False, False, False,\n",
       "       False, False, False, False, False, False, False, False, False,\n",
       "       False, False])"
      ]
     },
     "execution_count": 190,
     "metadata": {},
     "output_type": "execute_result"
    }
   ],
   "source": [
    "(res_test == 0) * (y_test_pred_svm == 1)"
   ]
  },
  {
   "cell_type": "code",
   "execution_count": null,
   "metadata": {
    "collapsed": true
   },
   "outputs": [],
   "source": []
  },
  {
   "cell_type": "markdown",
   "metadata": {},
   "source": [
    "### Regarder si les outputs du KRR correspondent vraiment à des probas : si les outputs proches de 0 sont effectivement mieux classifiés que les outputs 0.4 ..."
   ]
  },
  {
   "cell_type": "code",
   "execution_count": 130,
   "metadata": {
    "collapsed": false
   },
   "outputs": [
    {
     "data": {
      "text/plain": [
       "array([1, 1, 0, 0, 0, 1, 0, 1, 0, 0, 0, 1, 0, 1, 1, 1, 0, 0, 1, 1])"
      ]
     },
     "execution_count": 130,
     "metadata": {},
     "output_type": "execute_result"
    }
   ],
   "source": [
    "transform(y_test_pred_krr[:20]).astype(int)"
   ]
  },
  {
   "cell_type": "code",
   "execution_count": 131,
   "metadata": {
    "collapsed": false
   },
   "outputs": [
    {
     "data": {
      "text/plain": [
       "array([1, 1, 0, 0, 0, 0, 1, 1, 0, 0, 0, 1, 0, 1, 1, 1, 0, 0, 1, 1])"
      ]
     },
     "execution_count": 131,
     "metadata": {},
     "output_type": "execute_result"
    }
   ],
   "source": [
    "y_test_pred_svm[:20].astype(int)"
   ]
  },
  {
   "cell_type": "code",
   "execution_count": 129,
   "metadata": {
    "collapsed": false
   },
   "outputs": [
    {
     "data": {
      "text/plain": [
       "array([1, 1, 0, 1, 1, 1, 0, 1, 0, 0, 0, 0, 0, 1, 0, 0, 1, 0, 0, 0])"
      ]
     },
     "execution_count": 129,
     "metadata": {},
     "output_type": "execute_result"
    }
   ],
   "source": [
    "y_test[:20]"
   ]
  },
  {
   "cell_type": "markdown",
   "metadata": {},
   "source": [
    "### Regarder quand les deux rendent 0 combien de fois c'est bon, puis quand l'un rend 0 et l'autre 1 lequel a raison, puis l'inverse, puis quand les deux rendent 1..."
   ]
  },
  {
   "cell_type": "code",
   "execution_count": 136,
   "metadata": {
    "collapsed": true
   },
   "outputs": [],
   "source": [
    "res_test_pred_krr = transform(y_test_pred_krr, 0.5)"
   ]
  },
  {
   "cell_type": "code",
   "execution_count": 137,
   "metadata": {
    "collapsed": true
   },
   "outputs": [],
   "source": [
    "both_on_target = (y_test_pred_svm == y_test) * (res_test_pred_krr == y_test)"
   ]
  },
  {
   "cell_type": "code",
   "execution_count": 138,
   "metadata": {
    "collapsed": false
   },
   "outputs": [
    {
     "data": {
      "text/plain": [
       "array([ True,  True,  True, False, False, False, False,  True,  True,\n",
       "        True,  True, False,  True,  True, False, False, False,  True,\n",
       "       False, False,  True, False, False, False,  True,  True,  True,\n",
       "        True, False,  True, False, False,  True,  True,  True,  True,\n",
       "       False, False, False,  True,  True,  True, False, False, False,\n",
       "        True,  True,  True,  True, False, False,  True, False, False,\n",
       "        True, False,  True, False, False,  True, False, False,  True,\n",
       "        True,  True,  True,  True,  True,  True,  True,  True,  True,\n",
       "       False,  True, False,  True, False,  True, False, False,  True,\n",
       "       False, False,  True,  True, False,  True, False, False, False,\n",
       "       False, False,  True,  True,  True, False,  True, False, False,\n",
       "       False,  True,  True,  True,  True,  True,  True, False, False,\n",
       "        True,  True, False,  True,  True,  True, False,  True, False,\n",
       "       False,  True, False, False, False,  True,  True,  True, False,\n",
       "       False, False,  True,  True, False, False,  True, False, False,\n",
       "       False,  True,  True,  True,  True,  True, False,  True,  True,\n",
       "        True,  True,  True,  True, False,  True, False,  True, False,\n",
       "       False, False, False,  True,  True,  True,  True,  True,  True,\n",
       "       False, False,  True, False,  True, False, False, False,  True,\n",
       "        True, False, False, False, False,  True,  True, False, False,\n",
       "        True,  True, False,  True, False, False,  True, False,  True,\n",
       "       False,  True,  True,  True, False, False,  True, False,  True,\n",
       "       False,  True])"
      ]
     },
     "execution_count": 138,
     "metadata": {},
     "output_type": "execute_result"
    }
   ],
   "source": [
    "both_on_target"
   ]
  },
  {
   "cell_type": "code",
   "execution_count": 139,
   "metadata": {
    "collapsed": false
   },
   "outputs": [],
   "source": [
    "krr_no_svm = (res_test_pred_krr == y_test) * ~(y_test_pred_svm == y_test)"
   ]
  },
  {
   "cell_type": "code",
   "execution_count": 140,
   "metadata": {
    "collapsed": true
   },
   "outputs": [],
   "source": [
    "svm_no_krr = (y_test_pred_svm == y_test) * ~(res_test_pred_krr == y_test)"
   ]
  },
  {
   "cell_type": "code",
   "execution_count": 141,
   "metadata": {
    "collapsed": true
   },
   "outputs": [],
   "source": [
    "no_svm_no_krr = ~(y_test_pred_svm == y_test) * ~(res_test_pred_krr == y_test)"
   ]
  },
  {
   "cell_type": "code",
   "execution_count": 142,
   "metadata": {
    "collapsed": false
   },
   "outputs": [
    {
     "data": {
      "text/plain": [
       "107"
      ]
     },
     "execution_count": 142,
     "metadata": {},
     "output_type": "execute_result"
    }
   ],
   "source": [
    "np.sum(both_on_target)"
   ]
  },
  {
   "cell_type": "code",
   "execution_count": 143,
   "metadata": {
    "collapsed": false
   },
   "outputs": [
    {
     "data": {
      "text/plain": [
       "16"
      ]
     },
     "execution_count": 143,
     "metadata": {},
     "output_type": "execute_result"
    }
   ],
   "source": [
    "np.sum(svm_no_krr)"
   ]
  },
  {
   "cell_type": "code",
   "execution_count": 144,
   "metadata": {
    "collapsed": false
   },
   "outputs": [
    {
     "data": {
      "text/plain": [
       "26"
      ]
     },
     "execution_count": 144,
     "metadata": {},
     "output_type": "execute_result"
    }
   ],
   "source": [
    "np.sum(krr_no_svm)"
   ]
  },
  {
   "cell_type": "code",
   "execution_count": 145,
   "metadata": {
    "collapsed": false
   },
   "outputs": [
    {
     "data": {
      "text/plain": [
       "51"
      ]
     },
     "execution_count": 145,
     "metadata": {},
     "output_type": "execute_result"
    }
   ],
   "source": [
    "np.sum(no_svm_no_krr)"
   ]
  },
  {
   "cell_type": "code",
   "execution_count": 146,
   "metadata": {
    "collapsed": false
   },
   "outputs": [
    {
     "data": {
      "text/plain": [
       "0.6772151898734177"
      ]
     },
     "execution_count": 146,
     "metadata": {},
     "output_type": "execute_result"
    }
   ],
   "source": [
    "107 / 158"
   ]
  },
  {
   "cell_type": "code",
   "execution_count": 147,
   "metadata": {
    "collapsed": true
   },
   "outputs": [],
   "source": [
    "svm_0_krr_1 = (y_test_pred_svm == 0) * (res_test_pred_krr == 1)"
   ]
  },
  {
   "cell_type": "code",
   "execution_count": 148,
   "metadata": {
    "collapsed": true
   },
   "outputs": [],
   "source": [
    "svm_1_krr_0 = (y_test_pred_svm == 1) * (res_test_pred_krr == 0)"
   ]
  },
  {
   "cell_type": "code",
   "execution_count": 149,
   "metadata": {
    "collapsed": false
   },
   "outputs": [
    {
     "data": {
      "text/plain": [
       "4"
      ]
     },
     "execution_count": 149,
     "metadata": {},
     "output_type": "execute_result"
    }
   ],
   "source": [
    "np.sum(svm_0_krr_1)"
   ]
  },
  {
   "cell_type": "code",
   "execution_count": 150,
   "metadata": {
    "collapsed": false
   },
   "outputs": [
    {
     "data": {
      "text/plain": [
       "38"
      ]
     },
     "execution_count": 150,
     "metadata": {},
     "output_type": "execute_result"
    }
   ],
   "source": [
    "np.sum(svm_1_krr_0)"
   ]
  },
  {
   "cell_type": "code",
   "execution_count": 151,
   "metadata": {
    "collapsed": false
   },
   "outputs": [
    {
     "data": {
      "text/plain": [
       "2"
      ]
     },
     "execution_count": 151,
     "metadata": {},
     "output_type": "execute_result"
    }
   ],
   "source": [
    "np.sum(svm_0_krr_1 * svm_no_krr)"
   ]
  },
  {
   "cell_type": "code",
   "execution_count": 152,
   "metadata": {
    "collapsed": false
   },
   "outputs": [
    {
     "data": {
      "text/plain": [
       "14"
      ]
     },
     "execution_count": 152,
     "metadata": {},
     "output_type": "execute_result"
    }
   ],
   "source": [
    "np.sum(svm_1_krr_0 * svm_no_krr)"
   ]
  },
  {
   "cell_type": "code",
   "execution_count": null,
   "metadata": {
    "collapsed": true
   },
   "outputs": [],
   "source": []
  },
  {
   "cell_type": "code",
   "execution_count": null,
   "metadata": {
    "collapsed": true
   },
   "outputs": [],
   "source": []
  },
  {
   "cell_type": "code",
   "execution_count": null,
   "metadata": {
    "collapsed": true
   },
   "outputs": [],
   "source": []
  },
  {
   "cell_type": "code",
   "execution_count": null,
   "metadata": {
    "collapsed": true
   },
   "outputs": [],
   "source": []
  },
  {
   "cell_type": "code",
   "execution_count": null,
   "metadata": {
    "collapsed": true
   },
   "outputs": [],
   "source": [
    "np.sum(svm_0_krr_1)"
   ]
  },
  {
   "cell_type": "code",
   "execution_count": 135,
   "metadata": {
    "collapsed": false
   },
   "outputs": [
    {
     "data": {
      "text/plain": [
       "array([False, False, False, False, False, False, False, False, False,\n",
       "       False, False, False, False, False, False, False, False, False,\n",
       "       False, False, False, False, False, False, False, False, False,\n",
       "       False, False, False, False, False, False, False, False, False,\n",
       "       False, False, False, False, False, False, False, False, False,\n",
       "       False, False, False, False, False, False, False, False, False,\n",
       "       False, False, False, False, False, False, False, False, False,\n",
       "       False, False, False, False, False, False, False, False, False,\n",
       "       False, False, False, False, False, False, False, False, False,\n",
       "       False, False, False, False, False, False, False, False, False,\n",
       "       False, False, False, False, False, False, False, False, False,\n",
       "       False, False, False, False, False, False, False, False, False,\n",
       "       False, False, False, False, False, False, False, False, False,\n",
       "       False, False, False, False, False, False, False, False, False,\n",
       "       False, False, False, False, False, False, False, False, False,\n",
       "       False, False, False, False, False, False, False, False, False,\n",
       "       False, False, False, False, False, False, False, False, False,\n",
       "       False, False, False, False, False, False, False, False, False,\n",
       "       False, False, False, False, False, False, False, False, False,\n",
       "       False, False, False, False, False, False, False, False, False,\n",
       "       False, False, False, False, False, False, False, False, False,\n",
       "       False, False, False, False, False, False, False, False, False,\n",
       "       False, False])"
      ]
     },
     "execution_count": 135,
     "metadata": {},
     "output_type": "execute_result"
    }
   ],
   "source": [
    "y_test_pred_krr == y_test"
   ]
  },
  {
   "cell_type": "code",
   "execution_count": null,
   "metadata": {
    "collapsed": true
   },
   "outputs": [],
   "source": []
  }
 ],
 "metadata": {
  "kernelspec": {
   "display_name": "Python [Root]",
   "language": "python",
   "name": "Python [Root]"
  },
  "language_info": {
   "codemirror_mode": {
    "name": "ipython",
    "version": 3
   },
   "file_extension": ".py",
   "mimetype": "text/x-python",
   "name": "python",
   "nbconvert_exporter": "python",
   "pygments_lexer": "ipython3",
   "version": "3.5.2"
  }
 },
 "nbformat": 4,
 "nbformat_minor": 0
}
