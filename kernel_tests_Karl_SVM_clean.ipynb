{
 "cells": [
  {
   "cell_type": "code",
   "execution_count": 2,
   "metadata": {
    "collapsed": false
   },
   "outputs": [],
   "source": [
    "%matplotlib inline\n",
    "import numpy as np\n",
    "import pandas as pd\n",
    "from cvxopt import matrix, solvers\n",
    "from sklearn.model_selection import train_test_split\n",
    "import scipy\n",
    "from scipy.optimize import minimize\n",
    "import matplotlib.pyplot as plt\n",
    "import random"
   ]
  },
  {
   "cell_type": "code",
   "execution_count": 4,
   "metadata": {
    "collapsed": false
   },
   "outputs": [],
   "source": [
    "dataX = pd.read_csv(\"data/Xtr0.csv\", header=None)\n",
    "dataY = pd.read_csv(\"data/Ytr0.csv\", index_col=0)"
   ]
  },
  {
   "cell_type": "code",
   "execution_count": 5,
   "metadata": {
    "collapsed": false
   },
   "outputs": [],
   "source": [
    "dataX = dataX[0].apply(lambda x: pd.Series(list(x)))"
   ]
  },
  {
   "cell_type": "code",
   "execution_count": 6,
   "metadata": {
    "collapsed": false
   },
   "outputs": [
    {
     "data": {
      "text/html": [
       "<div>\n",
       "<style scoped>\n",
       "    .dataframe tbody tr th:only-of-type {\n",
       "        vertical-align: middle;\n",
       "    }\n",
       "\n",
       "    .dataframe tbody tr th {\n",
       "        vertical-align: top;\n",
       "    }\n",
       "\n",
       "    .dataframe thead th {\n",
       "        text-align: right;\n",
       "    }\n",
       "</style>\n",
       "<table border=\"1\" class=\"dataframe\">\n",
       "  <thead>\n",
       "    <tr style=\"text-align: right;\">\n",
       "      <th></th>\n",
       "      <th>Bound</th>\n",
       "    </tr>\n",
       "  </thead>\n",
       "  <tbody>\n",
       "    <tr>\n",
       "      <th>0</th>\n",
       "      <td>1</td>\n",
       "    </tr>\n",
       "    <tr>\n",
       "      <th>1</th>\n",
       "      <td>0</td>\n",
       "    </tr>\n",
       "    <tr>\n",
       "      <th>2</th>\n",
       "      <td>1</td>\n",
       "    </tr>\n",
       "    <tr>\n",
       "      <th>3</th>\n",
       "      <td>1</td>\n",
       "    </tr>\n",
       "    <tr>\n",
       "      <th>4</th>\n",
       "      <td>0</td>\n",
       "    </tr>\n",
       "  </tbody>\n",
       "</table>\n",
       "</div>"
      ],
      "text/plain": [
       "   Bound\n",
       "0      1\n",
       "1      0\n",
       "2      1\n",
       "3      1\n",
       "4      0"
      ]
     },
     "execution_count": 6,
     "metadata": {},
     "output_type": "execute_result"
    }
   ],
   "source": [
    "dataY.head()"
   ]
  },
  {
   "cell_type": "markdown",
   "metadata": {},
   "source": [
    "## Kernels"
   ]
  },
  {
   "cell_type": "code",
   "execution_count": 7,
   "metadata": {
    "collapsed": true
   },
   "outputs": [],
   "source": [
    "def gaussian_kernel_matrix(X, sigma=1):\n",
    "    return np.exp(- np.sum((X - X[:,None])**2, axis=-1) / (2*sigma**2))"
   ]
  },
  {
   "cell_type": "code",
   "execution_count": 8,
   "metadata": {
    "collapsed": true
   },
   "outputs": [],
   "source": [
    "def polynomial_kernel_matrix(X, deg=1):\n",
    "    X_intercept = np.concatenate((X,np.ones(X.shape[0]).reshape(-1,1)), axis=1)\n",
    "    return np.sum(X_intercept*X_intercept[:,None], axis=-1)**deg"
   ]
  },
  {
   "cell_type": "markdown",
   "metadata": {},
   "source": [
    "### Kernel ridge regression (KRR)"
   ]
  },
  {
   "cell_type": "code",
   "execution_count": 9,
   "metadata": {
    "collapsed": true
   },
   "outputs": [],
   "source": [
    "def KRR(K, y, l=0.1):\n",
    "    A = K + l * len(K)*np.eye(len(K))\n",
    "    return scipy.linalg.solve(A, y, sym_pos=True)"
   ]
  },
  {
   "cell_type": "markdown",
   "metadata": {},
   "source": [
    "## Simple Basic Tests"
   ]
  },
  {
   "cell_type": "markdown",
   "metadata": {},
   "source": [
    "### Generating fake sine data for Regression"
   ]
  },
  {
   "cell_type": "code",
   "execution_count": 249,
   "metadata": {
    "collapsed": false
   },
   "outputs": [],
   "source": [
    "def fake_sinus(x, norm = 1):\n",
    "    data = []\n",
    "    for i in range(len(x)):\n",
    "        a = random.random()/norm\n",
    "        data.append(np.cos(x[i])+a)\n",
    "    return data"
   ]
  },
  {
   "cell_type": "code",
   "execution_count": 250,
   "metadata": {
    "collapsed": true
   },
   "outputs": [],
   "source": [
    "def generate_noisy_sine_data(start=0., end=3, freq=0.01):\n",
    "    return np.array([[i,fake_sinus([i], norm = 2)[0]] for i in np.arange(start, end, freq)])"
   ]
  },
  {
   "cell_type": "code",
   "execution_count": 251,
   "metadata": {
    "collapsed": true
   },
   "outputs": [],
   "source": [
    "def plot_data(data):    \n",
    "    plt.plot(data[:,0], data[:,1])\n",
    "    plt.show()"
   ]
  },
  {
   "cell_type": "code",
   "execution_count": 252,
   "metadata": {
    "collapsed": true
   },
   "outputs": [],
   "source": [
    "data = generate_noisy_sine_data()"
   ]
  },
  {
   "cell_type": "code",
   "execution_count": 253,
   "metadata": {
    "collapsed": false
   },
   "outputs": [
    {
     "data": {
      "image/png": "[encoded data removed]",
      "text/plain": [
       "<matplotlib.figure.Figure at 0x1162b0ac8>"
      ]
     },
     "metadata": {},
     "output_type": "display_data"
    }
   ],
   "source": [
    "plot_data(data)"
   ]
  },
  {
   "cell_type": "code",
   "execution_count": 254,
   "metadata": {
    "collapsed": false,
    "scrolled": false
   },
   "outputs": [],
   "source": [
    "X = data[:,0]\n",
    "X = X[:,None]\n",
    "Y = data[:,1]"
   ]
  },
  {
   "cell_type": "code",
   "execution_count": 255,
   "metadata": {
    "collapsed": false
   },
   "outputs": [],
   "source": [
    "K = gaussian_kernel_matrix(X)"
   ]
  },
  {
   "cell_type": "markdown",
   "metadata": {},
   "source": [
    "##### testing KRR"
   ]
  },
  {
   "cell_type": "code",
   "execution_count": 256,
   "metadata": {
    "collapsed": true
   },
   "outputs": [],
   "source": [
    "alpha = KRR(K, Y,l=0.001)\n",
    "y_pred = np.dot(K,alpha)"
   ]
  },
  {
   "cell_type": "code",
   "execution_count": 257,
   "metadata": {
    "collapsed": false
   },
   "outputs": [
    {
     "data": {
      "image/png": "[encoded data removed]",
      "text/plain": [
       "<matplotlib.figure.Figure at 0x116085828>"
      ]
     },
     "metadata": {},
     "output_type": "display_data"
    }
   ],
   "source": [
    "plt.plot(X,y_pred, color='red')\n",
    "plt.plot(X, Y, color=\"blue\")\n",
    "plt.show()"
   ]
  },
  {
   "cell_type": "markdown",
   "metadata": {},
   "source": [
    "### SVM (dual formulation)"
   ]
  },
  {
   "cell_type": "code",
   "execution_count": 17,
   "metadata": {
    "collapsed": true
   },
   "outputs": [],
   "source": [
    "class SVM(object):\n",
    "    \n",
    "    def __init__(self, lmbd=0.1, x0=None):\n",
    "        self.lmbd = lmbd\n",
    "        self.x0= x0\n",
    "    \n",
    "    def train(self, K, y):\n",
    "        dim = K.shape[0]\n",
    "        assert dim == len(y)\n",
    "        diag_y = np.diag(y)\n",
    "        idt = np.identity(dim)\n",
    "        P = 1 / (2*self.lmbd) * np.dot(diag_y, np.dot(K, diag_y))\n",
    "        q = - np.ones(dim)\n",
    "        G = np.concatenate((idt, -idt))\n",
    "        h = np.concatenate((np.ones(dim) / dim, np.zeros(dim)))\n",
    "        if self.x0 is None:\n",
    "            self.x0 = np.ones(dim)/(2*dim)\n",
    "        res = solvers.qp(matrix(P), matrix(q), matrix(G), matrix(h), initvals=self.x0)['x']\n",
    "        self.alpha = np.dot(diag_y, res)/(2*self.lmbd)\n",
    "        \n",
    "    def predict(self, K):\n",
    "        return np.sign(np.dot(K,self.alpha).reshape(-1))"
   ]
  },
  {
   "cell_type": "markdown",
   "metadata": {},
   "source": [
    "### Generating fake Binary Linearly separable data for Classification"
   ]
  },
  {
   "cell_type": "code",
   "execution_count": 259,
   "metadata": {
    "collapsed": true
   },
   "outputs": [],
   "source": [
    "def generate_points(n_samples=1000, offset=3.5):\n",
    "    zero_labels = 0.5*np.random.randn(n_samples//2, 2)\n",
    "    one_lables = 0.5*np.random.randn(n_samples//2, 2) + offset\n",
    "    return zero_labels, one_lables"
   ]
  },
  {
   "cell_type": "code",
   "execution_count": 260,
   "metadata": {
    "collapsed": true
   },
   "outputs": [],
   "source": [
    "def generate_dataset(zero_labels, one_lables):\n",
    "    data = np.concatenate((zeros, ones), axis=0)\n",
    "    data = np.concatenate((data,\n",
    "                np.concatenate((-np.ones([500, 1]), \n",
    "                                np.ones([500,1])))\n",
    "                ),\n",
    "                axis=1)\n",
    "    np.random.shuffle(data)\n",
    "    X = data[:,:2]\n",
    "    y = data[:,-1]\n",
    "    return X,y"
   ]
  },
  {
   "cell_type": "code",
   "execution_count": 261,
   "metadata": {
    "collapsed": false
   },
   "outputs": [],
   "source": [
    "def plot_datapoints(zero_labels, one_labels):\n",
    "    plt.figure(1, figsize=(8,6))\n",
    "    plt.scatter(zero_labels[:,0], zero_labels[:,1], color='blue', label='-1')\n",
    "    plt.scatter(one_labels[:,0], one_labels[:,1], color='red', label='1')\n",
    "    plt.legend()\n",
    "    plt.show()"
   ]
  },
  {
   "cell_type": "code",
   "execution_count": 262,
   "metadata": {
    "collapsed": false
   },
   "outputs": [],
   "source": [
    "zeros, ones = generate_points(offset=0.8)"
   ]
  },
  {
   "cell_type": "code",
   "execution_count": 263,
   "metadata": {
    "collapsed": false,
    "scrolled": true
   },
   "outputs": [
    {
     "data": {
      "image/png": "[encoded data removed]",
      "text/plain": [
       "<matplotlib.figure.Figure at 0x115a7f4e0>"
      ]
     },
     "metadata": {},
     "output_type": "display_data"
    }
   ],
   "source": [
    "plot_datapoints(zeros, ones)"
   ]
  },
  {
   "cell_type": "code",
   "execution_count": 264,
   "metadata": {
    "collapsed": true
   },
   "outputs": [],
   "source": [
    "X, y = generate_dataset(zeros, ones)"
   ]
  },
  {
   "cell_type": "markdown",
   "metadata": {},
   "source": [
    "##### testing SVM"
   ]
  },
  {
   "cell_type": "code",
   "execution_count": 265,
   "metadata": {
    "collapsed": true
   },
   "outputs": [],
   "source": [
    "K = polynomial_kernel_matrix(X, deg=1)"
   ]
  },
  {
   "cell_type": "code",
   "execution_count": 266,
   "metadata": {
    "collapsed": true
   },
   "outputs": [],
   "source": [
    "def get_weights_and_intercept(X, K, y, lmbd, x0):\n",
    "    svm = SVM()\n",
    "    svm.train(K,y)\n",
    "    #svm = SVM(K,y,lmbd,x0=np.ones_like(y)/(2*len(y)))\n",
    "    #alpha = svm.solve_qp()\n",
    "    #alpha = np.dot(K,res).reshape(-1)\n",
    "    X_intercept = np.concatenate((X,np.ones(X.shape[0]).reshape(-1,1)), axis=1)\n",
    "    W = np.sum(X_intercept * svm.alpha.reshape(-1,1), axis=0)\n",
    "    w = W[:-1]\n",
    "    b = W[-1]\n",
    "    return w, b"
   ]
  },
  {
   "cell_type": "code",
   "execution_count": 267,
   "metadata": {
    "collapsed": false
   },
   "outputs": [
    {
     "name": "stderr",
     "output_type": "stream",
     "text": [
      "/Users/karlhajjar/anaconda/lib/python3.5/site-packages/cvxopt/coneprog.py:2111: FutureWarning: elementwise comparison failed; returning scalar instead, but in the future will perform elementwise comparison\n",
      "  if 'x' in initvals:\n",
      "/Users/karlhajjar/anaconda/lib/python3.5/site-packages/cvxopt/coneprog.py:2116: FutureWarning: elementwise comparison failed; returning scalar instead, but in the future will perform elementwise comparison\n",
      "  if 's' in initvals:\n",
      "/Users/karlhajjar/anaconda/lib/python3.5/site-packages/cvxopt/coneprog.py:2131: FutureWarning: elementwise comparison failed; returning scalar instead, but in the future will perform elementwise comparison\n",
      "  if 'y' in initvals:\n",
      "/Users/karlhajjar/anaconda/lib/python3.5/site-packages/cvxopt/coneprog.py:2136: FutureWarning: elementwise comparison failed; returning scalar instead, but in the future will perform elementwise comparison\n",
      "  if 'z' in initvals:\n"
     ]
    },
    {
     "name": "stdout",
     "output_type": "stream",
     "text": [
      "     pcost       dcost       gap    pres   dres\n",
      " 0:  0.0000e+00 -1.0000e+00  2e+03  4e+01  1e+00\n",
      " 1: -5.5440e-01 -1.5713e+00  3e+01  5e-01  1e-02\n",
      " 2: -4.3069e-01 -1.4643e+00  1e+00  1e-03  2e-05\n",
      " 3: -5.1450e-01 -6.5822e-01  1e-01  1e-04  3e-06\n",
      " 4: -5.8492e-01 -6.0702e-01  2e-02  2e-05  3e-07\n",
      " 5: -5.9353e-01 -6.0111e-01  8e-03  5e-06  1e-07\n",
      " 6: -5.9559e-01 -5.9965e-01  4e-03  2e-06  5e-08\n",
      " 7: -5.9675e-01 -5.9879e-01  2e-03  1e-06  2e-08\n",
      " 8: -5.9759e-01 -5.9816e-01  6e-04  2e-07  5e-09\n",
      " 9: -5.9785e-01 -5.9795e-01  9e-05  4e-08  8e-10\n",
      "10: -5.9790e-01 -5.9790e-01  3e-06  1e-09  2e-11\n",
      "11: -5.9790e-01 -5.9790e-01  6e-08  2e-11  4e-13\n",
      "Optimal solution found.\n"
     ]
    }
   ],
   "source": [
    "w,b = get_weights_and_intercept(X,K,y, 0.01, x0=np.ones_like(y)/(2*len(y)))"
   ]
  },
  {
   "cell_type": "code",
   "execution_count": 268,
   "metadata": {
    "collapsed": false
   },
   "outputs": [],
   "source": [
    "model = SVM(lmbd=0.01)"
   ]
  },
  {
   "cell_type": "code",
   "execution_count": 269,
   "metadata": {
    "collapsed": false
   },
   "outputs": [
    {
     "name": "stderr",
     "output_type": "stream",
     "text": [
      "/Users/karlhajjar/anaconda/lib/python3.5/site-packages/cvxopt/coneprog.py:2111: FutureWarning: elementwise comparison failed; returning scalar instead, but in the future will perform elementwise comparison\n",
      "  if 'x' in initvals:\n",
      "/Users/karlhajjar/anaconda/lib/python3.5/site-packages/cvxopt/coneprog.py:2116: FutureWarning: elementwise comparison failed; returning scalar instead, but in the future will perform elementwise comparison\n",
      "  if 's' in initvals:\n",
      "/Users/karlhajjar/anaconda/lib/python3.5/site-packages/cvxopt/coneprog.py:2131: FutureWarning: elementwise comparison failed; returning scalar instead, but in the future will perform elementwise comparison\n",
      "  if 'y' in initvals:\n",
      "/Users/karlhajjar/anaconda/lib/python3.5/site-packages/cvxopt/coneprog.py:2136: FutureWarning: elementwise comparison failed; returning scalar instead, but in the future will perform elementwise comparison\n",
      "  if 'z' in initvals:\n"
     ]
    },
    {
     "name": "stdout",
     "output_type": "stream",
     "text": [
      "     pcost       dcost       gap    pres   dres\n",
      " 0:  0.0000e+00 -1.0000e+00  2e+03  4e+01  1e+00\n",
      " 1: -4.4504e-01 -1.4618e+00  3e+01  5e-01  1e-02\n",
      " 2: -3.2049e-01 -1.3304e+00  2e+00  3e-02  6e-04\n",
      " 3: -3.1341e-01 -6.3968e-01  4e-01  1e-03  3e-05\n",
      " 4: -3.6317e-01 -4.1800e-01  6e-02  2e-04  5e-06\n",
      " 5: -3.8298e-01 -3.9162e-01  9e-03  3e-05  6e-07\n",
      " 6: -3.8605e-01 -3.8785e-01  2e-03  5e-06  1e-07\n",
      " 7: -3.8662e-01 -3.8716e-01  6e-04  1e-06  3e-08\n",
      " 8: -3.8680e-01 -3.8695e-01  2e-04  3e-07  7e-09\n",
      " 9: -3.8686e-01 -3.8688e-01  3e-05  4e-08  9e-10\n",
      "10: -3.8687e-01 -3.8687e-01  5e-06  1e-10  2e-12\n",
      "11: -3.8687e-01 -3.8687e-01  2e-07  5e-12  1e-13\n",
      "Optimal solution found.\n"
     ]
    }
   ],
   "source": [
    "model.train(K,y)"
   ]
  },
  {
   "cell_type": "code",
   "execution_count": 270,
   "metadata": {
    "collapsed": false
   },
   "outputs": [],
   "source": [
    "y_pred = model.predict(K)"
   ]
  },
  {
   "cell_type": "code",
   "execution_count": 271,
   "metadata": {
    "collapsed": true
   },
   "outputs": [],
   "source": [
    "error = np.mean(np.abs(y_pred - y) * 0.5)"
   ]
  },
  {
   "cell_type": "code",
   "execution_count": 272,
   "metadata": {
    "collapsed": false
   },
   "outputs": [
    {
     "data": {
      "text/plain": [
       "0.13"
      ]
     },
     "execution_count": 272,
     "metadata": {},
     "output_type": "execute_result"
    }
   ],
   "source": [
    "error"
   ]
  },
  {
   "cell_type": "code",
   "execution_count": 273,
   "metadata": {
    "collapsed": true
   },
   "outputs": [],
   "source": [
    "def plot_predictions(X, y_true, y_pred, w=None, b=None):\n",
    "    \n",
    "    xmin = np.min(X[:,0])\n",
    "    xmax = np.max(X[:,0])\n",
    "    \n",
    "    ymin = np.min(X[:,1])\n",
    "    ymax = np.max(X[:,0])\n",
    "    \n",
    "    plt.figure(1, figsize=(8,6))\n",
    "    \n",
    "    if w is not None and b is not None:\n",
    "        x1 = np.array([0,-b/w[1]])\n",
    "        x2 = np.array([-b/w[0],0])\n",
    "        a = (x2[1] - x1[1]) / (x2[0] - x1[0])\n",
    "        c = x1[1] - a * x1[0] \n",
    "        ts = np.arange(xmin,xmax+0.5, 0.01)\n",
    "        ys = [a*t + c for t in ts]\n",
    "        plt.plot(ts, ys, color='g')\n",
    "        plt.ylim(ymin,ymax+0.5)\n",
    "        \n",
    "    on_target = y_pred == y_true\n",
    "    one_indices = y_true == 1.\n",
    "    TP = X[on_target * one_indices]\n",
    "    FN = X[~on_target * one_indices]\n",
    "    TN = X[on_target * ~one_indices]\n",
    "    FP = X[~on_target * ~one_indices]\n",
    "    plt.scatter(TP[:,0], TP[:,1], color='red', label='TP')\n",
    "    plt.scatter(TN[:,0], TN[:,1], color='blue', label='TN')\n",
    "    plt.scatter(FN[:,0], FN[:,1], color='violet', label='FN')\n",
    "    plt.scatter(FP[:,0], FP[:,1], color='purple', label='FP')\n",
    "    plt.legend()\n",
    "    plt.show()"
   ]
  },
  {
   "cell_type": "code",
   "execution_count": 274,
   "metadata": {
    "collapsed": false,
    "scrolled": true
   },
   "outputs": [
    {
     "data": {
      "image/png": "[encoded data removed]",
      "text/plain": [
       "<matplotlib.figure.Figure at 0x114ffd240>"
      ]
     },
     "metadata": {},
     "output_type": "display_data"
    }
   ],
   "source": [
    "plot_predictions(X,y,y_pred, w, b)"
   ]
  },
  {
   "cell_type": "markdown",
   "metadata": {},
   "source": [
    "## Testing SVM on the real data using length 50 features"
   ]
  },
  {
   "cell_type": "code",
   "execution_count": 125,
   "metadata": {
    "collapsed": true
   },
   "outputs": [],
   "source": [
    "y = dataY.values\n",
    "X = pd.read_csv(\"data/Xtr0_mat50.csv\", sep=' ',header=None).values"
   ]
  },
  {
   "cell_type": "code",
   "execution_count": 126,
   "metadata": {
    "collapsed": true
   },
   "outputs": [],
   "source": [
    "X_train, X_test, Y_train, Y_test = train_test_split(X,y.reshape(-1),test_size=0.2)"
   ]
  },
  {
   "cell_type": "code",
   "execution_count": 127,
   "metadata": {
    "collapsed": false
   },
   "outputs": [
    {
     "data": {
      "text/plain": [
       "(1600, 50)"
      ]
     },
     "execution_count": 127,
     "metadata": {},
     "output_type": "execute_result"
    }
   ],
   "source": [
    "X_train.shape"
   ]
  },
  {
   "cell_type": "code",
   "execution_count": 128,
   "metadata": {
    "collapsed": false
   },
   "outputs": [
    {
     "data": {
      "text/plain": [
       "(1600,)"
      ]
     },
     "execution_count": 128,
     "metadata": {},
     "output_type": "execute_result"
    }
   ],
   "source": [
    "Y_train.shape"
   ]
  },
  {
   "cell_type": "code",
   "execution_count": 129,
   "metadata": {
    "collapsed": true
   },
   "outputs": [],
   "source": [
    "K_train = polynomial_kernel_matrix(X_train, deg=1)"
   ]
  },
  {
   "cell_type": "code",
   "execution_count": 130,
   "metadata": {
    "collapsed": false
   },
   "outputs": [
    {
     "data": {
      "text/plain": [
       "(1600, 1600)"
      ]
     },
     "execution_count": 130,
     "metadata": {},
     "output_type": "execute_result"
    }
   ],
   "source": [
    "K_train.shape"
   ]
  },
  {
   "cell_type": "code",
   "execution_count": 131,
   "metadata": {
    "collapsed": false
   },
   "outputs": [],
   "source": [
    "model = SVM(lmbd = 0.1)"
   ]
  },
  {
   "cell_type": "code",
   "execution_count": 132,
   "metadata": {
    "collapsed": false
   },
   "outputs": [
    {
     "data": {
      "text/plain": [
       "(1600,)"
      ]
     },
     "execution_count": 132,
     "metadata": {},
     "output_type": "execute_result"
    }
   ],
   "source": [
    "Y_train.shape"
   ]
  },
  {
   "cell_type": "code",
   "execution_count": 133,
   "metadata": {
    "collapsed": false
   },
   "outputs": [
    {
     "name": "stderr",
     "output_type": "stream",
     "text": [
      "//anaconda/lib/python3.5/site-packages/cvxopt/coneprog.py:2111: FutureWarning: elementwise comparison failed; returning scalar instead, but in the future will perform elementwise comparison\n",
      "  if 'x' in initvals:\n",
      "//anaconda/lib/python3.5/site-packages/cvxopt/coneprog.py:2116: FutureWarning: elementwise comparison failed; returning scalar instead, but in the future will perform elementwise comparison\n",
      "  if 's' in initvals:\n",
      "//anaconda/lib/python3.5/site-packages/cvxopt/coneprog.py:2131: FutureWarning: elementwise comparison failed; returning scalar instead, but in the future will perform elementwise comparison\n",
      "  if 'y' in initvals:\n",
      "//anaconda/lib/python3.5/site-packages/cvxopt/coneprog.py:2136: FutureWarning: elementwise comparison failed; returning scalar instead, but in the future will perform elementwise comparison\n",
      "  if 'z' in initvals:\n"
     ]
    },
    {
     "name": "stdout",
     "output_type": "stream",
     "text": [
      "     pcost       dcost       gap    pres   dres\n",
      " 0:  0.0000e+00 -1.0000e+00  3e+03  6e+01  1e+00\n",
      " 1: -6.2967e-01 -1.5308e+00  4e+01  6e-01  1e-02\n",
      " 2: -4.9171e-01 -1.4669e+00  1e+00  5e-17  6e-16\n",
      " 3: -5.9719e-01 -6.7746e-01  8e-02  5e-18  6e-16\n",
      " 4: -6.3296e-01 -6.3679e-01  4e-03  4e-18  6e-16\n",
      " 5: -6.3468e-01 -6.3476e-01  8e-05  3e-18  6e-16\n",
      " 6: -6.3471e-01 -6.3471e-01  1e-06  2e-18  6e-16\n",
      " 7: -6.3471e-01 -6.3471e-01  1e-08  5e-18  5e-16\n",
      "Optimal solution found.\n"
     ]
    }
   ],
   "source": [
    "model.train(K, Y_train)"
   ]
  },
  {
   "cell_type": "code",
   "execution_count": 134,
   "metadata": {
    "collapsed": true
   },
   "outputs": [],
   "source": [
    "y_train_pred = model.predict(K)"
   ]
  },
  {
   "cell_type": "code",
   "execution_count": 137,
   "metadata": {
    "collapsed": false,
    "scrolled": true
   },
   "outputs": [
    {
     "data": {
      "text/plain": [
       "1600.0"
      ]
     },
     "execution_count": 137,
     "metadata": {},
     "output_type": "execute_result"
    }
   ],
   "source": [
    "y_train_pred.sum()"
   ]
  },
  {
   "cell_type": "code",
   "execution_count": 136,
   "metadata": {
    "collapsed": false
   },
   "outputs": [
    {
     "name": "stdout",
     "output_type": "stream",
     "text": [
      "0.25125\n"
     ]
    }
   ],
   "source": [
    "error = np.mean(np.abs(y_train_pred - Y_train) * 0.5)\n",
    "print(error)"
   ]
  },
  {
   "cell_type": "code",
   "execution_count": 104,
   "metadata": {
    "collapsed": true
   },
   "outputs": [],
   "source": [
    "X_recomp = np.concatenate((X_train, X_test), axis=0)"
   ]
  },
  {
   "cell_type": "code",
   "execution_count": 105,
   "metadata": {
    "collapsed": false
   },
   "outputs": [
    {
     "data": {
      "text/plain": [
       "(2000, 50)"
      ]
     },
     "execution_count": 105,
     "metadata": {},
     "output_type": "execute_result"
    }
   ],
   "source": [
    "X_recomp.shape"
   ]
  },
  {
   "cell_type": "code",
   "execution_count": 106,
   "metadata": {
    "collapsed": true
   },
   "outputs": [],
   "source": [
    "K_tot = polynomial_kernel_matrix(X_recomp,deg=2)"
   ]
  },
  {
   "cell_type": "code",
   "execution_count": 107,
   "metadata": {
    "collapsed": false
   },
   "outputs": [
    {
     "data": {
      "text/plain": [
       "(2000, 2000)"
      ]
     },
     "execution_count": 107,
     "metadata": {},
     "output_type": "execute_result"
    }
   ],
   "source": [
    "K_tot.shape"
   ]
  },
  {
   "cell_type": "code",
   "execution_count": 108,
   "metadata": {
    "collapsed": true
   },
   "outputs": [],
   "source": [
    "K_test = K_tot[len(X_train):,:len(X_train)]"
   ]
  },
  {
   "cell_type": "code",
   "execution_count": 109,
   "metadata": {
    "collapsed": false
   },
   "outputs": [
    {
     "data": {
      "text/plain": [
       "(400, 1600)"
      ]
     },
     "execution_count": 109,
     "metadata": {},
     "output_type": "execute_result"
    }
   ],
   "source": [
    "K_test.shape"
   ]
  },
  {
   "cell_type": "code",
   "execution_count": 110,
   "metadata": {
    "collapsed": true
   },
   "outputs": [],
   "source": [
    "y_test_pred = model.predict(K_test)"
   ]
  },
  {
   "cell_type": "code",
   "execution_count": 111,
   "metadata": {
    "collapsed": false
   },
   "outputs": [
    {
     "name": "stdout",
     "output_type": "stream",
     "text": [
      "0.26625\n"
     ]
    }
   ],
   "source": [
    "test_error = np.mean(np.abs(y_test_pred - Y_test) * 0.5)\n",
    "print(test_error)"
   ]
  },
  {
   "cell_type": "markdown",
   "metadata": {},
   "source": [
    "### BIG tests"
   ]
  },
  {
   "cell_type": "code",
   "execution_count": 233,
   "metadata": {
    "collapsed": true
   },
   "outputs": [
    {
     "name": "stdout",
     "output_type": "stream",
     "text": [
      "----\n",
      "sigma = 0.001, lambda = 0.001, limit=0.2\n",
      "training error : \n",
      "0.0\n",
      "----\n",
      "sigma = 0.001, lambda = 0.001, limit=0.4\n",
      "training error : \n",
      "0.5\n",
      "----\n",
      "sigma = 0.001, lambda = 0.001, limit=0.5\n",
      "training error : \n",
      "0.5\n",
      "----\n",
      "sigma = 0.001, lambda = 0.001, limit=0.7\n",
      "training error : \n",
      "0.5\n",
      "----\n",
      "sigma = 0.001, lambda = 0.01, limit=0.2\n",
      "training error : \n",
      "0.5\n",
      "----\n",
      "sigma = 0.001, lambda = 0.01, limit=0.4\n",
      "training error : \n",
      "0.5\n",
      "----\n",
      "sigma = 0.001, lambda = 0.01, limit=0.5\n",
      "training error : \n",
      "0.5\n",
      "----\n",
      "sigma = 0.001, lambda = 0.01, limit=0.7\n",
      "training error : \n",
      "0.5\n",
      "----\n",
      "sigma = 0.001, lambda = 0.1, limit=0.2\n",
      "training error : \n",
      "0.5\n",
      "----\n",
      "sigma = 0.001, lambda = 0.1, limit=0.4\n",
      "training error : \n",
      "0.5\n",
      "----\n",
      "sigma = 0.001, lambda = 0.1, limit=0.5\n",
      "training error : \n",
      "0.5\n",
      "----\n",
      "sigma = 0.001, lambda = 0.1, limit=0.7\n",
      "training error : \n",
      "0.5\n",
      "----\n",
      "sigma = 0.001, lambda = 0.5, limit=0.2\n",
      "training error : \n",
      "0.5\n",
      "----\n",
      "sigma = 0.001, lambda = 0.5, limit=0.4\n",
      "training error : \n",
      "0.5\n",
      "----\n",
      "sigma = 0.001, lambda = 0.5, limit=0.5\n",
      "training error : \n",
      "0.5\n",
      "----\n",
      "sigma = 0.001, lambda = 0.5, limit=0.7\n",
      "training error : \n",
      "0.5\n",
      "----\n",
      "sigma = 0.001, lambda = 1, limit=0.2\n",
      "training error : \n",
      "0.5\n",
      "----\n",
      "sigma = 0.001, lambda = 1, limit=0.4\n",
      "training error : \n",
      "0.5\n",
      "----\n",
      "sigma = 0.001, lambda = 1, limit=0.5\n",
      "training error : \n",
      "0.5\n",
      "----\n",
      "sigma = 0.001, lambda = 1, limit=0.7\n",
      "training error : \n",
      "0.5\n",
      "----\n",
      "sigma = 0.001, lambda = 10, limit=0.2\n",
      "training error : \n",
      "0.5\n",
      "----\n",
      "sigma = 0.001, lambda = 10, limit=0.4\n",
      "training error : \n",
      "0.5\n",
      "----\n",
      "sigma = 0.001, lambda = 10, limit=0.5\n",
      "training error : \n",
      "0.5\n",
      "----\n",
      "sigma = 0.001, lambda = 10, limit=0.7\n",
      "training error : \n",
      "0.5\n",
      "----\n",
      "sigma = 0.01, lambda = 0.001, limit=0.2\n",
      "training error : \n",
      "0.0\n",
      "----\n",
      "sigma = 0.01, lambda = 0.001, limit=0.4\n",
      "training error : \n",
      "0.5\n",
      "----\n",
      "sigma = 0.01, lambda = 0.001, limit=0.5\n",
      "training error : \n",
      "0.5\n",
      "----\n",
      "sigma = 0.01, lambda = 0.001, limit=0.7\n",
      "training error : \n",
      "0.5\n",
      "----\n",
      "sigma = 0.01, lambda = 0.01, limit=0.2\n",
      "training error : \n",
      "0.5\n",
      "----\n",
      "sigma = 0.01, lambda = 0.01, limit=0.4\n",
      "training error : \n",
      "0.5\n",
      "----\n",
      "sigma = 0.01, lambda = 0.01, limit=0.5\n",
      "training error : \n",
      "0.5\n",
      "----\n",
      "sigma = 0.01, lambda = 0.01, limit=0.7\n",
      "training error : \n",
      "0.5\n",
      "----\n",
      "sigma = 0.01, lambda = 0.1, limit=0.2\n",
      "training error : \n",
      "0.5\n",
      "----\n",
      "sigma = 0.01, lambda = 0.1, limit=0.4\n",
      "training error : \n",
      "0.5\n",
      "----\n",
      "sigma = 0.01, lambda = 0.1, limit=0.5\n",
      "training error : \n",
      "0.5\n",
      "----\n",
      "sigma = 0.01, lambda = 0.1, limit=0.7\n",
      "training error : \n",
      "0.5\n",
      "----\n",
      "sigma = 0.01, lambda = 0.5, limit=0.2\n",
      "training error : \n",
      "0.5\n",
      "----\n",
      "sigma = 0.01, lambda = 0.5, limit=0.4\n",
      "training error : \n",
      "0.5\n",
      "----\n",
      "sigma = 0.01, lambda = 0.5, limit=0.5\n",
      "training error : \n",
      "0.5\n",
      "----\n",
      "sigma = 0.01, lambda = 0.5, limit=0.7\n",
      "training error : \n",
      "0.5\n",
      "----\n",
      "sigma = 0.01, lambda = 1, limit=0.2\n",
      "training error : \n",
      "0.5\n",
      "----\n",
      "sigma = 0.01, lambda = 1, limit=0.4\n",
      "training error : \n",
      "0.5\n",
      "----\n",
      "sigma = 0.01, lambda = 1, limit=0.5\n",
      "training error : \n",
      "0.5\n",
      "----\n",
      "sigma = 0.01, lambda = 1, limit=0.7\n",
      "training error : \n",
      "0.5\n",
      "----\n",
      "sigma = 0.01, lambda = 10, limit=0.2\n",
      "training error : \n",
      "0.5\n",
      "----\n",
      "sigma = 0.01, lambda = 10, limit=0.4\n",
      "training error : \n",
      "0.5\n",
      "----\n",
      "sigma = 0.01, lambda = 10, limit=0.5\n",
      "training error : \n",
      "0.5\n",
      "----\n",
      "sigma = 0.01, lambda = 10, limit=0.7\n",
      "training error : \n",
      "0.5\n",
      "----\n",
      "sigma = 0.1, lambda = 0.001, limit=0.2\n",
      "training error : \n",
      "0.455\n",
      "----\n",
      "sigma = 0.1, lambda = 0.001, limit=0.4\n",
      "training error : \n",
      "0.251\n",
      "----\n",
      "sigma = 0.1, lambda = 0.001, limit=0.5\n",
      "training error : \n",
      "0.233\n",
      "----\n",
      "sigma = 0.1, lambda = 0.001, limit=0.7\n",
      "training error : \n",
      "0.405\n",
      "----\n",
      "sigma = 0.1, lambda = 0.01, limit=0.2\n",
      "training error : \n",
      "0.4975\n",
      "----\n",
      "sigma = 0.1, lambda = 0.01, limit=0.4\n",
      "training error : \n",
      "0.3965\n",
      "----\n",
      "sigma = 0.1, lambda = 0.01, limit=0.5\n",
      "training error : \n",
      "0.371\n",
      "----\n",
      "sigma = 0.1, lambda = 0.01, limit=0.7\n",
      "training error : \n",
      "0.4945\n",
      "----\n",
      "sigma = 0.1, lambda = 0.1, limit=0.2\n",
      "training error : \n",
      "0.493\n",
      "----\n",
      "sigma = 0.1, lambda = 0.1, limit=0.4\n",
      "training error : \n",
      "0.4725\n",
      "----\n",
      "sigma = 0.1, lambda = 0.1, limit=0.5\n",
      "training error : \n",
      "0.4995\n",
      "----\n",
      "sigma = 0.1, lambda = 0.1, limit=0.7\n",
      "training error : \n",
      "0.5\n",
      "----\n",
      "sigma = 0.1, lambda = 0.5, limit=0.2\n",
      "training error : \n",
      "0.4985\n",
      "----\n",
      "sigma = 0.1, lambda = 0.5, limit=0.4\n",
      "training error : \n",
      "0.5\n",
      "----\n",
      "sigma = 0.1, lambda = 0.5, limit=0.5\n",
      "training error : \n",
      "0.5\n",
      "----\n",
      "sigma = 0.1, lambda = 0.5, limit=0.7\n",
      "training error : \n",
      "0.5\n",
      "----\n",
      "sigma = 0.1, lambda = 1, limit=0.2\n",
      "training error : \n",
      "0.5\n",
      "----\n",
      "sigma = 0.1, lambda = 1, limit=0.4\n",
      "training error : \n",
      "0.5\n",
      "----\n",
      "sigma = 0.1, lambda = 1, limit=0.5\n",
      "training error : \n",
      "0.5\n",
      "----\n",
      "sigma = 0.1, lambda = 1, limit=0.7\n",
      "training error : \n",
      "0.5\n",
      "----\n",
      "sigma = 0.1, lambda = 10, limit=0.2\n",
      "training error : \n",
      "0.5\n",
      "----\n",
      "sigma = 0.1, lambda = 10, limit=0.4\n",
      "training error : \n",
      "0.5\n",
      "----\n",
      "sigma = 0.1, lambda = 10, limit=0.5\n",
      "training error : \n",
      "0.5\n",
      "----\n",
      "sigma = 0.1, lambda = 10, limit=0.7\n",
      "training error : \n",
      "0.5\n",
      "----\n",
      "sigma = 0.2, lambda = 0.001, limit=0.2\n",
      "training error : \n",
      "0.487\n",
      "----\n",
      "sigma = 0.2, lambda = 0.001, limit=0.4\n",
      "training error : \n",
      "0.3805\n",
      "----\n",
      "sigma = 0.2, lambda = 0.001, limit=0.5\n",
      "training error : \n",
      "0.328\n",
      "----\n",
      "sigma = 0.2, lambda = 0.001, limit=0.7\n",
      "training error : \n",
      "0.453\n",
      "----\n",
      "sigma = 0.2, lambda = 0.01, limit=0.2\n",
      "training error : \n",
      "0.5\n",
      "----\n",
      "sigma = 0.2, lambda = 0.01, limit=0.4\n",
      "training error : \n",
      "0.465\n",
      "----\n",
      "sigma = 0.2, lambda = 0.01, limit=0.5\n",
      "training error : \n",
      "0.367\n",
      "----\n",
      "sigma = 0.2, lambda = 0.01, limit=0.7\n",
      "training error : \n",
      "0.5\n",
      "----\n",
      "sigma = 0.2, lambda = 0.1, limit=0.2\n",
      "training error : \n",
      "0.5015\n",
      "----\n",
      "sigma = 0.2, lambda = 0.1, limit=0.4\n",
      "training error : \n",
      "0.48\n",
      "----\n",
      "sigma = 0.2, lambda = 0.1, limit=0.5\n",
      "training error : \n",
      "0.5\n",
      "----\n",
      "sigma = 0.2, lambda = 0.1, limit=0.7\n",
      "training error : \n",
      "0.5\n",
      "----\n",
      "sigma = 0.2, lambda = 0.5, limit=0.2\n",
      "training error : \n",
      "0.502\n",
      "----\n",
      "sigma = 0.2, lambda = 0.5, limit=0.4\n",
      "training error : \n",
      "0.5\n",
      "----\n",
      "sigma = 0.2, lambda = 0.5, limit=0.5\n",
      "training error : \n",
      "0.5\n",
      "----\n",
      "sigma = 0.2, lambda = 0.5, limit=0.7\n",
      "training error : \n",
      "0.5\n",
      "----\n",
      "sigma = 0.2, lambda = 1, limit=0.2\n",
      "training error : \n",
      "0.4835\n",
      "----\n",
      "sigma = 0.2, lambda = 1, limit=0.4\n",
      "training error : \n",
      "0.5\n",
      "----\n",
      "sigma = 0.2, lambda = 1, limit=0.5\n",
      "training error : \n",
      "0.5\n",
      "----\n",
      "sigma = 0.2, lambda = 1, limit=0.7\n",
      "training error : \n",
      "0.5\n",
      "----\n",
      "sigma = 0.2, lambda = 10, limit=0.2\n",
      "training error : \n",
      "0.5\n",
      "----\n",
      "sigma = 0.2, lambda = 10, limit=0.4\n",
      "training error : \n",
      "0.5\n",
      "----\n",
      "sigma = 0.2, lambda = 10, limit=0.5\n",
      "training error : \n",
      "0.5\n",
      "----\n",
      "sigma = 0.2, lambda = 10, limit=0.7\n",
      "training error : \n",
      "0.5\n",
      "----\n",
      "sigma = 0.5, lambda = 0.001, limit=0.2\n",
      "training error : \n",
      "0.5\n",
      "----\n",
      "sigma = 0.5, lambda = 0.001, limit=0.4\n",
      "training error : \n",
      "0.4435\n",
      "----\n",
      "sigma = 0.5, lambda = 0.001, limit=0.5\n",
      "training error : \n",
      "0.3655\n",
      "----\n",
      "sigma = 0.5, lambda = 0.001, limit=0.7\n",
      "training error : \n",
      "0.4935\n",
      "----\n",
      "sigma = 0.5, lambda = 0.01, limit=0.2\n",
      "training error : \n",
      "0.5\n",
      "----\n",
      "sigma = 0.5, lambda = 0.01, limit=0.4\n",
      "training error : \n",
      "0.5\n",
      "----\n",
      "sigma = 0.5, lambda = 0.01, limit=0.5\n",
      "training error : \n",
      "0.3955\n",
      "----\n",
      "sigma = 0.5, lambda = 0.01, limit=0.7\n",
      "training error : \n",
      "0.5\n",
      "----\n",
      "sigma = 0.5, lambda = 0.1, limit=0.2\n",
      "training error : \n",
      "0.5\n",
      "----\n",
      "sigma = 0.5, lambda = 0.1, limit=0.4\n",
      "training error : \n",
      "0.5015\n",
      "----\n",
      "sigma = 0.5, lambda = 0.1, limit=0.5\n",
      "training error : \n",
      "0.5\n",
      "----\n",
      "sigma = 0.5, lambda = 0.1, limit=0.7\n",
      "training error : \n",
      "0.5\n",
      "----\n",
      "sigma = 0.5, lambda = 0.5, limit=0.2\n",
      "training error : \n",
      "0.5\n",
      "----\n",
      "sigma = 0.5, lambda = 0.5, limit=0.4\n",
      "training error : \n",
      "0.5\n",
      "----\n",
      "sigma = 0.5, lambda = 0.5, limit=0.5\n",
      "training error : \n",
      "0.5\n",
      "----\n",
      "sigma = 0.5, lambda = 0.5, limit=0.7\n",
      "training error : \n",
      "0.5\n",
      "----\n",
      "sigma = 0.5, lambda = 1, limit=0.2\n",
      "training error : \n",
      "0.5\n",
      "----\n",
      "sigma = 0.5, lambda = 1, limit=0.4\n",
      "training error : \n",
      "0.5\n",
      "----\n",
      "sigma = 0.5, lambda = 1, limit=0.5\n",
      "training error : \n",
      "0.5\n",
      "----\n",
      "sigma = 0.5, lambda = 1, limit=0.7\n",
      "training error : \n",
      "0.5\n",
      "----\n",
      "sigma = 0.5, lambda = 10, limit=0.2\n",
      "training error : \n",
      "0.5\n",
      "----\n",
      "sigma = 0.5, lambda = 10, limit=0.4\n",
      "training error : \n",
      "0.5\n",
      "----\n",
      "sigma = 0.5, lambda = 10, limit=0.5\n",
      "training error : \n",
      "0.5\n",
      "----\n",
      "sigma = 0.5, lambda = 10, limit=0.7\n",
      "training error : \n",
      "0.5\n",
      "----\n",
      "sigma = 1, lambda = 0.001, limit=0.2\n",
      "training error : \n",
      "0.5\n",
      "----\n",
      "sigma = 1, lambda = 0.001, limit=0.4\n",
      "training error : \n",
      "0.497\n",
      "----\n",
      "sigma = 1, lambda = 0.001, limit=0.5\n",
      "training error : \n",
      "0.3795\n",
      "----\n",
      "sigma = 1, lambda = 0.001, limit=0.7\n",
      "training error : \n",
      "0.5\n",
      "----\n",
      "sigma = 1, lambda = 0.01, limit=0.2\n",
      "training error : \n",
      "0.5\n",
      "----\n",
      "sigma = 1, lambda = 0.01, limit=0.4\n",
      "training error : \n",
      "0.5\n",
      "----\n",
      "sigma = 1, lambda = 0.01, limit=0.5\n",
      "training error : \n",
      "0.4275\n",
      "----\n",
      "sigma = 1, lambda = 0.01, limit=0.7\n",
      "training error : \n",
      "0.5\n",
      "----\n",
      "sigma = 1, lambda = 0.1, limit=0.2\n",
      "training error : \n",
      "0.5\n",
      "----\n",
      "sigma = 1, lambda = 0.1, limit=0.4\n",
      "training error : \n",
      "0.5\n",
      "----\n",
      "sigma = 1, lambda = 0.1, limit=0.5\n",
      "training error : \n",
      "0.5\n",
      "----\n",
      "sigma = 1, lambda = 0.1, limit=0.7\n",
      "training error : \n",
      "0.5\n",
      "----\n",
      "sigma = 1, lambda = 0.5, limit=0.2\n",
      "training error : \n",
      "0.5\n",
      "----\n",
      "sigma = 1, lambda = 0.5, limit=0.4\n",
      "training error : \n",
      "0.5\n",
      "----\n",
      "sigma = 1, lambda = 0.5, limit=0.5\n",
      "training error : \n",
      "0.5\n",
      "----\n",
      "sigma = 1, lambda = 0.5, limit=0.7\n",
      "training error : \n",
      "0.5\n",
      "----\n",
      "sigma = 1, lambda = 1, limit=0.2\n",
      "training error : \n",
      "0.5\n",
      "----\n",
      "sigma = 1, lambda = 1, limit=0.4\n",
      "training error : \n",
      "0.5\n",
      "----\n",
      "sigma = 1, lambda = 1, limit=0.5\n",
      "training error : \n",
      "0.5\n",
      "----\n",
      "sigma = 1, lambda = 1, limit=0.7\n",
      "training error : \n",
      "0.5\n",
      "----\n",
      "sigma = 1, lambda = 10, limit=0.2\n",
      "training error : \n",
      "0.5\n",
      "----\n",
      "sigma = 1, lambda = 10, limit=0.4\n",
      "training error : \n",
      "0.5\n",
      "----\n",
      "sigma = 1, lambda = 10, limit=0.5\n",
      "training error : \n",
      "0.5\n",
      "----\n",
      "sigma = 1, lambda = 10, limit=0.7\n",
      "training error : \n",
      "0.5\n"
     ]
    }
   ],
   "source": [
    "for sigma in [1e-3,1e-2,1e-1,2e-1,5e-1,1]:\n",
    "    K = gaussian_kernel_matrix(X, sigma=sigma)\n",
    "    for l in [1e-3,1e-2,1e-1,5e-1,1,10]:\n",
    "        alpha = KRR(K, y, l=l)\n",
    "        y_pred = np.dot(K,alpha)\n",
    "        for limit in [0.2,0.4,0.5,0.7]:  \n",
    "            y_pred_final = 1*(y_pred > limit)\n",
    "            print('----')\n",
    "            print('sigma = {}, lambda = {}, limit={}'.format(sigma,l, limit))\n",
    "            print('training error : ')\n",
    "            print(np.mean(np.abs(y_pred_final-y)))"
   ]
  },
  {
   "cell_type": "code",
   "execution_count": 236,
   "metadata": {
    "collapsed": false
   },
   "outputs": [
    {
     "data": {
      "text/plain": [
       "array([[0],\n",
       "       [0],\n",
       "       [0],\n",
       "       ..., \n",
       "       [0],\n",
       "       [0],\n",
       "       [0]])"
      ]
     },
     "execution_count": 236,
     "metadata": {},
     "output_type": "execute_result"
    }
   ],
   "source": [
    "y_pred_final"
   ]
  },
  {
   "cell_type": "code",
   "execution_count": 256,
   "metadata": {
    "collapsed": true
   },
   "outputs": [],
   "source": []
  },
  {
   "cell_type": "code",
   "execution_count": 321,
   "metadata": {
    "collapsed": false,
    "scrolled": true
   },
   "outputs": [
    {
     "name": "stdout",
     "output_type": "stream",
     "text": [
      "----\n",
      "sigma = 0.2, lambda = 0.002, limit=0.5\n",
      "testing error : \n",
      "0.4175\n",
      "training error : \n",
      "0.33625\n",
      "----\n",
      "sigma = 0.2, lambda = 0.003, limit=0.5\n",
      "testing error : \n",
      "0.415\n",
      "training error : \n",
      "0.3475\n",
      "----\n",
      "sigma = 0.2, lambda = 0.005, limit=0.5\n",
      "testing error : \n",
      "0.41\n",
      "training error : \n",
      "0.3525\n",
      "----\n",
      "sigma = 0.2, lambda = 0.008, limit=0.5\n",
      "testing error : \n",
      "0.4175\n",
      "training error : \n",
      "0.351875\n",
      "----\n",
      "sigma = 0.2, lambda = 0.01, limit=0.5\n",
      "testing error : \n",
      "0.42\n",
      "training error : \n",
      "0.3575\n"
     ]
    }
   ],
   "source": [
    "big_X = np.concatenate((X_train, X_test),axis=0) \n",
    "for sigma in [0.2]:\n",
    "    big_K = gaussian_kernel_matrix(big_X, sigma=sigma)\n",
    "    K = big_K[:1600,:1600]\n",
    "    K_test = big_K[1600:,:1600]\n",
    "    for l in [0.002, 0.003,0.005,0.008,0.01]:\n",
    "        alpha = KRR(K, Y_train, l=l)\n",
    "        y_pred_test = np.dot(K_test,alpha)\n",
    "        y_pred_train = np.dot(K,alpha)\n",
    "        for limit in [0.5]:\n",
    "\n",
    "            y_pred_final = 1*(y_pred_test > limit)\n",
    "            print('----')\n",
    "            print('sigma = {}, lambda = {}, limit={}'.format(sigma,l,limit))\n",
    "            print('testing error : ')\n",
    "            print(np.mean(np.abs(y_pred_final-Y_test)))\n",
    "            y_pred_final = 1*(y_pred_train > limit)\n",
    "            print('training error : ')\n",
    "            print(np.mean(np.abs(y_pred_final-Y_train)))"
   ]
  },
  {
   "cell_type": "code",
   "execution_count": 309,
   "metadata": {
    "collapsed": true
   },
   "outputs": [
    {
     "data": {
      "text/plain": [
       "array([[ 0.        ],\n",
       "       [ 0.38461538],\n",
       "       [ 0.38461538],\n",
       "       ..., \n",
       "       [ 0.38461538],\n",
       "       [ 0.        ],\n",
       "       [ 0.38461538]])"
      ]
     },
     "execution_count": 309,
     "metadata": {},
     "output_type": "execute_result"
    }
   ],
   "source": [
    "y_pred"
   ]
  },
  {
   "cell_type": "code",
   "execution_count": 288,
   "metadata": {
    "collapsed": false,
    "scrolled": true
   },
   "outputs": [
    {
     "data": {
      "text/plain": [
       "array([[ -3.52111613e-09],\n",
       "       [ -2.87455129e-09],\n",
       "       [ -3.19436646e-09],\n",
       "       ..., \n",
       "       [  6.24997281e-04],\n",
       "       [ -4.01467883e-09],\n",
       "       [  6.24996761e-04]])"
      ]
     },
     "execution_count": 288,
     "metadata": {},
     "output_type": "execute_result"
    }
   ],
   "source": [
    "alpha"
   ]
  },
  {
   "cell_type": "code",
   "execution_count": null,
   "metadata": {
    "collapsed": true
   },
   "outputs": [],
   "source": []
  }
 ],
 "metadata": {
  "anaconda-cloud": {},
  "kernelspec": {
   "display_name": "Python [Root]",
   "language": "python",
   "name": "Python [Root]"
  },
  "language_info": {
   "codemirror_mode": {
    "name": "ipython",
    "version": 3
   },
   "file_extension": ".py",
   "mimetype": "text/x-python",
   "name": "python",
   "nbconvert_exporter": "python",
   "pygments_lexer": "ipython3",
   "version": "3.5.2"
  }
 },
 "nbformat": 4,
 "nbformat_minor": 0
}
