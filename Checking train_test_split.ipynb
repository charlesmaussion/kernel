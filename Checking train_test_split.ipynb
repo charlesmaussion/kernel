{
 "cells": [
  {
   "cell_type": "code",
   "execution_count": 1,
   "metadata": {},
   "outputs": [],
   "source": [
    "from kernels import * \n",
    "from learning_models import *\n",
    "from tools import *\n",
    "import pandas as pd\n",
    "import numpy as np\n",
    "from time import time \n",
    "from sklearn.svm import SVC\n",
    "from autoreload import superreload"
   ]
  },
  {
   "cell_type": "code",
   "execution_count": 2,
   "metadata": {},
   "outputs": [],
   "source": [
    "%load_ext autoreload\n",
    "%autoreload 2"
   ]
  },
  {
   "cell_type": "code",
   "execution_count": 3,
   "metadata": {},
   "outputs": [],
   "source": [
    "def train_test_split(X, y, K, test_size=0.1, verbose=True):\n",
    "    '''\n",
    "    Splits a dataset (X,y) into a training and a testing set while preserving the same ratio of positive labels in the\n",
    "    training and testing sets as in the initial dataset. The function also returns two kernel matrices for training and\n",
    "    testing which entries are computed according to the shuffling operated on the initial dataset before splitting into\n",
    "    training and testing, i.e. K_train[i,j] = K[X_train[i], X_train[j]] and K_test[i,j] = K[X_test[i], X_train[j]]\n",
    "\n",
    "    Arguments :\n",
    "    - X : a 2d array of features containing as many rows as there are samples in the dataset\n",
    "    - y : a 1d array containing the labels of the dataset\n",
    "    - test_size : a float representing the ratio of the initial data that the testing set should contain (default 0.1)\n",
    "    - verbose : a Boolean stating whether or not the function should print information about the the initial dataset\n",
    "                such as number of samples, ratio of positive samples, etc. (default True)\n",
    "\n",
    "    Outputs :\n",
    "    A tuple of length 6 containing:\n",
    "    - X_train : a 2d array containing the training data\n",
    "    - X_test : a 2d array containing the testing data\n",
    "    - y_train : a 1d array containing the training labels\n",
    "    - y_test : a 1d array containing the testing labels\n",
    "    - K_train : a 2d array containing the training kernel matrix\n",
    "    - K_test : a 2d array containing the kernel matrix for predicting\n",
    "    '''\n",
    "\n",
    "    ## Getting number of examples and range of indices\n",
    "    n = len(y)\n",
    "    assert n == X.shape[0] == K.shape[0]\n",
    "    indices = np.arange(n)\n",
    "\n",
    "    ## Splitting indices according to labels\n",
    "    target_values = np.sort(np.unique(y))\n",
    "    assert len(target_values) == 2\n",
    "    positives = y==target_values[1]\n",
    "    negatives = y==target_values[0]\n",
    "    positive_indices = indices[positives]\n",
    "    negative_indices = indices[negatives]\n",
    "\n",
    "    ## Getting number of examples of each class\n",
    "    n_pos = len(positive_indices)\n",
    "    n_neg = len(negative_indices)\n",
    "    assert n_pos + n_neg == n\n",
    "\n",
    "    if verbose:\n",
    "        print('Total number of examples : {}'.format(n))\n",
    "        print('Ratio of positive samples : {:.2f}'.format(n_pos/n))\n",
    "        print('Ratio of negative to positive labels in the data : {:.2f}'.format(n_neg/n_pos))\n",
    "\n",
    "    ## Shuffing positives\n",
    "    shuffled_positive_indices = positive_indices.copy()\n",
    "    np.random.shuffle(shuffled_positive_indices)\n",
    "    max_index_train_positives = n_pos - int(np.ceil(test_size*n_pos))\n",
    "    train_pos_indices = shuffled_positive_indices[:max_index_train_positives]\n",
    "    test_pos_indices = shuffled_positive_indices[max_index_train_positives:]\n",
    "\n",
    "    ## Shuffling negatives\n",
    "    shuffled_negative_indices = negative_indices.copy()\n",
    "    np.random.shuffle(shuffled_negative_indices)\n",
    "    max_index_train_negatives = n_neg - int(np.ceil(test_size*n_neg))\n",
    "    train_neg_indices = shuffled_negative_indices[:max_index_train_negatives]\n",
    "    test_neg_indices = shuffled_negative_indices[max_index_train_negatives:]\n",
    "\n",
    "    ## Combining train indices from positives and negatives an re-shuffling\n",
    "    train_indices = np.concatenate((train_pos_indices, train_neg_indices), axis=0)\n",
    "    test_indices = np.concatenate((test_pos_indices, test_neg_indices), axis=0)\n",
    "    np.random.shuffle(train_indices)\n",
    "    np.random.shuffle(test_indices)\n",
    "\n",
    "    ## Producing train and test arrays from previously computed indices\n",
    "    X_train = X[train_indices,:]\n",
    "    y_train = y[train_indices]\n",
    "    X_test = X[test_indices,:]\n",
    "    y_test = y[test_indices]\n",
    "\n",
    "    K_train = K[train_indices,:][:,train_indices]\n",
    "    K_test = K[test_indices,:][:,train_indices]\n",
    "\n",
    "    return X_train, X_test, y_train, y_test, K_train, K_test"
   ]
  },
  {
   "cell_type": "code",
   "execution_count": 4,
   "metadata": {},
   "outputs": [],
   "source": [
    "def K_train_test_split(X, Y, K, test_size = 0.25):\n",
    "    rs = ShuffleSplit(n_splits=1, test_size=test_size)\n",
    "    train_index, test_index = next(rs.split(X))\n",
    "    concatenate_index = np.concatenate((train_index,test_index))\n",
    "    n_train = len(train_index)\n",
    "\n",
    "\n",
    "    new_X = np.array(X)[concatenate_index]\n",
    "    new_Y = np.array(Y)[concatenate_index]\n",
    "\n",
    "    new_K = np.zeros((len(concatenate_index),len(concatenate_index)))\n",
    "    for i,old_row in enumerate(concatenate_index):\n",
    "        new_K[i] = np.array(K[old_row])[concatenate_index]\n",
    "\n",
    "    return new_X[:n_train], new_X[n_train:], new_Y[:n_train], new_Y[n_train:], new_K[:n_train, :n_train], new_K[n_train:,:n_train]"
   ]
  },
  {
   "cell_type": "markdown",
   "metadata": {},
   "source": [
    "### On prend un X bateau pour vérifier que l'algo fait bien ce qu'on veut, essayez de modifier X pour voir si on a toujours le bon résultat"
   ]
  },
  {
   "cell_type": "code",
   "execution_count": 25,
   "metadata": {},
   "outputs": [],
   "source": [
    "X = np.arange(6*4).reshape(6,4)\n",
    "Y = np.arange(6)"
   ]
  },
  {
   "cell_type": "code",
   "execution_count": 26,
   "metadata": {
    "scrolled": true
   },
   "outputs": [
    {
     "data": {
      "text/plain": [
       "array([[ 0,  1,  2,  3],\n",
       "       [ 4,  5,  6,  7],\n",
       "       [ 8,  9, 10, 11],\n",
       "       [12, 13, 14, 15],\n",
       "       [16, 17, 18, 19],\n",
       "       [20, 21, 22, 23]])"
      ]
     },
     "execution_count": 26,
     "metadata": {},
     "output_type": "execute_result"
    }
   ],
   "source": [
    "X"
   ]
  },
  {
   "cell_type": "code",
   "execution_count": 27,
   "metadata": {},
   "outputs": [
    {
     "data": {
      "text/plain": [
       "array([0, 1, 2, 3, 4, 5])"
      ]
     },
     "execution_count": 27,
     "metadata": {},
     "output_type": "execute_result"
    }
   ],
   "source": [
    "Y"
   ]
  },
  {
   "cell_type": "code",
   "execution_count": 35,
   "metadata": {},
   "outputs": [],
   "source": [
    "y = np.array([1,1,1,0,0,0])"
   ]
  },
  {
   "cell_type": "code",
   "execution_count": 36,
   "metadata": {},
   "outputs": [],
   "source": [
    "K = polynomial_kernel_matrix(X)"
   ]
  },
  {
   "cell_type": "code",
   "execution_count": 37,
   "metadata": {},
   "outputs": [
    {
     "data": {
      "text/plain": [
       "array([[   15.,    39.,    63.,    87.,   111.,   135.],\n",
       "       [   39.,   127.,   215.,   303.,   391.,   479.],\n",
       "       [   63.,   215.,   367.,   519.,   671.,   823.],\n",
       "       [   87.,   303.,   519.,   735.,   951.,  1167.],\n",
       "       [  111.,   391.,   671.,   951.,  1231.,  1511.],\n",
       "       [  135.,   479.,   823.,  1167.,  1511.,  1855.]])"
      ]
     },
     "execution_count": 37,
     "metadata": {},
     "output_type": "execute_result"
    }
   ],
   "source": [
    "K"
   ]
  },
  {
   "cell_type": "code",
   "execution_count": 38,
   "metadata": {},
   "outputs": [
    {
     "data": {
      "text/plain": [
       "(6, 6)"
      ]
     },
     "execution_count": 38,
     "metadata": {},
     "output_type": "execute_result"
    }
   ],
   "source": [
    "K.shape"
   ]
  },
  {
   "cell_type": "code",
   "execution_count": 40,
   "metadata": {},
   "outputs": [
    {
     "name": "stdout",
     "output_type": "stream",
     "text": [
      "Total number of examples : 6\n",
      "Ratio of positive samples : 0.50\n",
      "Ratio of negative to positive labels in the data : 1.00\n"
     ]
    }
   ],
   "source": [
    "X_train, X_test, y_train, y_test, K_train, K_test = train_test_split(X,y,K)"
   ]
  },
  {
   "cell_type": "code",
   "execution_count": 41,
   "metadata": {},
   "outputs": [
    {
     "data": {
      "text/plain": [
       "array([[ 0,  1,  2,  3],\n",
       "       [ 4,  5,  6,  7],\n",
       "       [ 8,  9, 10, 11],\n",
       "       [12, 13, 14, 15],\n",
       "       [16, 17, 18, 19],\n",
       "       [20, 21, 22, 23]])"
      ]
     },
     "execution_count": 41,
     "metadata": {},
     "output_type": "execute_result"
    }
   ],
   "source": [
    "X"
   ]
  },
  {
   "cell_type": "code",
   "execution_count": 13,
   "metadata": {},
   "outputs": [
    {
     "data": {
      "text/plain": [
       "array([[ 0,  1,  2,  3],\n",
       "       [12, 13, 14, 15],\n",
       "       [20, 21, 22, 23],\n",
       "       [ 8,  9, 10, 11]])"
      ]
     },
     "execution_count": 13,
     "metadata": {},
     "output_type": "execute_result"
    }
   ],
   "source": [
    "X_train"
   ]
  },
  {
   "cell_type": "code",
   "execution_count": 14,
   "metadata": {},
   "outputs": [
    {
     "data": {
      "text/plain": [
       "array([[ 4,  5,  6,  7],\n",
       "       [16, 17, 18, 19]])"
      ]
     },
     "execution_count": 14,
     "metadata": {},
     "output_type": "execute_result"
    }
   ],
   "source": [
    "X_test"
   ]
  },
  {
   "cell_type": "markdown",
   "metadata": {},
   "source": [
    "Visiblement les indices (numéro des lignes) retenus pour le jeu d'entrainement sont [2,0,5,3], et ceux pour le jeu de test [4,1]. \n",
    "\n",
    "Vérifions plus bas que les matrices K_train et K_test correspondent bien respectivement à :\n",
    "- K_train = K[i,j] pour (i,j) dans [2,0,5,3]x[2,0,5,3]\n",
    "- K_test = K[i,j] pour (i,j) dans [4,1]x[2,0,5,3]"
   ]
  },
  {
   "cell_type": "code",
   "execution_count": 15,
   "metadata": {},
   "outputs": [
    {
     "data": {
      "text/plain": [
       "array([[   15.,    39.,    63.,    87.,   111.,   135.],\n",
       "       [   39.,   127.,   215.,   303.,   391.,   479.],\n",
       "       [   63.,   215.,   367.,   519.,   671.,   823.],\n",
       "       [   87.,   303.,   519.,   735.,   951.,  1167.],\n",
       "       [  111.,   391.,   671.,   951.,  1231.,  1511.],\n",
       "       [  135.,   479.,   823.,  1167.,  1511.,  1855.]])"
      ]
     },
     "execution_count": 15,
     "metadata": {},
     "output_type": "execute_result"
    }
   ],
   "source": [
    "K"
   ]
  },
  {
   "cell_type": "code",
   "execution_count": 16,
   "metadata": {},
   "outputs": [
    {
     "data": {
      "text/plain": [
       "array([[   15.,    87.,   135.,    63.],\n",
       "       [   87.,   735.,  1167.,   519.],\n",
       "       [  135.,  1167.,  1855.,   823.],\n",
       "       [   63.,   519.,   823.,   367.]])"
      ]
     },
     "execution_count": 16,
     "metadata": {},
     "output_type": "execute_result"
    }
   ],
   "source": [
    "K_train"
   ]
  },
  {
   "cell_type": "code",
   "execution_count": 17,
   "metadata": {},
   "outputs": [
    {
     "data": {
      "text/plain": [
       "array([[   39.,   303.,   479.,   215.],\n",
       "       [  111.,   951.,  1511.,   671.]])"
      ]
     },
     "execution_count": 17,
     "metadata": {},
     "output_type": "execute_result"
    }
   ],
   "source": [
    "K_test"
   ]
  },
  {
   "cell_type": "markdown",
   "metadata": {},
   "source": [
    "Les résultats sont ceux qu'on attend, le split a l'air de fonctionner correctement !"
   ]
  },
  {
   "cell_type": "markdown",
   "metadata": {},
   "source": [
    "### Essayons maintenant le K_train de Charles"
   ]
  },
  {
   "cell_type": "code",
   "execution_count": 29,
   "metadata": {},
   "outputs": [],
   "source": [
    "X_train, X_test, y_train, y_test, K_train, K_test = K_train_test_split(X,Y,K)"
   ]
  },
  {
   "cell_type": "code",
   "execution_count": 19,
   "metadata": {},
   "outputs": [
    {
     "data": {
      "text/plain": [
       "array([[ 0,  1,  2,  3],\n",
       "       [ 4,  5,  6,  7],\n",
       "       [ 8,  9, 10, 11],\n",
       "       [12, 13, 14, 15],\n",
       "       [16, 17, 18, 19],\n",
       "       [20, 21, 22, 23]])"
      ]
     },
     "execution_count": 19,
     "metadata": {},
     "output_type": "execute_result"
    }
   ],
   "source": [
    "X"
   ]
  },
  {
   "cell_type": "code",
   "execution_count": 30,
   "metadata": {},
   "outputs": [
    {
     "data": {
      "text/plain": [
       "array([5, 3, 4, 1])"
      ]
     },
     "execution_count": 30,
     "metadata": {},
     "output_type": "execute_result"
    }
   ],
   "source": [
    "y_train"
   ]
  },
  {
   "cell_type": "code",
   "execution_count": 31,
   "metadata": {},
   "outputs": [
    {
     "data": {
      "text/plain": [
       "array([[20, 21, 22, 23],\n",
       "       [12, 13, 14, 15],\n",
       "       [16, 17, 18, 19],\n",
       "       [ 4,  5,  6,  7]])"
      ]
     },
     "execution_count": 31,
     "metadata": {},
     "output_type": "execute_result"
    }
   ],
   "source": [
    "X_train"
   ]
  },
  {
   "cell_type": "code",
   "execution_count": 33,
   "metadata": {},
   "outputs": [
    {
     "data": {
      "text/plain": [
       "array([0, 2])"
      ]
     },
     "execution_count": 33,
     "metadata": {},
     "output_type": "execute_result"
    }
   ],
   "source": [
    "y_test"
   ]
  },
  {
   "cell_type": "code",
   "execution_count": 34,
   "metadata": {},
   "outputs": [
    {
     "data": {
      "text/plain": [
       "array([[ 0,  1,  2,  3],\n",
       "       [ 8,  9, 10, 11]])"
      ]
     },
     "execution_count": 34,
     "metadata": {},
     "output_type": "execute_result"
    }
   ],
   "source": [
    "X_test"
   ]
  },
  {
   "cell_type": "markdown",
   "metadata": {},
   "source": [
    "Les indices du train sont [1,5,4,2], et ceux du test [0,3]"
   ]
  },
  {
   "cell_type": "code",
   "execution_count": 22,
   "metadata": {},
   "outputs": [
    {
     "data": {
      "text/plain": [
       "array([[   15.,    39.,    63.,    87.,   111.,   135.],\n",
       "       [   39.,   127.,   215.,   303.,   391.,   479.],\n",
       "       [   63.,   215.,   367.,   519.,   671.,   823.],\n",
       "       [   87.,   303.,   519.,   735.,   951.,  1167.],\n",
       "       [  111.,   391.,   671.,   951.,  1231.,  1511.],\n",
       "       [  135.,   479.,   823.,  1167.,  1511.,  1855.]])"
      ]
     },
     "execution_count": 22,
     "metadata": {},
     "output_type": "execute_result"
    }
   ],
   "source": [
    "K"
   ]
  },
  {
   "cell_type": "code",
   "execution_count": 23,
   "metadata": {},
   "outputs": [
    {
     "data": {
      "text/plain": [
       "array([[  735.,   951.,    87.,  1167.],\n",
       "       [  951.,  1231.,   111.,  1511.],\n",
       "       [   87.,   111.,    15.,   135.],\n",
       "       [ 1167.,  1511.,   135.,  1855.]])"
      ]
     },
     "execution_count": 23,
     "metadata": {},
     "output_type": "execute_result"
    }
   ],
   "source": [
    "K_train"
   ]
  },
  {
   "cell_type": "code",
   "execution_count": 24,
   "metadata": {},
   "outputs": [
    {
     "data": {
      "text/plain": [
       "array([[ 519.,  671.,   63.,  823.],\n",
       "       [ 303.,  391.,   39.,  479.]])"
      ]
     },
     "execution_count": 24,
     "metadata": {},
     "output_type": "execute_result"
    }
   ],
   "source": [
    "K_test"
   ]
  },
  {
   "cell_type": "code",
   "execution_count": null,
   "metadata": {},
   "outputs": [],
   "source": []
  }
 ],
 "metadata": {
  "kernelspec": {
   "display_name": "Python 3",
   "language": "python",
   "name": "python3"
  },
  "language_info": {
   "codemirror_mode": {
    "name": "ipython",
    "version": 3
   },
   "file_extension": ".py",
   "mimetype": "text/x-python",
   "name": "python",
   "nbconvert_exporter": "python",
   "pygments_lexer": "ipython3",
   "version": "3.6.3"
  }
 },
 "nbformat": 4,
 "nbformat_minor": 1
}
