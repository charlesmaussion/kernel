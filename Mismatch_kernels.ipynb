{
 "cells": [
  {
   "cell_type": "code",
   "execution_count": 9,
   "metadata": {},
   "outputs": [],
   "source": [
    "import numpy as np\n",
    "import pandas as pd\n",
    "from kernels import * \n",
    "from learning_models import *\n",
    "from tools import *\n",
    "import pandas as pd\n",
    "import numpy as np\n",
    "from time import time \n",
    "from sklearn.svm import SVC\n",
    "from tqdm import tqdm\n",
    "from autoreload import superreload\n",
    "import operator"
   ]
  },
  {
   "cell_type": "code",
   "execution_count": 27,
   "metadata": {},
   "outputs": [],
   "source": [
    "def spectrum_kernel(X, length):\n",
    "    all_sequence = {}\n",
    "    \n",
    "    for idx in range(len(X)):\n",
    "        data = X[idx]\n",
    "        for i in range(len(data)-length + 1):\n",
    "            seq1 = data[i:i+length]\n",
    "            if seq1 in all_sequence:\n",
    "                if idx in all_sequence[seq1]:\n",
    "                    all_sequence[seq1][idx] += 1\n",
    "                else:\n",
    "                    all_sequence[seq1][idx] = 1\n",
    "            else:\n",
    "                all_sequence[seq1] = {}\n",
    "                all_sequence[seq1][idx] = 1\n",
    "    \n",
    "    kernel = np.zeros((len(X), len(X)))\n",
    "    \n",
    "    for seq in all_sequence:\n",
    "        for key1 in all_sequence[seq]:\n",
    "            for key2 in all_sequence[seq]:\n",
    "                kernel[key1][key2] += all_sequence[seq][key1]*all_sequence[seq][key2]\n",
    "                \n",
    "    return kernel"
   ]
  },
  {
   "cell_type": "code",
   "execution_count": 28,
   "metadata": {},
   "outputs": [],
   "source": [
    "def embedding_mismatch_kernel(X, lengths, mismatch, verbose = False):\n",
    "    \n",
    "    all_sequences_index = {}\n",
    "    id_last_seq = 0\n",
    "    for data in X:\n",
    "        for i in range(len(data)-lengths + 1):\n",
    "            seq = data[i:i+lengths]\n",
    "            if seq not in all_sequences_index:\n",
    "                all_sequences_index[seq] = id_last_seq\n",
    "                id_last_seq += 1\n",
    "\n",
    "    \n",
    "    vectors = np.zeros((len(X),len(all_sequences_index)))\n",
    "    \n",
    "    for idx in tqdm(range(len(X))):\n",
    "        data = X[idx]\n",
    "        for i in range(len(data)-lengths + 1):\n",
    "            seq = data[i:i+lengths]\n",
    "            vectors[idx, all_sequences_index[seq]] += 1\n",
    "            if mismatch >= 1:\n",
    "                for seq_mis in one_mismatch_away(seq, True):\n",
    "                    if seq_mis in all_sequences_index:\n",
    "                        vectors[idx, all_sequences_index[seq_mis]] += 1/2\n",
    "            if mismatch >= 2:\n",
    "                for seq_mis in two_mismatch_away(seq):\n",
    "                    if seq_mis in all_sequences_index:\n",
    "                        vectors[idx, all_sequences_index[seq_mis]] += 1/3\n",
    "     \n",
    "    if verbose:\n",
    "        print(all_sequences_index)\n",
    "        print('Embedding :')\n",
    "        print(vectors)\n",
    "    return np.dot(vectors,vectors.T)"
   ]
  },
  {
   "cell_type": "code",
   "execution_count": 29,
   "metadata": {},
   "outputs": [],
   "source": [
    "def one_mismatch_away(s, codon = False):\n",
    "    res = []\n",
    "    if codon :\n",
    "        all_letters = ['A', 'C', 'D', 'E', 'F', 'G', 'H', 'I', 'K', 'L', 'M', 'N', 'P',\n",
    "       'Q', 'R', 'S', 'T', 'V', 'W', 'Y', 'Z']\n",
    "    else :\n",
    "        all_letters = ['A','T','C','G']\n",
    "    for i,letter in enumerate(s):\n",
    "        if letter not in all_letters:\n",
    "            print('Please use only letters in {}'.format(all_letters))\n",
    "        for l in all_letters:\n",
    "            if letter != l:\n",
    "                res.append(str(s[:i]) + l + str(s[i+1:]))\n",
    "    return res"
   ]
  },
  {
   "cell_type": "code",
   "execution_count": 30,
   "metadata": {},
   "outputs": [],
   "source": [
    "def two_mismatch_away(s):\n",
    "    res = []\n",
    "    for a in one_mismatch_away(s):\n",
    "        for t in one_mismatch_away(a):\n",
    "            if t not in res and t != s and t not in one_mismatch_away(s):\n",
    "                res.append(t)\n",
    "    return res"
   ]
  },
  {
   "cell_type": "code",
   "execution_count": 6,
   "metadata": {},
   "outputs": [],
   "source": [
    "def submitResults(filename, y_pred_final):\n",
    "    '''\n",
    "    Creates, from a 1d array of final predicted values, a file named filename formated appropriately in order to make a\n",
    "    submission on the Kaggle platform.\n",
    "    '''\n",
    "    y = np.concatenate([y_pred_final[i] for i in [0,1,2]])\n",
    "    with open(\"data/submission/{}.csv\".format(filename), 'w') as f:\n",
    "        string = \"Id,Bound\\n\"\n",
    "        for j in range(0,3000):\n",
    "            string += str(j)+','+str(int(y[j]))+'\\n'\n",
    "        f.write(string)\n",
    "    print(\"----------------- Prediction written on {}.csv ---------------\".format(filename))"
   ]
  },
  {
   "cell_type": "code",
   "execution_count": 7,
   "metadata": {
    "scrolled": true
   },
   "outputs": [
    {
     "name": "stderr",
     "output_type": "stream",
     "text": [
      "100%|██████████| 4/4 [00:00<00:00, 6505.32it/s]"
     ]
    },
    {
     "name": "stdout",
     "output_type": "stream",
     "text": [
      "[[ 2.5   2.25  2.25  2.  ]\n",
      " [ 2.25  2.5   2.5   2.25]\n",
      " [ 2.25  2.5   2.5   2.25]\n",
      " [ 2.    2.25  2.25  2.5 ]]\n"
     ]
    },
    {
     "name": "stderr",
     "output_type": "stream",
     "text": [
      "\n"
     ]
    }
   ],
   "source": [
    "X = ['TTCG',\n",
    "    'ATCG',\n",
    "    'ATCG',\n",
    "    'ATCA']\n",
    "m1 = embedding_mismatch_kernel(X,3,1, False)\n",
    "print(m1)"
   ]
  },
  {
   "cell_type": "code",
   "execution_count": 13,
   "metadata": {},
   "outputs": [],
   "source": [
    "def translate_dna(cds):\n",
    "\n",
    "    codontable = {\n",
    "    'ATA':'I', 'ATC':'I', 'ATT':'I', 'ATG':'M',\n",
    "    'ACA':'T', 'ACC':'T', 'ACG':'T', 'ACT':'T',\n",
    "    'AAC':'N', 'AAT':'N', 'AAA':'K', 'AAG':'K',\n",
    "    'AGC':'S', 'AGT':'S', 'AGA':'R', 'AGG':'R',\n",
    "    'CTA':'L', 'CTC':'L', 'CTG':'L', 'CTT':'L',\n",
    "    'CCA':'P', 'CCC':'P', 'CCG':'P', 'CCT':'P',\n",
    "    'CAC':'H', 'CAT':'H', 'CAA':'Q', 'CAG':'Q',\n",
    "    'CGA':'R', 'CGC':'R', 'CGG':'R', 'CGT':'R',\n",
    "    'GTA':'V', 'GTC':'V', 'GTG':'V', 'GTT':'V',\n",
    "    'GCA':'A', 'GCC':'A', 'GCG':'A', 'GCT':'A',\n",
    "    'GAC':'D', 'GAT':'D', 'GAA':'E', 'GAG':'E',\n",
    "    'GGA':'G', 'GGC':'G', 'GGG':'G', 'GGT':'G',\n",
    "    'TCA':'S', 'TCC':'S', 'TCG':'S', 'TCT':'S',\n",
    "    'TTC':'F', 'TTT':'F', 'TTA':'L', 'TTG':'L',\n",
    "    'TAC':'Y', 'TAT':'Y', 'TAA':'Z', 'TAG':'Z',\n",
    "    'TGC':'C', 'TGT':'C', 'TGA':'Z', 'TGG':'W',\n",
    "    }\n",
    "    proteinsequence = ''\n",
    "    \n",
    "    if len(cds)%3 != 0:\n",
    "        print('Séquence pas divisible par 3')\n",
    "        return proteinsequence\n",
    "    for n in range(0,len(cds),3):\n",
    "        if cds[n:n+3] in codontable:\n",
    "            proteinsequence += codontable[cds[n:n+3]]\n",
    "        else:\n",
    "            raise ValueError('Pas dans le code génétique')\n",
    "    return proteinsequence"
   ]
  },
  {
   "cell_type": "code",
   "execution_count": 15,
   "metadata": {},
   "outputs": [],
   "source": [
    "file = 0\n",
    "X_train = pd.read_csv(\"data/Xtr{}.csv\".format(file), sep=' ',header=None)[0].values.tolist()\n",
    "Y_train = pd.read_csv(\"./data/Ytr{}.csv\".format(file), index_col=0)['Bound'].values\n",
    "\n",
    "X_trans = [translate_dna(X[:99]) for X in X_train]"
   ]
  },
  {
   "cell_type": "code",
   "execution_count": 19,
   "metadata": {},
   "outputs": [
    {
     "name": "stdout",
     "output_type": "stream",
     "text": [
      "CPU times: user 54.8 ms, sys: 1.58 ms, total: 56.3 ms\n",
      "Wall time: 55.7 ms\n"
     ]
    }
   ],
   "source": [
    "%%time\n",
    "X_trans = [translate_dna(X[:99]) for X in X_train]"
   ]
  },
  {
   "cell_type": "markdown",
   "metadata": {},
   "source": [
    "## Cross validation to launch"
   ]
  },
  {
   "cell_type": "code",
   "execution_count": 42,
   "metadata": {
    "scrolled": true
   },
   "outputs": [
    {
     "name": "stderr",
     "output_type": "stream",
     "text": [
      "  2%|▏         | 30/2000 [00:00<00:06, 296.36it/s]"
     ]
    },
    {
     "name": "stdout",
     "output_type": "stream",
     "text": [
      "----- File 0 read ------\n"
     ]
    },
    {
     "name": "stderr",
     "output_type": "stream",
     "text": [
      "100%|██████████| 2000/2000 [00:05<00:00, 342.28it/s]\n",
      "  0%|          | 0/3 [00:00<?, ?it/s]"
     ]
    },
    {
     "name": "stdout",
     "output_type": "stream",
     "text": [
      "----- Kernel 0 computed in 6.532015085220337 sec ------\n"
     ]
    },
    {
     "name": "stderr",
     "output_type": "stream",
     "text": [
      "100%|██████████| 3/3 [01:34<00:00, 31.59s/it]\n",
      "  2%|▏         | 35/2000 [00:00<00:05, 343.98it/s]"
     ]
    },
    {
     "name": "stdout",
     "output_type": "stream",
     "text": [
      "Best for file 0, align : 0\n",
      "(0.10000000000000001, [0.60666666666666669, 0.83604166666666657])\n"
     ]
    },
    {
     "name": "stderr",
     "output_type": "stream",
     "text": [
      "100%|██████████| 2000/2000 [00:07<00:00, 283.00it/s]\n",
      "  0%|          | 0/3 [00:00<?, ?it/s]"
     ]
    },
    {
     "name": "stdout",
     "output_type": "stream",
     "text": [
      "----- Kernel 0 computed in 7.952876091003418 sec ------\n"
     ]
    },
    {
     "name": "stderr",
     "output_type": "stream",
     "text": [
      "100%|██████████| 3/3 [01:41<00:00, 33.78s/it]\n",
      "  2%|▏         | 34/2000 [00:00<00:05, 328.65it/s]"
     ]
    },
    {
     "name": "stdout",
     "output_type": "stream",
     "text": [
      "Best for file 0, align : 1\n",
      "(0.031622776601683791, [0.60250000000000004, 0.89020833333333327])\n"
     ]
    },
    {
     "name": "stderr",
     "output_type": "stream",
     "text": [
      "100%|██████████| 2000/2000 [00:06<00:00, 296.52it/s]\n",
      "  0%|          | 0/3 [00:00<?, ?it/s]"
     ]
    },
    {
     "name": "stdout",
     "output_type": "stream",
     "text": [
      "----- Kernel 0 computed in 7.517228126525879 sec ------\n"
     ]
    },
    {
     "name": "stderr",
     "output_type": "stream",
     "text": [
      "100%|██████████| 3/3 [01:25<00:00, 28.35s/it]\n",
      "  1%|          | 21/2000 [00:00<00:09, 209.58it/s]"
     ]
    },
    {
     "name": "stdout",
     "output_type": "stream",
     "text": [
      "Best for file 0, align : 2\n",
      "(0.31622776601683794, [0.60750000000000004, 0.78645833333333326])\n",
      "----- File 1 read ------\n"
     ]
    },
    {
     "name": "stderr",
     "output_type": "stream",
     "text": [
      "100%|██████████| 2000/2000 [00:10<00:00, 192.69it/s]\n",
      "  0%|          | 0/3 [00:00<?, ?it/s]"
     ]
    },
    {
     "name": "stdout",
     "output_type": "stream",
     "text": [
      "----- Kernel 1 computed in 15.938703060150146 sec ------\n"
     ]
    },
    {
     "name": "stderr",
     "output_type": "stream",
     "text": [
      "100%|██████████| 3/3 [01:04<00:00, 21.34s/it]\n",
      "  1%|          | 22/2000 [00:00<00:09, 213.08it/s]"
     ]
    },
    {
     "name": "stdout",
     "output_type": "stream",
     "text": [
      "Best for file 1, align : 0\n",
      "(0.031622776601683791, [0.53916666666666668, 1.0])\n"
     ]
    },
    {
     "name": "stderr",
     "output_type": "stream",
     "text": [
      "100%|██████████| 2000/2000 [00:10<00:00, 183.95it/s]\n",
      "  0%|          | 0/3 [00:00<?, ?it/s]"
     ]
    },
    {
     "name": "stdout",
     "output_type": "stream",
     "text": [
      "----- Kernel 1 computed in 17.07411813735962 sec ------\n"
     ]
    },
    {
     "name": "stderr",
     "output_type": "stream",
     "text": [
      "\r",
      " 33%|███▎      | 1/3 [00:21<00:43, 21.95s/it]"
     ]
    },
    {
     "ename": "KeyboardInterrupt",
     "evalue": "",
     "output_type": "error",
     "traceback": [
      "\u001b[0;31m---------------------------------------------------------------------------\u001b[0m",
      "\u001b[0;31mKeyboardInterrupt\u001b[0m                         Traceback (most recent call last)",
      "\u001b[0;32m<ipython-input-42-e89418d77b32>\u001b[0m in \u001b[0;36m<module>\u001b[0;34m()\u001b[0m\n\u001b[1;32m     33\u001b[0m                 \u001b[0mY_train_c\u001b[0m\u001b[0;34m.\u001b[0m\u001b[0mshape\u001b[0m \u001b[0;34m=\u001b[0m \u001b[0;34m(\u001b[0m\u001b[0mY_train_c\u001b[0m\u001b[0;34m.\u001b[0m\u001b[0mshape\u001b[0m\u001b[0;34m[\u001b[0m\u001b[0;36m0\u001b[0m\u001b[0;34m]\u001b[0m\u001b[0;34m)\u001b[0m\u001b[0;34m\u001b[0m\u001b[0m\n\u001b[1;32m     34\u001b[0m                 \u001b[0mmodel\u001b[0m \u001b[0;34m=\u001b[0m \u001b[0mSVM\u001b[0m\u001b[0;34m(\u001b[0m\u001b[0mlmbd\u001b[0m\u001b[0;34m=\u001b[0m\u001b[0mlmdb\u001b[0m\u001b[0;34m)\u001b[0m\u001b[0;34m\u001b[0m\u001b[0m\n\u001b[0;32m---> 35\u001b[0;31m                 \u001b[0mmodel\u001b[0m\u001b[0;34m.\u001b[0m\u001b[0mtrain\u001b[0m\u001b[0;34m(\u001b[0m\u001b[0mK_train_c\u001b[0m\u001b[0;34m,\u001b[0m \u001b[0mY_train_c\u001b[0m\u001b[0;34m)\u001b[0m\u001b[0;34m\u001b[0m\u001b[0m\n\u001b[0m\u001b[1;32m     36\u001b[0m                 \u001b[0mY_test_pred\u001b[0m \u001b[0;34m=\u001b[0m \u001b[0mlist\u001b[0m\u001b[0;34m(\u001b[0m\u001b[0mmap\u001b[0m\u001b[0;34m(\u001b[0m\u001b[0mint\u001b[0m\u001b[0;34m,\u001b[0m\u001b[0mmodel\u001b[0m\u001b[0;34m.\u001b[0m\u001b[0mpredict\u001b[0m\u001b[0;34m(\u001b[0m\u001b[0mK_test_c\u001b[0m\u001b[0;34m)\u001b[0m\u001b[0;34m)\u001b[0m\u001b[0;34m)\u001b[0m\u001b[0;34m\u001b[0m\u001b[0m\n\u001b[1;32m     37\u001b[0m                 \u001b[0mY_train_pred\u001b[0m \u001b[0;34m=\u001b[0m \u001b[0mlist\u001b[0m\u001b[0;34m(\u001b[0m\u001b[0mmap\u001b[0m\u001b[0;34m(\u001b[0m\u001b[0mint\u001b[0m\u001b[0;34m,\u001b[0m\u001b[0mmodel\u001b[0m\u001b[0;34m.\u001b[0m\u001b[0mpredict\u001b[0m\u001b[0;34m(\u001b[0m\u001b[0mK_train_c\u001b[0m\u001b[0;34m)\u001b[0m\u001b[0;34m)\u001b[0m\u001b[0;34m)\u001b[0m\u001b[0;34m\u001b[0m\u001b[0m\n",
      "\u001b[0;32m~/git/kernel/learning_models.py\u001b[0m in \u001b[0;36mtrain\u001b[0;34m(self, K, y)\u001b[0m\n\u001b[1;32m     71\u001b[0m \u001b[0;34m\u001b[0m\u001b[0m\n\u001b[1;32m     72\u001b[0m             \u001b[0;31m#Solving the quadratic problem\u001b[0m\u001b[0;34m\u001b[0m\u001b[0;34m\u001b[0m\u001b[0m\n\u001b[0;32m---> 73\u001b[0;31m             \u001b[0mres\u001b[0m \u001b[0;34m=\u001b[0m \u001b[0msolvers\u001b[0m\u001b[0;34m.\u001b[0m\u001b[0mqp\u001b[0m\u001b[0;34m(\u001b[0m\u001b[0mmatrix\u001b[0m\u001b[0;34m(\u001b[0m\u001b[0mP\u001b[0m\u001b[0;34m)\u001b[0m\u001b[0;34m,\u001b[0m \u001b[0mmatrix\u001b[0m\u001b[0;34m(\u001b[0m\u001b[0mq\u001b[0m\u001b[0;34m)\u001b[0m\u001b[0;34m,\u001b[0m \u001b[0mmatrix\u001b[0m\u001b[0;34m(\u001b[0m\u001b[0mG\u001b[0m\u001b[0;34m)\u001b[0m\u001b[0;34m,\u001b[0m \u001b[0mmatrix\u001b[0m\u001b[0;34m(\u001b[0m\u001b[0mh\u001b[0m\u001b[0;34m)\u001b[0m\u001b[0;34m,\u001b[0m \u001b[0minitvals\u001b[0m\u001b[0;34m=\u001b[0m\u001b[0mself\u001b[0m\u001b[0;34m.\u001b[0m\u001b[0mx0\u001b[0m\u001b[0;34m)\u001b[0m\u001b[0;34m[\u001b[0m\u001b[0;34m'x'\u001b[0m\u001b[0;34m]\u001b[0m\u001b[0;34m\u001b[0m\u001b[0m\n\u001b[0m\u001b[1;32m     74\u001b[0m             \u001b[0mself\u001b[0m\u001b[0;34m.\u001b[0m\u001b[0malpha\u001b[0m \u001b[0;34m=\u001b[0m \u001b[0mnp\u001b[0m\u001b[0;34m.\u001b[0m\u001b[0mdot\u001b[0m\u001b[0;34m(\u001b[0m\u001b[0mdiag_y\u001b[0m\u001b[0;34m,\u001b[0m \u001b[0mres\u001b[0m\u001b[0;34m)\u001b[0m \u001b[0;34m/\u001b[0m \u001b[0;34m(\u001b[0m\u001b[0;36m2\u001b[0m\u001b[0;34m*\u001b[0m\u001b[0mself\u001b[0m\u001b[0;34m.\u001b[0m\u001b[0mlmbd\u001b[0m\u001b[0;34m)\u001b[0m\u001b[0;34m\u001b[0m\u001b[0m\n\u001b[1;32m     75\u001b[0m             \u001b[0;31m# self.alpha = np.array(solvers.qp(matrix(P), matrix(q), matrix(G), matrix(h), initvals=self.x0)['x'])\u001b[0m\u001b[0;34m\u001b[0m\u001b[0;34m\u001b[0m\u001b[0m\n",
      "\u001b[0;32m/usr/local/lib/python3.6/site-packages/cvxopt/coneprog.py\u001b[0m in \u001b[0;36mqp\u001b[0;34m(P, q, G, h, A, b, solver, kktsolver, initvals, **kwargs)\u001b[0m\n\u001b[1;32m   4468\u001b[0m             'residual as dual infeasibility certificate': dinfres} \n\u001b[1;32m   4469\u001b[0m \u001b[0;34m\u001b[0m\u001b[0m\n\u001b[0;32m-> 4470\u001b[0;31m     \u001b[0;32mreturn\u001b[0m \u001b[0mconeqp\u001b[0m\u001b[0;34m(\u001b[0m\u001b[0mP\u001b[0m\u001b[0;34m,\u001b[0m \u001b[0mq\u001b[0m\u001b[0;34m,\u001b[0m \u001b[0mG\u001b[0m\u001b[0;34m,\u001b[0m \u001b[0mh\u001b[0m\u001b[0;34m,\u001b[0m \u001b[0;32mNone\u001b[0m\u001b[0;34m,\u001b[0m \u001b[0mA\u001b[0m\u001b[0;34m,\u001b[0m  \u001b[0mb\u001b[0m\u001b[0;34m,\u001b[0m \u001b[0minitvals\u001b[0m\u001b[0;34m,\u001b[0m \u001b[0mkktsolver\u001b[0m \u001b[0;34m=\u001b[0m \u001b[0mkktsolver\u001b[0m\u001b[0;34m,\u001b[0m \u001b[0moptions\u001b[0m \u001b[0;34m=\u001b[0m \u001b[0moptions\u001b[0m\u001b[0;34m)\u001b[0m\u001b[0;34m\u001b[0m\u001b[0m\n\u001b[0m",
      "\u001b[0;32m/usr/local/lib/python3.6/site-packages/cvxopt/coneprog.py\u001b[0m in \u001b[0;36mconeqp\u001b[0;34m(P, q, G, h, dims, A, b, initvals, kktsolver, xnewcopy, xdot, xaxpy, xscal, ynewcopy, ydot, yaxpy, yscal, **kwargs)\u001b[0m\n\u001b[1;32m   2254\u001b[0m         \u001b[0;31m# On exit, they contain ux, uy, uz.\u001b[0m\u001b[0;34m\u001b[0m\u001b[0;34m\u001b[0m\u001b[0m\n\u001b[1;32m   2255\u001b[0m \u001b[0;34m\u001b[0m\u001b[0m\n\u001b[0;32m-> 2256\u001b[0;31m         \u001b[0;32mtry\u001b[0m\u001b[0;34m:\u001b[0m \u001b[0mf3\u001b[0m \u001b[0;34m=\u001b[0m \u001b[0mkktsolver\u001b[0m\u001b[0;34m(\u001b[0m\u001b[0mW\u001b[0m\u001b[0;34m)\u001b[0m\u001b[0;34m\u001b[0m\u001b[0m\n\u001b[0m\u001b[1;32m   2257\u001b[0m         \u001b[0;32mexcept\u001b[0m \u001b[0mArithmeticError\u001b[0m\u001b[0;34m:\u001b[0m\u001b[0;34m\u001b[0m\u001b[0m\n\u001b[1;32m   2258\u001b[0m             \u001b[0;32mif\u001b[0m \u001b[0miters\u001b[0m \u001b[0;34m==\u001b[0m \u001b[0;36m0\u001b[0m\u001b[0;34m:\u001b[0m\u001b[0;34m\u001b[0m\u001b[0m\n",
      "\u001b[0;32m/usr/local/lib/python3.6/site-packages/cvxopt/coneprog.py\u001b[0m in \u001b[0;36mkktsolver\u001b[0;34m(W)\u001b[0m\n\u001b[1;32m   1979\u001b[0m              \u001b[0mfactor\u001b[0m \u001b[0;34m=\u001b[0m \u001b[0mmisc\u001b[0m\u001b[0;34m.\u001b[0m\u001b[0mkkt_chol2\u001b[0m\u001b[0;34m(\u001b[0m\u001b[0mG\u001b[0m\u001b[0;34m,\u001b[0m \u001b[0mdims\u001b[0m\u001b[0;34m,\u001b[0m \u001b[0mA\u001b[0m\u001b[0;34m)\u001b[0m\u001b[0;34m\u001b[0m\u001b[0m\n\u001b[1;32m   1980\u001b[0m          \u001b[0;32mdef\u001b[0m \u001b[0mkktsolver\u001b[0m\u001b[0;34m(\u001b[0m\u001b[0mW\u001b[0m\u001b[0;34m)\u001b[0m\u001b[0;34m:\u001b[0m\u001b[0;34m\u001b[0m\u001b[0m\n\u001b[0;32m-> 1981\u001b[0;31m              \u001b[0;32mreturn\u001b[0m \u001b[0mfactor\u001b[0m\u001b[0;34m(\u001b[0m\u001b[0mW\u001b[0m\u001b[0;34m,\u001b[0m \u001b[0mP\u001b[0m\u001b[0;34m)\u001b[0m\u001b[0;34m\u001b[0m\u001b[0m\n\u001b[0m\u001b[1;32m   1982\u001b[0m \u001b[0;34m\u001b[0m\u001b[0m\n\u001b[1;32m   1983\u001b[0m     \u001b[0;32mif\u001b[0m \u001b[0mxnewcopy\u001b[0m \u001b[0;32mis\u001b[0m \u001b[0;32mNone\u001b[0m\u001b[0;34m:\u001b[0m \u001b[0mxnewcopy\u001b[0m \u001b[0;34m=\u001b[0m \u001b[0mmatrix\u001b[0m\u001b[0;34m\u001b[0m\u001b[0m\n",
      "\u001b[0;32m/usr/local/lib/python3.6/site-packages/cvxopt/misc.py\u001b[0m in \u001b[0;36mfactor\u001b[0;34m(W, H, Df)\u001b[0m\n\u001b[1;32m   1417\u001b[0m         \u001b[0;31m# Gs = Wl^{-1} * G.\u001b[0m\u001b[0;34m\u001b[0m\u001b[0;34m\u001b[0m\u001b[0m\n\u001b[1;32m   1418\u001b[0m         base.gemm(spmatrix(W['di'], list(range(ml)), list(range(ml))), \n\u001b[0;32m-> 1419\u001b[0;31m             G, F['Gs'], partial = True)\n\u001b[0m\u001b[1;32m   1420\u001b[0m \u001b[0;34m\u001b[0m\u001b[0m\n\u001b[1;32m   1421\u001b[0m         \u001b[0;32mif\u001b[0m \u001b[0mF\u001b[0m\u001b[0;34m[\u001b[0m\u001b[0;34m'firstcall'\u001b[0m\u001b[0;34m]\u001b[0m\u001b[0;34m:\u001b[0m\u001b[0;34m\u001b[0m\u001b[0m\n",
      "\u001b[0;31mKeyboardInterrupt\u001b[0m: "
     ]
    }
   ],
   "source": [
    "y_pred_final = []\n",
    "length = [3,8,8]\n",
    "nb_iter = 3\n",
    "lambdas = [np.logspace(-2, 1, 7, endpoint=True),\n",
    "           np.logspace(-2, 1, 7, endpoint=True),\n",
    "           np.logspace(-2, 1, 7, endpoint=True)]\n",
    "\n",
    "for file in [0,1,2]:\n",
    "    X_train = pd.read_csv(\"data/Xtr{}.csv\".format(file), sep=' ',header=None)[0].values.tolist()\n",
    "    Y_train = pd.read_csv(\"./data/Ytr{}.csv\".format(file), index_col=0)['Bound'].values\n",
    "    print(\"----- File {} read ------\".format(file))\n",
    "\n",
    "    \n",
    "    for align in [0,1,2]:\n",
    "        X_trans = [translate_dna(X[align:align+99]) for X in X_train]\n",
    "\n",
    "        res = {}\n",
    "\n",
    "        for lmdb in lambdas[file]:\n",
    "            res[lmdb] = [0,0]\n",
    "\n",
    "        begin = time()\n",
    "        K_train = embedding_mismatch_kernel(X_trans,length[file],1)\n",
    "        end = time()\n",
    "        print(\"----- Kernel {} computed in {} sec ------\".format(file, end - begin))\n",
    "\n",
    "\n",
    "        for i in tqdm(range(nb_iter)):\n",
    "            for lmdb in lambdas[file]:\n",
    "                X_train_c, X_test_c, Y_train_c, Y_test_c, K_train_c, K_test_c = K_train_test_split(X_trans,Y_train,K_train,test_size=0.2)\n",
    "                Y_train_c.shape = (Y_train_c.shape[0])\n",
    "                Y_test_c.shape = (Y_test_c.shape[0])\n",
    "                Y_train_c.shape = (Y_train_c.shape[0])\n",
    "                model = SVM(lmbd=lmdb)\n",
    "                model.train(K_train_c, Y_train_c)\n",
    "                Y_test_pred = list(map(int,model.predict(K_test_c)))\n",
    "                Y_train_pred = list(map(int,model.predict(K_train_c)))\n",
    "                res[lmdb][1] += accuracy_score(Y_train_c, Y_train_pred)/nb_iter\n",
    "                res[lmdb][0] += accuracy_score(Y_test_c, Y_test_pred)/nb_iter\n",
    "\n",
    "        print(\"Best for file {}, align : {}\".format(file, align))\n",
    "        sorted_x = sorted(res.items(), key=operator.itemgetter(1))\n",
    "\n",
    "        print(sorted_x[-1])"
   ]
  },
  {
   "cell_type": "markdown",
   "metadata": {},
   "source": [
    "## Submission"
   ]
  },
  {
   "cell_type": "code",
   "execution_count": 458,
   "metadata": {},
   "outputs": [
    {
     "name": "stdout",
     "output_type": "stream",
     "text": [
      "----- File 0 read ------\n",
      "----- Kernel 0 computed in 3.0994415283203125e-06 sec ------\n",
      "----- File 0 predicted ------\n",
      "----- File 1 read ------\n",
      "----- Kernel 1 computed in 2.1457672119140625e-06 sec ------\n",
      "----- File 1 predicted ------\n",
      "----- File 2 read ------\n",
      "----- Kernel 2 computed in 2.1457672119140625e-06 sec ------\n",
      "----- File 2 predicted ------\n",
      "----------------- Prediction written on SixthSubmission.csv ---------------\n"
     ]
    }
   ],
   "source": [
    "from sklearn.svm import SVC\n",
    "\n",
    "y_pred_final = []\n",
    "length = [11,11,8]\n",
    "l = [0.1668, 0.0220, 1.3226]\n",
    "\n",
    "for file in [0,1,2]:\n",
    "    X_train = pd.read_csv(\"data/Xtr{}.csv\".format(file), sep=' ',header=None)[0].values.tolist()\n",
    "    Y_train = pd.read_csv(\"./data/Ytr{}.csv\".format(file), index_col=0)['Bound'].values\n",
    "    X_test = pd.read_csv(\"data/Xte{}.csv\".format(file), sep=' ',header=None)[0].values.tolist()\n",
    "\n",
    "    big_X = np.concatenate((X_train, X_test),axis=0)\n",
    "    \n",
    "    print(\"----- File {} read ------\".format(file))\n",
    "\n",
    "    res = []\n",
    "    if kernels_computed:\n",
    "        \n",
    "    begin = time()\n",
    "    big_K = embedding_mismatch_kernel(big_X,length[file],2)\n",
    "    end = time()\n",
    "    print(\"----- Kernel {} computed in {} sec ------\".format(file, end - begin))\n",
    "\n",
    "    K_train = big_K[:len(X_train),:len(X_train)]\n",
    "    K_test = big_K[len(X_train):,:len(X_train)]\n",
    "    \n",
    "    clf = SVM(lmbd=l[file], loss='squared_hinge')\n",
    "    clf.train(K_train, Y_train)\n",
    "    y_pred = clf.predict(K_test)\n",
    "    \n",
    "    y_pred_final.append(y_pred)\n",
    "\n",
    "    print(\"----- File {} predicted ------\".format(file))\n",
    "\n",
    "\n",
    "submitResults(\"SixthSubmission\", y_pred_final)\n"
   ]
  },
  {
   "cell_type": "markdown",
   "metadata": {},
   "source": [
    "Travail sur le dataset 0:\n",
    "Mismatch 6-0 : lambda = 0.02712 score = 0.7575\n",
    "Mismatch 9-1 : lambda = 0.007742 score = 0.7692\n",
    "Mismatch 11-2 : lambda = 0.1668 score = 0.7713\n",
    "\n",
    "\n",
    "Travail sur le dataset 1:\n",
    "Mismatch 6-0 : lambda = 0.05994 score = 0.8825\n",
    "Mismatch 9-1 : lambda = 0.01584 score = 0.9050\n",
    "Mismatch 11-2 : lambda = 0.0220 score = 0.9075\n",
    "\n",
    "Travail sur le dataset 2:\n",
    "Mismatch 5-0 : lambda = 0.00774 score = 0.64225\n",
    "Mismatch 7-1 : lambda = 0.46415 score = 0.6652\n",
    "Mismatch 8-2 : lambda = 1.3226 score = 0.67175"
   ]
  },
  {
   "cell_type": "code",
   "execution_count": 50,
   "metadata": {},
   "outputs": [],
   "source": [
    "a = np.array([1,2])"
   ]
  },
  {
   "cell_type": "code",
   "execution_count": 51,
   "metadata": {},
   "outputs": [
    {
     "ename": "IndexError",
     "evalue": "index 2 is out of bounds for axis 0 with size 2",
     "output_type": "error",
     "traceback": [
      "\u001b[0;31m---------------------------------------------------------------------------\u001b[0m",
      "\u001b[0;31mIndexError\u001b[0m                                Traceback (most recent call last)",
      "\u001b[0;32m<ipython-input-51-fc907be37984>\u001b[0m in \u001b[0;36m<module>\u001b[0;34m()\u001b[0m\n\u001b[0;32m----> 1\u001b[0;31m \u001b[0ma\u001b[0m\u001b[0;34m[\u001b[0m\u001b[0;36m2\u001b[0m\u001b[0;34m]\u001b[0m\u001b[0;34m\u001b[0m\u001b[0m\n\u001b[0m",
      "\u001b[0;31mIndexError\u001b[0m: index 2 is out of bounds for axis 0 with size 2"
     ]
    }
   ],
   "source": [
    "a[2]"
   ]
  },
  {
   "cell_type": "code",
   "execution_count": null,
   "metadata": {},
   "outputs": [],
   "source": []
  }
 ],
 "metadata": {
  "kernelspec": {
   "display_name": "Python 3",
   "language": "python",
   "name": "python3"
  },
  "language_info": {
   "codemirror_mode": {
    "name": "ipython",
    "version": 3
   },
   "file_extension": ".py",
   "mimetype": "text/x-python",
   "name": "python",
   "nbconvert_exporter": "python",
   "pygments_lexer": "ipython3",
   "version": "3.6.3"
  }
 },
 "nbformat": 4,
 "nbformat_minor": 2
}
