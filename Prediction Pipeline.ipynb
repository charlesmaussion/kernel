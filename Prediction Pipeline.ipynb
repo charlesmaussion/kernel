{
 "cells": [
  {
   "cell_type": "code",
   "execution_count": 1,
   "metadata": {
    "collapsed": true
   },
   "outputs": [],
   "source": [
    "from kernels import * \n",
    "from learning_models import *\n",
    "from tools import *\n",
    "import pandas as pd\n",
    "import numpy as np\n",
    "from time import time \n",
    "from sklearn.svm import SVC\n",
    "from tqdm import tqdm\n",
    "from autoreload import superreload"
   ]
  },
  {
   "cell_type": "code",
   "execution_count": 2,
   "metadata": {
    "collapsed": true
   },
   "outputs": [],
   "source": [
    "import sys\n",
    "import warnings\n",
    "if not sys.warnoptions:\n",
    "    warnings.simplefilter(\"ignore\")"
   ]
  },
  {
   "cell_type": "code",
   "execution_count": 3,
   "metadata": {
    "collapsed": true
   },
   "outputs": [],
   "source": [
    "%load_ext autoreload\n",
    "%autoreload 2"
   ]
  },
  {
   "cell_type": "code",
   "execution_count": 4,
   "metadata": {
    "collapsed": true
   },
   "outputs": [],
   "source": [
    "def load_and_transform(data_path):\n",
    "    '''\n",
    "    Loads the data located at data_path and transforms it from lines of strings containing A,T,C,G to an array of \n",
    "    integer values in {0,1,2,3}.\n",
    "    \n",
    "    Parameters\n",
    "    ----------\n",
    "    data_path: string\n",
    "        the path to the data to be loaded\n",
    "    '''\n",
    "    data = pd.read_csv(data_path, header=None)[0].values.tolist()\n",
    "    transformed = []\n",
    "    for i in range(len(data)):\n",
    "        s = data[i].replace(\"A\", \"0\")\n",
    "        s = s.replace(\"T\", \"1\")\n",
    "        s = s.replace(\"C\", \"2\")\n",
    "        s = s.replace(\"G\", \"3\")\n",
    "        transformed.append(list(map(int, s)))\n",
    "    return np.array(transformed)"
   ]
  },
  {
   "cell_type": "code",
   "execution_count": 5,
   "metadata": {
    "collapsed": true
   },
   "outputs": [],
   "source": [
    "X_train = load_and_transform(\"Data/Train/Xtr0.csv\")"
   ]
  },
  {
   "cell_type": "code",
   "execution_count": 8,
   "metadata": {
    "collapsed": true
   },
   "outputs": [],
   "source": [
    "X_sub = load_and_transform(\"Data/Test/Xte0.csv\")"
   ]
  },
  {
   "cell_type": "code",
   "execution_count": 19,
   "metadata": {
    "collapsed": false
   },
   "outputs": [
    {
     "name": "stdout",
     "output_type": "stream",
     "text": [
      "-------- Computing mismatch kernel --------\n",
      "-------- Done in 20.122 minutes --------\n"
     ]
    }
   ],
   "source": [
    "trie = MismatchTrie(verbose=0)\n",
    "print(\"-------- Computing mismatch kernel --------\")\n",
    "start = time()\n",
    "kern = trie.traverse(X, 4, 3, 1)[0]\n",
    "#kern = normalize_kernel(kern)\n",
    "end = time()\n",
    "print(\"-------- Done in {:.3f} minutes --------\".format((end-start)/60))"
   ]
  },
  {
   "cell_type": "code",
   "execution_count": 17,
   "metadata": {
    "collapsed": true
   },
   "outputs": [],
   "source": [
    "def submission_kernel_pipeline(train_data_path, submission_data_path, compute_kernel, normalize=False):\n",
    "    '''\n",
    "    Computes and returns the kernels K_train and K_sub for training on the whole training set and predicting on the \n",
    "    submission data, after having loaded and transformed the training and submission data located respectively at \n",
    "    train_data_path and submission_data_path. Normalizes the kernel if required.\n",
    "    \n",
    "    Parameters\n",
    "    ----------\n",
    "    train_data_path: string\n",
    "        path to the training data\n",
    "    submission_data_path: string\n",
    "        path to the submission data\n",
    "    compute_kernel: function\n",
    "        a function of the file kernels.py which computes a kernel when given data\n",
    "    normalize: Boolean, deflaut False\n",
    "        whether or not to normalize the (whole) kernel before splitting and returning the two train and submission \n",
    "        kernels\n",
    "    '''\n",
    "    X_train = load_and_transform(train_data_path)\n",
    "    train_size = len(X_train)\n",
    "    X_sub = load_and_transform(submission_data_path)\n",
    "    X = np.concatenate((X_train, X_sub))\n",
    "    print('------ Data loaded, transformed and concatenated ------')\n",
    "    print('------ Computing Kernel ------')\n",
    "    K = compute_kernel(X)\n",
    "    if normalize:\n",
    "        K = normalize_kernel(K)\n",
    "    return K[:train_size, :train_size], K[train_size:,:train_size]"
   ]
  },
  {
   "cell_type": "code",
   "execution_count": 18,
   "metadata": {
    "collapsed": false
   },
   "outputs": [
    {
     "name": "stdout",
     "output_type": "stream",
     "text": [
      "------ Data loaded, transformed and concatenated ------\n",
      "------ Computing Kernel ------\n"
     ]
    }
   ],
   "source": [
    "K_train, K_test = submission_kernel_pipeline(\"Data/Train/Xtr0.csv\", \"Data/Test/Xte0.csv\", lambda x: polynomial_kernel_matrix(x, deg=3))"
   ]
  },
  {
   "cell_type": "code",
   "execution_count": 50,
   "metadata": {
    "collapsed": true
   },
   "outputs": [],
   "source": [
    "dataY = pd.read_csv(\"Data/Train/Ytr0.csv\", index_col=0)\n",
    "y_train = dataY['Bound'].values"
   ]
  },
  {
   "cell_type": "code",
   "execution_count": 53,
   "metadata": {
    "collapsed": false
   },
   "outputs": [
    {
     "name": "stdout",
     "output_type": "stream",
     "text": [
      "Accuracy score on training set : 0.600\n"
     ]
    }
   ],
   "source": [
    "lmbd = 0.001\n",
    "model = SVM(lmbd=lmbd)\n",
    "model.train(K_train+1, y_train)\n",
    "y_train_pred = model.predict(K_train+1)\n",
    "train_error = accuracy_score(y_train, y_train_pred)\n",
    "print('Accuracy score on training set : {:.3f}'.format(train_error))"
   ]
  },
  {
   "cell_type": "code",
   "execution_count": null,
   "metadata": {
    "collapsed": true
   },
   "outputs": [],
   "source": []
  },
  {
   "cell_type": "code",
   "execution_count": null,
   "metadata": {
    "collapsed": true
   },
   "outputs": [],
   "source": []
  },
  {
   "cell_type": "code",
   "execution_count": null,
   "metadata": {
    "collapsed": true
   },
   "outputs": [],
   "source": []
  },
  {
   "cell_type": "code",
   "execution_count": null,
   "metadata": {
    "collapsed": true
   },
   "outputs": [],
   "source": []
  }
 ],
 "metadata": {
  "kernelspec": {
   "display_name": "Python [Root]",
   "language": "python",
   "name": "Python [Root]"
  },
  "language_info": {
   "codemirror_mode": {
    "name": "ipython",
    "version": 3
   },
   "file_extension": ".py",
   "mimetype": "text/x-python",
   "name": "python",
   "nbconvert_exporter": "python",
   "pygments_lexer": "ipython3",
   "version": "3.5.2"
  }
 },
 "nbformat": 4,
 "nbformat_minor": 0
}
