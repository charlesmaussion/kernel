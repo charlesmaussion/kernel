{
 "cells": [
  {
   "cell_type": "code",
   "execution_count": 4,
   "metadata": {
    "collapsed": false
   },
   "outputs": [],
   "source": [
    "import numpy as np\n",
    "import pandas as pd\n",
    "from tqdm import tqdm"
   ]
  },
  {
   "cell_type": "markdown",
   "metadata": {},
   "source": [
    "### Read raw DNA sequences"
   ]
  },
  {
   "cell_type": "code",
   "execution_count": 5,
   "metadata": {
    "collapsed": false
   },
   "outputs": [],
   "source": [
    "dataX = pd.read_csv(\"data/Xtr0.csv\", header=None)\n",
    "dataY = pd.read_csv(\"data/Ytr0.csv\", index_col=0)"
   ]
  },
  {
   "cell_type": "code",
   "execution_count": 6,
   "metadata": {
    "collapsed": false
   },
   "outputs": [],
   "source": [
    "#dataX = dataX[0].apply(lambda x: pd.Series(list(x)))"
   ]
  },
  {
   "cell_type": "code",
   "execution_count": 7,
   "metadata": {
    "collapsed": false
   },
   "outputs": [
    {
     "data": {
      "text/html": [
       "<div>\n",
       "<style scoped>\n",
       "    .dataframe tbody tr th:only-of-type {\n",
       "        vertical-align: middle;\n",
       "    }\n",
       "\n",
       "    .dataframe tbody tr th {\n",
       "        vertical-align: top;\n",
       "    }\n",
       "\n",
       "    .dataframe thead th {\n",
       "        text-align: right;\n",
       "    }\n",
       "</style>\n",
       "<table border=\"1\" class=\"dataframe\">\n",
       "  <thead>\n",
       "    <tr style=\"text-align: right;\">\n",
       "      <th></th>\n",
       "      <th>Bound</th>\n",
       "    </tr>\n",
       "  </thead>\n",
       "  <tbody>\n",
       "    <tr>\n",
       "      <th>0</th>\n",
       "      <td>1</td>\n",
       "    </tr>\n",
       "    <tr>\n",
       "      <th>1</th>\n",
       "      <td>0</td>\n",
       "    </tr>\n",
       "    <tr>\n",
       "      <th>2</th>\n",
       "      <td>1</td>\n",
       "    </tr>\n",
       "    <tr>\n",
       "      <th>3</th>\n",
       "      <td>1</td>\n",
       "    </tr>\n",
       "    <tr>\n",
       "      <th>4</th>\n",
       "      <td>0</td>\n",
       "    </tr>\n",
       "    <tr>\n",
       "      <th>5</th>\n",
       "      <td>0</td>\n",
       "    </tr>\n",
       "    <tr>\n",
       "      <th>6</th>\n",
       "      <td>1</td>\n",
       "    </tr>\n",
       "    <tr>\n",
       "      <th>7</th>\n",
       "      <td>0</td>\n",
       "    </tr>\n",
       "    <tr>\n",
       "      <th>8</th>\n",
       "      <td>0</td>\n",
       "    </tr>\n",
       "    <tr>\n",
       "      <th>9</th>\n",
       "      <td>0</td>\n",
       "    </tr>\n",
       "    <tr>\n",
       "      <th>10</th>\n",
       "      <td>0</td>\n",
       "    </tr>\n",
       "    <tr>\n",
       "      <th>11</th>\n",
       "      <td>1</td>\n",
       "    </tr>\n",
       "    <tr>\n",
       "      <th>12</th>\n",
       "      <td>0</td>\n",
       "    </tr>\n",
       "    <tr>\n",
       "      <th>13</th>\n",
       "      <td>0</td>\n",
       "    </tr>\n",
       "    <tr>\n",
       "      <th>14</th>\n",
       "      <td>1</td>\n",
       "    </tr>\n",
       "    <tr>\n",
       "      <th>15</th>\n",
       "      <td>0</td>\n",
       "    </tr>\n",
       "    <tr>\n",
       "      <th>16</th>\n",
       "      <td>1</td>\n",
       "    </tr>\n",
       "    <tr>\n",
       "      <th>17</th>\n",
       "      <td>1</td>\n",
       "    </tr>\n",
       "    <tr>\n",
       "      <th>18</th>\n",
       "      <td>1</td>\n",
       "    </tr>\n",
       "    <tr>\n",
       "      <th>19</th>\n",
       "      <td>1</td>\n",
       "    </tr>\n",
       "    <tr>\n",
       "      <th>20</th>\n",
       "      <td>0</td>\n",
       "    </tr>\n",
       "    <tr>\n",
       "      <th>21</th>\n",
       "      <td>0</td>\n",
       "    </tr>\n",
       "    <tr>\n",
       "      <th>22</th>\n",
       "      <td>0</td>\n",
       "    </tr>\n",
       "    <tr>\n",
       "      <th>23</th>\n",
       "      <td>1</td>\n",
       "    </tr>\n",
       "    <tr>\n",
       "      <th>24</th>\n",
       "      <td>1</td>\n",
       "    </tr>\n",
       "    <tr>\n",
       "      <th>25</th>\n",
       "      <td>0</td>\n",
       "    </tr>\n",
       "    <tr>\n",
       "      <th>26</th>\n",
       "      <td>0</td>\n",
       "    </tr>\n",
       "    <tr>\n",
       "      <th>27</th>\n",
       "      <td>0</td>\n",
       "    </tr>\n",
       "    <tr>\n",
       "      <th>28</th>\n",
       "      <td>1</td>\n",
       "    </tr>\n",
       "    <tr>\n",
       "      <th>29</th>\n",
       "      <td>1</td>\n",
       "    </tr>\n",
       "    <tr>\n",
       "      <th>...</th>\n",
       "      <td>...</td>\n",
       "    </tr>\n",
       "    <tr>\n",
       "      <th>1970</th>\n",
       "      <td>0</td>\n",
       "    </tr>\n",
       "    <tr>\n",
       "      <th>1971</th>\n",
       "      <td>0</td>\n",
       "    </tr>\n",
       "    <tr>\n",
       "      <th>1972</th>\n",
       "      <td>0</td>\n",
       "    </tr>\n",
       "    <tr>\n",
       "      <th>1973</th>\n",
       "      <td>0</td>\n",
       "    </tr>\n",
       "    <tr>\n",
       "      <th>1974</th>\n",
       "      <td>0</td>\n",
       "    </tr>\n",
       "    <tr>\n",
       "      <th>1975</th>\n",
       "      <td>0</td>\n",
       "    </tr>\n",
       "    <tr>\n",
       "      <th>1976</th>\n",
       "      <td>1</td>\n",
       "    </tr>\n",
       "    <tr>\n",
       "      <th>1977</th>\n",
       "      <td>1</td>\n",
       "    </tr>\n",
       "    <tr>\n",
       "      <th>1978</th>\n",
       "      <td>0</td>\n",
       "    </tr>\n",
       "    <tr>\n",
       "      <th>1979</th>\n",
       "      <td>0</td>\n",
       "    </tr>\n",
       "    <tr>\n",
       "      <th>1980</th>\n",
       "      <td>1</td>\n",
       "    </tr>\n",
       "    <tr>\n",
       "      <th>1981</th>\n",
       "      <td>0</td>\n",
       "    </tr>\n",
       "    <tr>\n",
       "      <th>1982</th>\n",
       "      <td>1</td>\n",
       "    </tr>\n",
       "    <tr>\n",
       "      <th>1983</th>\n",
       "      <td>1</td>\n",
       "    </tr>\n",
       "    <tr>\n",
       "      <th>1984</th>\n",
       "      <td>1</td>\n",
       "    </tr>\n",
       "    <tr>\n",
       "      <th>1985</th>\n",
       "      <td>1</td>\n",
       "    </tr>\n",
       "    <tr>\n",
       "      <th>1986</th>\n",
       "      <td>0</td>\n",
       "    </tr>\n",
       "    <tr>\n",
       "      <th>1987</th>\n",
       "      <td>1</td>\n",
       "    </tr>\n",
       "    <tr>\n",
       "      <th>1988</th>\n",
       "      <td>0</td>\n",
       "    </tr>\n",
       "    <tr>\n",
       "      <th>1989</th>\n",
       "      <td>0</td>\n",
       "    </tr>\n",
       "    <tr>\n",
       "      <th>1990</th>\n",
       "      <td>0</td>\n",
       "    </tr>\n",
       "    <tr>\n",
       "      <th>1991</th>\n",
       "      <td>1</td>\n",
       "    </tr>\n",
       "    <tr>\n",
       "      <th>1992</th>\n",
       "      <td>1</td>\n",
       "    </tr>\n",
       "    <tr>\n",
       "      <th>1993</th>\n",
       "      <td>1</td>\n",
       "    </tr>\n",
       "    <tr>\n",
       "      <th>1994</th>\n",
       "      <td>0</td>\n",
       "    </tr>\n",
       "    <tr>\n",
       "      <th>1995</th>\n",
       "      <td>0</td>\n",
       "    </tr>\n",
       "    <tr>\n",
       "      <th>1996</th>\n",
       "      <td>0</td>\n",
       "    </tr>\n",
       "    <tr>\n",
       "      <th>1997</th>\n",
       "      <td>1</td>\n",
       "    </tr>\n",
       "    <tr>\n",
       "      <th>1998</th>\n",
       "      <td>0</td>\n",
       "    </tr>\n",
       "    <tr>\n",
       "      <th>1999</th>\n",
       "      <td>0</td>\n",
       "    </tr>\n",
       "  </tbody>\n",
       "</table>\n",
       "<p>2000 rows × 1 columns</p>\n",
       "</div>"
      ],
      "text/plain": [
       "      Bound\n",
       "0         1\n",
       "1         0\n",
       "2         1\n",
       "3         1\n",
       "4         0\n",
       "5         0\n",
       "6         1\n",
       "7         0\n",
       "8         0\n",
       "9         0\n",
       "10        0\n",
       "11        1\n",
       "12        0\n",
       "13        0\n",
       "14        1\n",
       "15        0\n",
       "16        1\n",
       "17        1\n",
       "18        1\n",
       "19        1\n",
       "20        0\n",
       "21        0\n",
       "22        0\n",
       "23        1\n",
       "24        1\n",
       "25        0\n",
       "26        0\n",
       "27        0\n",
       "28        1\n",
       "29        1\n",
       "...     ...\n",
       "1970      0\n",
       "1971      0\n",
       "1972      0\n",
       "1973      0\n",
       "1974      0\n",
       "1975      0\n",
       "1976      1\n",
       "1977      1\n",
       "1978      0\n",
       "1979      0\n",
       "1980      1\n",
       "1981      0\n",
       "1982      1\n",
       "1983      1\n",
       "1984      1\n",
       "1985      1\n",
       "1986      0\n",
       "1987      1\n",
       "1988      0\n",
       "1989      0\n",
       "1990      0\n",
       "1991      1\n",
       "1992      1\n",
       "1993      1\n",
       "1994      0\n",
       "1995      0\n",
       "1996      0\n",
       "1997      1\n",
       "1998      0\n",
       "1999      0\n",
       "\n",
       "[2000 rows x 1 columns]"
      ]
     },
     "execution_count": 7,
     "metadata": {},
     "output_type": "execute_result"
    }
   ],
   "source": [
    "dataY"
   ]
  },
  {
   "cell_type": "code",
   "execution_count": 8,
   "metadata": {
    "collapsed": true
   },
   "outputs": [],
   "source": [
    "y = dataY.values"
   ]
  },
  {
   "cell_type": "code",
   "execution_count": 9,
   "metadata": {
    "collapsed": true
   },
   "outputs": [],
   "source": [
    "X = dataX.values"
   ]
  },
  {
   "cell_type": "markdown",
   "metadata": {},
   "source": [
    "### Read numeric embeddings"
   ]
  },
  {
   "cell_type": "code",
   "execution_count": 16,
   "metadata": {
    "collapsed": false
   },
   "outputs": [],
   "source": [
    "X = pd.read_csv(\"data/Xtr0_mat50.csv\", sep=' ',header=None).values"
   ]
  },
  {
   "cell_type": "code",
   "execution_count": 17,
   "metadata": {
    "collapsed": false
   },
   "outputs": [],
   "source": [
    "X = dataX.values"
   ]
  },
  {
   "cell_type": "markdown",
   "metadata": {},
   "source": [
    "### Split train test"
   ]
  },
  {
   "cell_type": "code",
   "execution_count": 18,
   "metadata": {
    "collapsed": false
   },
   "outputs": [],
   "source": [
    "from sklearn.model_selection import train_test_split"
   ]
  },
  {
   "cell_type": "code",
   "execution_count": 19,
   "metadata": {
    "collapsed": false
   },
   "outputs": [],
   "source": [
    "X_train, X_test, Y_train, Y_test = train_test_split(X,y,test_size=0.2)"
   ]
  },
  {
   "cell_type": "markdown",
   "metadata": {},
   "source": [
    "## Kernels"
   ]
  },
  {
   "cell_type": "markdown",
   "metadata": {},
   "source": [
    "#### for numeric data"
   ]
  },
  {
   "cell_type": "code",
   "execution_count": 20,
   "metadata": {
    "collapsed": true
   },
   "outputs": [],
   "source": [
    "def gaussian_kernel_matrix(X, sigma=1):\n",
    "    return np.exp(- np.sum((X - X[:,None])**2, axis=-1) / (2*sigma**2))"
   ]
  },
  {
   "cell_type": "code",
   "execution_count": 21,
   "metadata": {
    "collapsed": true
   },
   "outputs": [],
   "source": [
    "def polynomial_kernel_matrix(X, deg=1):\n",
    "    return np.sum(X*X[:,None], axis=-1)**deg"
   ]
  },
  {
   "cell_type": "markdown",
   "metadata": {},
   "source": [
    "#### for raw DNA sequences"
   ]
  },
  {
   "cell_type": "code",
   "execution_count": 1,
   "metadata": {
    "collapsed": false
   },
   "outputs": [],
   "source": [
    "def compare_two_seq(s1,s2,a,b):\n",
    "    res = 0\n",
    "    n = len(s1)\n",
    "    assert(n==len(s2))\n",
    "    for k in range(a,b+1):\n",
    "        resk = 0\n",
    "        for i in range(n-k+1):\n",
    "            if (s1[i:i+k]==s2[i:i+k]):\n",
    "                resk +=1      \n",
    "        beta_k = 2*(n-k+1)/(n*(n+1))\n",
    "        res += resk*beta_k\n",
    "    return res\n",
    "\n",
    "def weighted_degree_kernel(X, a, b, name):\n",
    "    \"\"\"\n",
    "    if data/name.npy exists, loads it and returns it, else, compute the WDK of X, comparing sub-strings from\n",
    "    length a, a+1, a+2 to b, and save it as data/name.npy.\n",
    "    \"\"\"\n",
    "    \n",
    "    try:\n",
    "        res = np.load('data/{}.npy'.format(name))\n",
    "        return res\n",
    "    except:\n",
    "        n = len(X)\n",
    "        K = np.zeros((n,n))\n",
    "        for i in tqdm(range(n)):\n",
    "            for j in range(i,n):\n",
    "                K[i,j] = compare_two_seq(X[i,0], X[j,0],a,b)\n",
    "                K[j,i] = K[i,j]\n",
    "        np.save('data/{}'.format(name), K)\n",
    "        return K"
   ]
  },
  {
   "cell_type": "code",
   "execution_count": 11,
   "metadata": {
    "collapsed": false,
    "scrolled": true
   },
   "outputs": [
    {
     "name": "stderr",
     "output_type": "stream",
     "text": [
      "  3%|▎         | 68/2000 [00:12<06:03,  5.32it/s]"
     ]
    },
    {
     "ename": "KeyboardInterrupt",
     "evalue": "",
     "output_type": "error",
     "traceback": [
      "\u001b[0;31m---------------------------------------------------------------------------\u001b[0m",
      "\u001b[0;31mFileNotFoundError\u001b[0m                         Traceback (most recent call last)",
      "\u001b[0;32m<ipython-input-1-8487e084acb2>\u001b[0m in \u001b[0;36mweighted_degree_kernel\u001b[0;34m(X, a, b, name)\u001b[0m\n\u001b[1;32m     15\u001b[0m     \u001b[0;32mtry\u001b[0m\u001b[0;34m:\u001b[0m\u001b[0;34m\u001b[0m\u001b[0m\n\u001b[0;32m---> 16\u001b[0;31m         \u001b[0mres\u001b[0m \u001b[0;34m=\u001b[0m \u001b[0mnp\u001b[0m\u001b[0;34m.\u001b[0m\u001b[0mload\u001b[0m\u001b[0;34m(\u001b[0m\u001b[0;34m'data/{}.npy'\u001b[0m\u001b[0;34m.\u001b[0m\u001b[0mformat\u001b[0m\u001b[0;34m(\u001b[0m\u001b[0mname\u001b[0m\u001b[0;34m)\u001b[0m\u001b[0;34m)\u001b[0m\u001b[0;34m\u001b[0m\u001b[0m\n\u001b[0m\u001b[1;32m     17\u001b[0m         \u001b[0;32mreturn\u001b[0m \u001b[0mres\u001b[0m\u001b[0;34m\u001b[0m\u001b[0m\n",
      "\u001b[0;32m//anaconda/lib/python3.5/site-packages/numpy/lib/npyio.py\u001b[0m in \u001b[0;36mload\u001b[0;34m(file, mmap_mode, allow_pickle, fix_imports, encoding)\u001b[0m\n\u001b[1;32m    361\u001b[0m     \u001b[0;32mif\u001b[0m \u001b[0misinstance\u001b[0m\u001b[0;34m(\u001b[0m\u001b[0mfile\u001b[0m\u001b[0;34m,\u001b[0m \u001b[0mbasestring\u001b[0m\u001b[0;34m)\u001b[0m\u001b[0;34m:\u001b[0m\u001b[0;34m\u001b[0m\u001b[0m\n\u001b[0;32m--> 362\u001b[0;31m         \u001b[0mfid\u001b[0m \u001b[0;34m=\u001b[0m \u001b[0mopen\u001b[0m\u001b[0;34m(\u001b[0m\u001b[0mfile\u001b[0m\u001b[0;34m,\u001b[0m \u001b[0;34m\"rb\"\u001b[0m\u001b[0;34m)\u001b[0m\u001b[0;34m\u001b[0m\u001b[0m\n\u001b[0m\u001b[1;32m    363\u001b[0m         \u001b[0mown_fid\u001b[0m \u001b[0;34m=\u001b[0m \u001b[0;32mTrue\u001b[0m\u001b[0;34m\u001b[0m\u001b[0m\n",
      "\u001b[0;31mFileNotFoundError\u001b[0m: [Errno 2] No such file or directory: 'data/a.npy'",
      "\nDuring handling of the above exception, another exception occurred:\n",
      "\u001b[0;31mKeyboardInterrupt\u001b[0m                         Traceback (most recent call last)",
      "\u001b[0;32m<ipython-input-11-f8e40d3f51b4>\u001b[0m in \u001b[0;36m<module>\u001b[0;34m()\u001b[0m\n\u001b[0;32m----> 1\u001b[0;31m \u001b[0mK\u001b[0m \u001b[0;34m=\u001b[0m \u001b[0mweighted_degree_kernel\u001b[0m\u001b[0;34m(\u001b[0m\u001b[0mX\u001b[0m\u001b[0;34m,\u001b[0m\u001b[0;36m3\u001b[0m\u001b[0;34m,\u001b[0m\u001b[0;36m4\u001b[0m\u001b[0;34m,\u001b[0m\u001b[0;34m\"a\"\u001b[0m\u001b[0;34m)\u001b[0m\u001b[0;34m\u001b[0m\u001b[0m\n\u001b[0m",
      "\u001b[0;32m<ipython-input-1-8487e084acb2>\u001b[0m in \u001b[0;36mweighted_degree_kernel\u001b[0;34m(X, a, b, name)\u001b[0m\n\u001b[1;32m     21\u001b[0m         \u001b[0;32mfor\u001b[0m \u001b[0mi\u001b[0m \u001b[0;32min\u001b[0m \u001b[0mtqdm\u001b[0m\u001b[0;34m(\u001b[0m\u001b[0mrange\u001b[0m\u001b[0;34m(\u001b[0m\u001b[0mn\u001b[0m\u001b[0;34m)\u001b[0m\u001b[0;34m)\u001b[0m\u001b[0;34m:\u001b[0m\u001b[0;34m\u001b[0m\u001b[0m\n\u001b[1;32m     22\u001b[0m             \u001b[0;32mfor\u001b[0m \u001b[0mj\u001b[0m \u001b[0;32min\u001b[0m \u001b[0mrange\u001b[0m\u001b[0;34m(\u001b[0m\u001b[0mi\u001b[0m\u001b[0;34m,\u001b[0m\u001b[0mn\u001b[0m\u001b[0;34m)\u001b[0m\u001b[0;34m:\u001b[0m\u001b[0;34m\u001b[0m\u001b[0m\n\u001b[0;32m---> 23\u001b[0;31m                 \u001b[0mK\u001b[0m\u001b[0;34m[\u001b[0m\u001b[0mi\u001b[0m\u001b[0;34m,\u001b[0m\u001b[0mj\u001b[0m\u001b[0;34m]\u001b[0m \u001b[0;34m=\u001b[0m \u001b[0mcompare_two_seq\u001b[0m\u001b[0;34m(\u001b[0m\u001b[0mX\u001b[0m\u001b[0;34m[\u001b[0m\u001b[0mi\u001b[0m\u001b[0;34m,\u001b[0m\u001b[0;36m0\u001b[0m\u001b[0;34m]\u001b[0m\u001b[0;34m,\u001b[0m \u001b[0mX\u001b[0m\u001b[0;34m[\u001b[0m\u001b[0mj\u001b[0m\u001b[0;34m,\u001b[0m\u001b[0;36m0\u001b[0m\u001b[0;34m]\u001b[0m\u001b[0;34m,\u001b[0m\u001b[0ma\u001b[0m\u001b[0;34m,\u001b[0m\u001b[0mb\u001b[0m\u001b[0;34m)\u001b[0m\u001b[0;34m\u001b[0m\u001b[0m\n\u001b[0m\u001b[1;32m     24\u001b[0m                 \u001b[0mK\u001b[0m\u001b[0;34m[\u001b[0m\u001b[0mj\u001b[0m\u001b[0;34m,\u001b[0m\u001b[0mi\u001b[0m\u001b[0;34m]\u001b[0m \u001b[0;34m=\u001b[0m \u001b[0mK\u001b[0m\u001b[0;34m[\u001b[0m\u001b[0mi\u001b[0m\u001b[0;34m,\u001b[0m\u001b[0mj\u001b[0m\u001b[0;34m]\u001b[0m\u001b[0;34m\u001b[0m\u001b[0m\n\u001b[1;32m     25\u001b[0m         \u001b[0mnp\u001b[0m\u001b[0;34m.\u001b[0m\u001b[0msave\u001b[0m\u001b[0;34m(\u001b[0m\u001b[0;34m'data/{}'\u001b[0m\u001b[0;34m.\u001b[0m\u001b[0mformat\u001b[0m\u001b[0;34m(\u001b[0m\u001b[0mname\u001b[0m\u001b[0;34m)\u001b[0m\u001b[0;34m,\u001b[0m \u001b[0mK\u001b[0m\u001b[0;34m)\u001b[0m\u001b[0;34m\u001b[0m\u001b[0m\n",
      "\u001b[0;32m<ipython-input-1-8487e084acb2>\u001b[0m in \u001b[0;36mcompare_two_seq\u001b[0;34m(s1, s2, a, b)\u001b[0m\n\u001b[1;32m      6\u001b[0m         \u001b[0mresk\u001b[0m \u001b[0;34m=\u001b[0m \u001b[0;36m0\u001b[0m\u001b[0;34m\u001b[0m\u001b[0m\n\u001b[1;32m      7\u001b[0m         \u001b[0;32mfor\u001b[0m \u001b[0mi\u001b[0m \u001b[0;32min\u001b[0m \u001b[0mrange\u001b[0m\u001b[0;34m(\u001b[0m\u001b[0mn\u001b[0m\u001b[0;34m-\u001b[0m\u001b[0mk\u001b[0m\u001b[0;34m+\u001b[0m\u001b[0;36m1\u001b[0m\u001b[0;34m)\u001b[0m\u001b[0;34m:\u001b[0m\u001b[0;34m\u001b[0m\u001b[0m\n\u001b[0;32m----> 8\u001b[0;31m             \u001b[0;32mif\u001b[0m \u001b[0;34m(\u001b[0m\u001b[0ms1\u001b[0m\u001b[0;34m[\u001b[0m\u001b[0mi\u001b[0m\u001b[0;34m:\u001b[0m\u001b[0mi\u001b[0m\u001b[0;34m+\u001b[0m\u001b[0mk\u001b[0m\u001b[0;34m]\u001b[0m\u001b[0;34m==\u001b[0m\u001b[0ms2\u001b[0m\u001b[0;34m[\u001b[0m\u001b[0mi\u001b[0m\u001b[0;34m:\u001b[0m\u001b[0mi\u001b[0m\u001b[0;34m+\u001b[0m\u001b[0mk\u001b[0m\u001b[0;34m]\u001b[0m\u001b[0;34m)\u001b[0m\u001b[0;34m:\u001b[0m\u001b[0;34m\u001b[0m\u001b[0m\n\u001b[0m\u001b[1;32m      9\u001b[0m                 \u001b[0mresk\u001b[0m \u001b[0;34m+=\u001b[0m\u001b[0;36m1\u001b[0m\u001b[0;34m\u001b[0m\u001b[0m\n\u001b[1;32m     10\u001b[0m         \u001b[0mbeta_k\u001b[0m \u001b[0;34m=\u001b[0m \u001b[0;36m2\u001b[0m\u001b[0;34m*\u001b[0m\u001b[0;34m(\u001b[0m\u001b[0mn\u001b[0m\u001b[0;34m-\u001b[0m\u001b[0mk\u001b[0m\u001b[0;34m+\u001b[0m\u001b[0;36m1\u001b[0m\u001b[0;34m)\u001b[0m\u001b[0;34m/\u001b[0m\u001b[0;34m(\u001b[0m\u001b[0mn\u001b[0m\u001b[0;34m*\u001b[0m\u001b[0;34m(\u001b[0m\u001b[0mn\u001b[0m\u001b[0;34m+\u001b[0m\u001b[0;36m1\u001b[0m\u001b[0;34m)\u001b[0m\u001b[0;34m)\u001b[0m\u001b[0;34m\u001b[0m\u001b[0m\n",
      "\u001b[0;31mKeyboardInterrupt\u001b[0m: "
     ]
    }
   ],
   "source": [
    "K = weighted_degree_kernel(X,3,4,\"a\")"
   ]
  },
  {
   "cell_type": "code",
   "execution_count": 26,
   "metadata": {
    "collapsed": true
   },
   "outputs": [],
   "source": [
    "np.save('data/weighted_degree_kernel_3kmers', K)"
   ]
  },
  {
   "cell_type": "code",
   "execution_count": 169,
   "metadata": {
    "collapsed": false
   },
   "outputs": [],
   "source": [
    "K = np.load('data/weighted_degree_kernel.npy')"
   ]
  },
  {
   "cell_type": "code",
   "execution_count": null,
   "metadata": {
    "collapsed": true
   },
   "outputs": [],
   "source": [
    "## normalize K (http://qwone.com/~jason/writing/normalizeKernel.pdf)"
   ]
  },
  {
   "cell_type": "code",
   "execution_count": 35,
   "metadata": {
    "collapsed": false
   },
   "outputs": [],
   "source": [
    "k = 1/np.sqrt(np.diag(K))"
   ]
  },
  {
   "cell_type": "code",
   "execution_count": 44,
   "metadata": {
    "collapsed": false
   },
   "outputs": [],
   "source": [
    "K = K*(np.outer(k,k))"
   ]
  },
  {
   "cell_type": "markdown",
   "metadata": {},
   "source": [
    "### Kernel ridge regression (KRR)"
   ]
  },
  {
   "cell_type": "code",
   "execution_count": 50,
   "metadata": {
    "collapsed": true
   },
   "outputs": [],
   "source": [
    "import scipy\n",
    "def KRR(K, y, l=0.1):\n",
    "    A = K + l * len(K)*np.eye(len(K))\n",
    "    return scipy.linalg.solve(A, y, sym_pos=True)"
   ]
  },
  {
   "cell_type": "markdown",
   "metadata": {},
   "source": [
    "### SVM (dual formulation)"
   ]
  },
  {
   "cell_type": "code",
   "execution_count": 51,
   "metadata": {
    "collapsed": false
   },
   "outputs": [],
   "source": [
    "from scipy.optimize import minimize\n",
    "\n",
    "class SVM(object):\n",
    "    \n",
    "    def __init__(self, K, y, lmbd, x0=None):\n",
    "        self.K = K\n",
    "        self.y = y\n",
    "        self.lmbd = lmbd\n",
    "        self.yy = np.diag(self.y)\n",
    "        self.B = np.dot(self.yy,np.dot(self.K,self.yy))\n",
    "        if x0 is None:\n",
    "            self.x0 = np.zeros_like(y)\n",
    "        else:\n",
    "            self.x0=x0\n",
    "    def loss(self,mu):\n",
    "        return -np.sum(mu)+1/(4*self.lmbd)*np.dot(mu.T,np.dot(self.B,mu))\n",
    "\n",
    "    def loss_der(self,mu):\n",
    "        return -np.ones_like(mu) + 1/(2*self.lmbd)*np.dot(self.B,mu)\n",
    "\n",
    "   \n",
    "    def solve(self):\n",
    "        \n",
    "        cons = ({'type':'ineq',\n",
    "            'fun':lambda mu: -mu,\n",
    "            'jac':lambda mu: -np.eye(len(mu))},\n",
    "            {'type':'ineq',\n",
    "            'fun':lambda mu: mu - np.ones_like(mu)/len(mu),\n",
    "            'jac':lambda mu: np.eye(len(mu))}\n",
    "            )\n",
    "        \n",
    "        \n",
    "        res = minimize(self.loss, self.x0, jac=self.loss_der, \n",
    "                       constraints=cons, method='SLSQP', options={'disp': True}, tol=1e-4)\n",
    "        \n",
    "        \n",
    "        return np.dot(self.yy,res.x)/(2*self.lmbd)"
   ]
  },
  {
   "cell_type": "markdown",
   "metadata": {},
   "source": [
    "## little tests"
   ]
  },
  {
   "cell_type": "markdown",
   "metadata": {},
   "source": [
    "##### fake data"
   ]
  },
  {
   "cell_type": "code",
   "execution_count": 25,
   "metadata": {
    "collapsed": false
   },
   "outputs": [
    {
     "data": {
      "image/png": "[encoded data removed]",
      "text/plain": [
       "<matplotlib.figure.Figure at 0x106be0080>"
      ]
     },
     "metadata": {},
     "output_type": "display_data"
    }
   ],
   "source": [
    "%matplotlib inline\n",
    "import matplotlib.pyplot as plt\n",
    "import random\n",
    "\n",
    "def fake_sinus(x, norm = 1):\n",
    "    data = []\n",
    "    for i in range(len(x)):\n",
    "        a = random.random()/norm\n",
    "        data.append(np.cos(x[i])+a)\n",
    "    return data\n",
    "\n",
    "x = np.arange(0,20, 0.01)\n",
    "plt.plot(x, fake_sinus(x, norm = 2))\n",
    "plt.show()\n"
   ]
  },
  {
   "cell_type": "code",
   "execution_count": 26,
   "metadata": {
    "collapsed": false
   },
   "outputs": [],
   "source": [
    "data = np.array([[i,fake_sinus([i], norm = 2)[0]] for i in np.arange(0,20, 0.01)])"
   ]
  },
  {
   "cell_type": "code",
   "execution_count": 27,
   "metadata": {
    "collapsed": false,
    "scrolled": false
   },
   "outputs": [],
   "source": [
    "X = data[:,0]\n",
    "X = X[:,None]\n",
    "Y = data[:,1]"
   ]
  },
  {
   "cell_type": "code",
   "execution_count": 28,
   "metadata": {
    "collapsed": true
   },
   "outputs": [],
   "source": [
    "X_centered = (X - np.mean(X))/np.std(X)"
   ]
  },
  {
   "cell_type": "code",
   "execution_count": 29,
   "metadata": {
    "collapsed": false
   },
   "outputs": [],
   "source": [
    "K = gaussian_kernel_matrix(X)\n",
    "K_centered = gaussian_kernel_matrix(X_centered)"
   ]
  },
  {
   "cell_type": "markdown",
   "metadata": {},
   "source": [
    "##### testing KRR"
   ]
  },
  {
   "cell_type": "code",
   "execution_count": 30,
   "metadata": {
    "collapsed": false
   },
   "outputs": [],
   "source": [
    "alpha = KRR(K, Y,l=0.001)"
   ]
  },
  {
   "cell_type": "code",
   "execution_count": 31,
   "metadata": {
    "collapsed": true
   },
   "outputs": [],
   "source": [
    "y_pred = np.dot(K,alpha)"
   ]
  },
  {
   "cell_type": "code",
   "execution_count": 38,
   "metadata": {
    "collapsed": false,
    "scrolled": false
   },
   "outputs": [
    {
     "data": {
      "image/png": "[encoded data removed]",
      "text/plain": [
       "<matplotlib.figure.Figure at 0x10f11f390>"
      ]
     },
     "metadata": {},
     "output_type": "display_data"
    }
   ],
   "source": [
    "plt.plot(X,y_pred, color='red',lw=10)\n",
    "plt.plot(X, Y, color=\"blue\")\n",
    "plt.show()"
   ]
  },
  {
   "cell_type": "markdown",
   "metadata": {},
   "source": [
    "##### testing SVM"
   ]
  },
  {
   "cell_type": "code",
   "execution_count": null,
   "metadata": {
    "collapsed": false
   },
   "outputs": [],
   "source": [
    "svm = SVM(K,Y,0.1,x0=np.ones_like(Y)/(2*len(Y)))"
   ]
  },
  {
   "cell_type": "code",
   "execution_count": null,
   "metadata": {
    "collapsed": false
   },
   "outputs": [],
   "source": [
    "alpha = svm.solve()"
   ]
  },
  {
   "cell_type": "code",
   "execution_count": 23,
   "metadata": {
    "collapsed": false
   },
   "outputs": [],
   "source": [
    "y_pred = np.dot(K,alpha)"
   ]
  },
  {
   "cell_type": "code",
   "execution_count": 24,
   "metadata": {
    "collapsed": false,
    "scrolled": true
   },
   "outputs": [
    {
     "data": {
      "image/png": "[encoded data removed]",
      "text/plain": [
       "<matplotlib.figure.Figure at 0x10f08e5c0>"
      ]
     },
     "metadata": {},
     "output_type": "display_data"
    }
   ],
   "source": [
    "plt.plot(X,y_pred, color='red')\n",
    "plt.plot(X, Y, color=\"blue\")\n",
    "plt.show()"
   ]
  },
  {
   "cell_type": "markdown",
   "metadata": {},
   "source": [
    "### BIG tests"
   ]
  },
  {
   "cell_type": "code",
   "execution_count": 52,
   "metadata": {
    "collapsed": false,
    "scrolled": false
   },
   "outputs": [
    {
     "name": "stdout",
     "output_type": "stream",
     "text": [
      "----\n",
      "lambda = 0.005, limit=0.5\n",
      "testing error : \n",
      "0.515\n",
      "training error : \n",
      "0.473125\n",
      "----\n",
      "lambda = 0.01, limit=0.5\n",
      "testing error : \n",
      "0.515\n",
      "training error : \n",
      "0.49625\n",
      "----\n",
      "lambda = 0.1, limit=0.5\n",
      "testing error : \n",
      "0.515\n",
      "training error : \n",
      "0.49625\n"
     ]
    }
   ],
   "source": [
    "K1 = K[:1600,:1600]\n",
    "K_test = K[1600:,:1600]\n",
    "for l in [0.005,0.01,0.1]:\n",
    "    alpha = KRR(K1, Y_train, l=l)\n",
    "    y_pred_test = np.dot(K_test,alpha)\n",
    "    y_pred_train = np.dot(K1,alpha)\n",
    "    for limit in [0.5]:\n",
    "\n",
    "        y_pred_final = 1*(y_pred_test > limit)\n",
    "        print('----')\n",
    "        print('lambda = {}, limit={}'.format(l,limit))\n",
    "        print('testing error : ')\n",
    "        print(np.mean(np.abs(y_pred_final-Y_test)))\n",
    "        y_pred_final = 1*(y_pred_train > limit)\n",
    "        print('training error : ')\n",
    "        print(np.mean(np.abs(y_pred_final-Y_train)))"
   ]
  },
  {
   "cell_type": "code",
   "execution_count": 53,
   "metadata": {
    "collapsed": false
   },
   "outputs": [
    {
     "data": {
      "text/plain": [
       "array([[ 1],\n",
       "       [-1],\n",
       "       [ 1],\n",
       "       ..., \n",
       "       [ 1],\n",
       "       [-1],\n",
       "       [-1]])"
      ]
     },
     "execution_count": 53,
     "metadata": {},
     "output_type": "execute_result"
    }
   ],
   "source": [
    "y"
   ]
  },
  {
   "cell_type": "code",
   "execution_count": 180,
   "metadata": {
    "collapsed": false,
    "scrolled": true
   },
   "outputs": [
    {
     "data": {
      "text/plain": [
       "array([[ 0.55256299],\n",
       "       [ 0.40926747],\n",
       "       [ 0.45330511],\n",
       "       ..., \n",
       "       [ 0.54678062],\n",
       "       [ 0.38023847],\n",
       "       [ 0.38376769]])"
      ]
     },
     "execution_count": 180,
     "metadata": {},
     "output_type": "execute_result"
    }
   ],
   "source": [
    "y_pred_train"
   ]
  },
  {
   "cell_type": "code",
   "execution_count": 181,
   "metadata": {
    "collapsed": false,
    "scrolled": false
   },
   "outputs": [
    {
     "data": {
      "text/plain": [
       "array([[ 0.45656274],\n",
       "       [ 0.51914205],\n",
       "       [ 0.4511536 ],\n",
       "       [ 0.41052458],\n",
       "       [ 0.43074353],\n",
       "       [ 0.48637569],\n",
       "       [ 0.50182409],\n",
       "       [ 0.47030682],\n",
       "       [ 0.430444  ],\n",
       "       [ 0.45005456],\n",
       "       [ 0.47660284],\n",
       "       [ 0.40533577],\n",
       "       [ 0.43023584],\n",
       "       [ 0.42243671],\n",
       "       [ 0.46825672],\n",
       "       [ 0.55859223],\n",
       "       [ 0.43019143],\n",
       "       [ 0.45850171],\n",
       "       [ 0.45282859],\n",
       "       [ 0.4292482 ],\n",
       "       [ 0.45734193],\n",
       "       [ 0.49894569],\n",
       "       [ 0.46610084],\n",
       "       [ 0.4596879 ],\n",
       "       [ 0.53982245],\n",
       "       [ 0.48152391],\n",
       "       [ 0.41286927],\n",
       "       [ 0.4908904 ],\n",
       "       [ 0.38549884],\n",
       "       [ 0.42115314],\n",
       "       [ 0.48399888],\n",
       "       [ 0.45027981],\n",
       "       [ 0.44617791],\n",
       "       [ 0.46605967],\n",
       "       [ 0.44282732],\n",
       "       [ 0.49322568],\n",
       "       [ 0.3993482 ],\n",
       "       [ 0.42745198],\n",
       "       [ 0.43436428],\n",
       "       [ 0.41864872],\n",
       "       [ 0.49044734],\n",
       "       [ 0.41761488],\n",
       "       [ 0.49473816],\n",
       "       [ 0.49450703],\n",
       "       [ 0.43839335],\n",
       "       [ 0.45315027],\n",
       "       [ 0.40584105],\n",
       "       [ 0.46559064],\n",
       "       [ 0.45347466],\n",
       "       [ 0.46646653],\n",
       "       [ 0.48505108],\n",
       "       [ 0.46409856],\n",
       "       [ 0.46188294],\n",
       "       [ 0.47398171],\n",
       "       [ 0.46489899],\n",
       "       [ 0.48414351],\n",
       "       [ 0.48473553],\n",
       "       [ 0.39629872],\n",
       "       [ 0.47736299],\n",
       "       [ 0.37646168],\n",
       "       [ 0.45848414],\n",
       "       [ 0.44912454],\n",
       "       [ 0.47874271],\n",
       "       [ 0.44729776],\n",
       "       [ 0.49078466],\n",
       "       [ 0.519889  ],\n",
       "       [ 0.4233405 ],\n",
       "       [ 0.4571221 ],\n",
       "       [ 0.43122906],\n",
       "       [ 0.42680457],\n",
       "       [ 0.48064034],\n",
       "       [ 0.41893887],\n",
       "       [ 0.43473774],\n",
       "       [ 0.44504939],\n",
       "       [ 0.49498182],\n",
       "       [ 0.45289237],\n",
       "       [ 0.55838781],\n",
       "       [ 0.38334414],\n",
       "       [ 0.44266353],\n",
       "       [ 0.43718439],\n",
       "       [ 0.40138437],\n",
       "       [ 0.4954208 ],\n",
       "       [ 0.41896732],\n",
       "       [ 0.45988466],\n",
       "       [ 0.48499017],\n",
       "       [ 0.41119717],\n",
       "       [ 0.41714315],\n",
       "       [ 0.48129405],\n",
       "       [ 0.48190915],\n",
       "       [ 0.42465861],\n",
       "       [ 0.43766939],\n",
       "       [ 0.43752897],\n",
       "       [ 0.48070578],\n",
       "       [ 0.40788498],\n",
       "       [ 0.46675467],\n",
       "       [ 0.44318753],\n",
       "       [ 0.42676782],\n",
       "       [ 0.45785265],\n",
       "       [ 0.45083566],\n",
       "       [ 0.46504316],\n",
       "       [ 0.41279894],\n",
       "       [ 0.49210797],\n",
       "       [ 0.44484031],\n",
       "       [ 0.41266277],\n",
       "       [ 0.45366041],\n",
       "       [ 0.47469526],\n",
       "       [ 0.48474295],\n",
       "       [ 0.46890754],\n",
       "       [ 0.44591407],\n",
       "       [ 0.49962096],\n",
       "       [ 0.51305646],\n",
       "       [ 0.44301031],\n",
       "       [ 0.45796816],\n",
       "       [ 0.43837273],\n",
       "       [ 0.43977357],\n",
       "       [ 0.40310227],\n",
       "       [ 0.47337741],\n",
       "       [ 0.45553597],\n",
       "       [ 0.44044622],\n",
       "       [ 0.51165013],\n",
       "       [ 0.46813826],\n",
       "       [ 0.40886666],\n",
       "       [ 0.45534875],\n",
       "       [ 0.43436878],\n",
       "       [ 0.43319156],\n",
       "       [ 0.44596838],\n",
       "       [ 0.42482185],\n",
       "       [ 0.44970726],\n",
       "       [ 0.50676153],\n",
       "       [ 0.43303433],\n",
       "       [ 0.4311271 ],\n",
       "       [ 0.46532779],\n",
       "       [ 0.46101588],\n",
       "       [ 0.47299735],\n",
       "       [ 0.50054677],\n",
       "       [ 0.4829526 ],\n",
       "       [ 0.49874371],\n",
       "       [ 0.42905443],\n",
       "       [ 0.48201638],\n",
       "       [ 0.4630362 ],\n",
       "       [ 0.3833098 ],\n",
       "       [ 0.42145286],\n",
       "       [ 0.4434711 ],\n",
       "       [ 0.43783402],\n",
       "       [ 0.46278579],\n",
       "       [ 0.5116951 ],\n",
       "       [ 0.46273896],\n",
       "       [ 0.44719333],\n",
       "       [ 0.47161479],\n",
       "       [ 0.41375059],\n",
       "       [ 0.42915823],\n",
       "       [ 0.54086589],\n",
       "       [ 0.46656791],\n",
       "       [ 0.46954103],\n",
       "       [ 0.44993598],\n",
       "       [ 0.46944382],\n",
       "       [ 0.46555807],\n",
       "       [ 0.4994595 ],\n",
       "       [ 0.48463157],\n",
       "       [ 0.40441456],\n",
       "       [ 0.51972939],\n",
       "       [ 0.49745524],\n",
       "       [ 0.41899903],\n",
       "       [ 0.44792161],\n",
       "       [ 0.43725875],\n",
       "       [ 0.49611595],\n",
       "       [ 0.45074309],\n",
       "       [ 0.44679932],\n",
       "       [ 0.47483112],\n",
       "       [ 0.49160234],\n",
       "       [ 0.47866912],\n",
       "       [ 0.4649133 ],\n",
       "       [ 0.48391391],\n",
       "       [ 0.47244235],\n",
       "       [ 0.41547053],\n",
       "       [ 0.42644611],\n",
       "       [ 0.4762761 ],\n",
       "       [ 0.447846  ],\n",
       "       [ 0.48479108],\n",
       "       [ 0.49421657],\n",
       "       [ 0.49714259],\n",
       "       [ 0.48421973],\n",
       "       [ 0.4801919 ],\n",
       "       [ 0.46022163],\n",
       "       [ 0.37896822],\n",
       "       [ 0.43579912],\n",
       "       [ 0.44515394],\n",
       "       [ 0.42547503],\n",
       "       [ 0.49840767],\n",
       "       [ 0.42519736],\n",
       "       [ 0.49983462],\n",
       "       [ 0.55544179],\n",
       "       [ 0.44348688],\n",
       "       [ 0.44451152],\n",
       "       [ 0.48924881],\n",
       "       [ 0.47837631],\n",
       "       [ 0.44580086],\n",
       "       [ 0.45560096],\n",
       "       [ 0.49833403],\n",
       "       [ 0.49463372],\n",
       "       [ 0.4676839 ],\n",
       "       [ 0.47981272],\n",
       "       [ 0.48448004],\n",
       "       [ 0.47205956],\n",
       "       [ 0.36608892],\n",
       "       [ 0.53417741],\n",
       "       [ 0.47357424],\n",
       "       [ 0.44369398],\n",
       "       [ 0.45691376],\n",
       "       [ 0.54760628],\n",
       "       [ 0.398997  ],\n",
       "       [ 0.50123704],\n",
       "       [ 0.53424447],\n",
       "       [ 0.50629756],\n",
       "       [ 0.44911915],\n",
       "       [ 0.42147826],\n",
       "       [ 0.44487297],\n",
       "       [ 0.43804208],\n",
       "       [ 0.50858578],\n",
       "       [ 0.4975936 ],\n",
       "       [ 0.42545612],\n",
       "       [ 0.43224696],\n",
       "       [ 0.41570567],\n",
       "       [ 0.4412647 ],\n",
       "       [ 0.47483268],\n",
       "       [ 0.44369343],\n",
       "       [ 0.42882192],\n",
       "       [ 0.43640856],\n",
       "       [ 0.52650218],\n",
       "       [ 0.50594922],\n",
       "       [ 0.47667327],\n",
       "       [ 0.42781956],\n",
       "       [ 0.41568772],\n",
       "       [ 0.51501102],\n",
       "       [ 0.46107223],\n",
       "       [ 0.44160926],\n",
       "       [ 0.49336407],\n",
       "       [ 0.47041969],\n",
       "       [ 0.42288773],\n",
       "       [ 0.45661981],\n",
       "       [ 0.47981857],\n",
       "       [ 0.43189077],\n",
       "       [ 0.55025939],\n",
       "       [ 0.4749731 ],\n",
       "       [ 0.4756435 ],\n",
       "       [ 0.48627127],\n",
       "       [ 0.39442328],\n",
       "       [ 0.46348284],\n",
       "       [ 0.41685249],\n",
       "       [ 0.49345416],\n",
       "       [ 0.41874221],\n",
       "       [ 0.41275467],\n",
       "       [ 0.47893726],\n",
       "       [ 0.47290423],\n",
       "       [ 0.49053039],\n",
       "       [ 0.48729101],\n",
       "       [ 0.37799016],\n",
       "       [ 0.46146855],\n",
       "       [ 0.45728249],\n",
       "       [ 0.43499669],\n",
       "       [ 0.4668663 ],\n",
       "       [ 0.48610123],\n",
       "       [ 0.48000318],\n",
       "       [ 0.42896336],\n",
       "       [ 0.45124926],\n",
       "       [ 0.4961547 ],\n",
       "       [ 0.46940099],\n",
       "       [ 0.4502803 ],\n",
       "       [ 0.46906407],\n",
       "       [ 0.44201179],\n",
       "       [ 0.46000126],\n",
       "       [ 0.45627235],\n",
       "       [ 0.4742746 ],\n",
       "       [ 0.45860167],\n",
       "       [ 0.43570992],\n",
       "       [ 0.42331668],\n",
       "       [ 0.49693748],\n",
       "       [ 0.46275013],\n",
       "       [ 0.45497364],\n",
       "       [ 0.45051827],\n",
       "       [ 0.43972871],\n",
       "       [ 0.44108838],\n",
       "       [ 0.49133311],\n",
       "       [ 0.46775481],\n",
       "       [ 0.43998302],\n",
       "       [ 0.3809081 ],\n",
       "       [ 0.46312946],\n",
       "       [ 0.46023892],\n",
       "       [ 0.46860237],\n",
       "       [ 0.51616224],\n",
       "       [ 0.50017881],\n",
       "       [ 0.44857671],\n",
       "       [ 0.44898489],\n",
       "       [ 0.43825558],\n",
       "       [ 0.48556301],\n",
       "       [ 0.46531553],\n",
       "       [ 0.50220184],\n",
       "       [ 0.38229198],\n",
       "       [ 0.47843312],\n",
       "       [ 0.401659  ],\n",
       "       [ 0.46402765],\n",
       "       [ 0.4470759 ],\n",
       "       [ 0.48820811],\n",
       "       [ 0.51166739],\n",
       "       [ 0.49827823],\n",
       "       [ 0.50422762],\n",
       "       [ 0.49762966],\n",
       "       [ 0.3720645 ],\n",
       "       [ 0.55591621],\n",
       "       [ 0.39669615],\n",
       "       [ 0.48717881],\n",
       "       [ 0.41956013],\n",
       "       [ 0.40735839],\n",
       "       [ 0.46506368],\n",
       "       [ 0.44292406],\n",
       "       [ 0.44430486],\n",
       "       [ 0.43769182],\n",
       "       [ 0.52391948],\n",
       "       [ 0.49065755],\n",
       "       [ 0.44172502],\n",
       "       [ 0.46348707],\n",
       "       [ 0.43886444],\n",
       "       [ 0.48074854],\n",
       "       [ 0.54524031],\n",
       "       [ 0.41339693],\n",
       "       [ 0.46929278],\n",
       "       [ 0.45485206],\n",
       "       [ 0.44388085],\n",
       "       [ 0.51463226],\n",
       "       [ 0.48012912],\n",
       "       [ 0.45561564],\n",
       "       [ 0.42281483],\n",
       "       [ 0.43072875],\n",
       "       [ 0.45105364],\n",
       "       [ 0.49643116],\n",
       "       [ 0.4647418 ],\n",
       "       [ 0.4090753 ],\n",
       "       [ 0.44882639],\n",
       "       [ 0.5267651 ],\n",
       "       [ 0.45959831],\n",
       "       [ 0.49428406],\n",
       "       [ 0.49157983],\n",
       "       [ 0.39180129],\n",
       "       [ 0.42369438],\n",
       "       [ 0.45714959],\n",
       "       [ 0.397664  ],\n",
       "       [ 0.41178711],\n",
       "       [ 0.47387075],\n",
       "       [ 0.45209792],\n",
       "       [ 0.47974629],\n",
       "       [ 0.47508442],\n",
       "       [ 0.42332137],\n",
       "       [ 0.51400727],\n",
       "       [ 0.49184666],\n",
       "       [ 0.50430635],\n",
       "       [ 0.45711536],\n",
       "       [ 0.45553782],\n",
       "       [ 0.53333849],\n",
       "       [ 0.46291084],\n",
       "       [ 0.44096694],\n",
       "       [ 0.47099998],\n",
       "       [ 0.47718627],\n",
       "       [ 0.4836877 ],\n",
       "       [ 0.51680351],\n",
       "       [ 0.48591774],\n",
       "       [ 0.38975138],\n",
       "       [ 0.46260128],\n",
       "       [ 0.4559194 ],\n",
       "       [ 0.44413949],\n",
       "       [ 0.5143899 ],\n",
       "       [ 0.41779607],\n",
       "       [ 0.46943655],\n",
       "       [ 0.41857616],\n",
       "       [ 0.52883526],\n",
       "       [ 0.49502584],\n",
       "       [ 0.43753448],\n",
       "       [ 0.45604745],\n",
       "       [ 0.49618141],\n",
       "       [ 0.41689896],\n",
       "       [ 0.47174381],\n",
       "       [ 0.47678567],\n",
       "       [ 0.44503362],\n",
       "       [ 0.42817708],\n",
       "       [ 0.43809418],\n",
       "       [ 0.48060902],\n",
       "       [ 0.4868645 ],\n",
       "       [ 0.47818404],\n",
       "       [ 0.45038599],\n",
       "       [ 0.43802428],\n",
       "       [ 0.47702634],\n",
       "       [ 0.49057453],\n",
       "       [ 0.47016237],\n",
       "       [ 0.42747206],\n",
       "       [ 0.46697229],\n",
       "       [ 0.47271576],\n",
       "       [ 0.4074476 ],\n",
       "       [ 0.45168042],\n",
       "       [ 0.41422564],\n",
       "       [ 0.40475739],\n",
       "       [ 0.43443466]])"
      ]
     },
     "execution_count": 181,
     "metadata": {},
     "output_type": "execute_result"
    }
   ],
   "source": [
    "y_pred_test"
   ]
  },
  {
   "cell_type": "code",
   "execution_count": 3,
   "metadata": {
    "collapsed": false
   },
   "outputs": [
    {
     "ename": "NameError",
     "evalue": "name 'Y' is not defined",
     "output_type": "error",
     "traceback": [
      "\u001b[0;31m---------------------------------------------------------------------------\u001b[0m",
      "\u001b[0;31mNameError\u001b[0m                                 Traceback (most recent call last)",
      "\u001b[0;32m<ipython-input-3-f8caf16cb8f9>\u001b[0m in \u001b[0;36m<module>\u001b[0;34m()\u001b[0m\n\u001b[0;32m----> 1\u001b[0;31m \u001b[0mY\u001b[0m\u001b[0;34m\u001b[0m\u001b[0m\n\u001b[0m",
      "\u001b[0;31mNameError\u001b[0m: name 'Y' is not defined"
     ]
    }
   ],
   "source": [
    "Y"
   ]
  },
  {
   "cell_type": "code",
   "execution_count": null,
   "metadata": {
    "collapsed": true
   },
   "outputs": [],
   "source": []
  }
 ],
 "metadata": {
  "anaconda-cloud": {},
  "kernelspec": {
   "display_name": "Python [Root]",
   "language": "python",
   "name": "Python [Root]"
  },
  "language_info": {
   "codemirror_mode": {
    "name": "ipython",
    "version": 3
   },
   "file_extension": ".py",
   "mimetype": "text/x-python",
   "name": "python",
   "nbconvert_exporter": "python",
   "pygments_lexer": "ipython3",
   "version": "3.5.2"
  }
 },
 "nbformat": 4,
 "nbformat_minor": 0
}
